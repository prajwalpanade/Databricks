{
 "cells": [
  {
   "cell_type": "code",
   "execution_count": 0,
   "metadata": {
    "application/vnd.databricks.v1+cell": {
     "cellMetadata": {
      "byteLimit": 2048000,
      "rowLimit": 10000
     },
     "inputWidgets": {},
     "nuid": "7bbfb067-d89a-42fd-910e-1ab327e319a7",
     "showTitle": false,
     "tableResultSettingsMap": {},
     "title": ""
    }
   },
   "outputs": [],
   "source": [
    "# Import necessary functions and types\n",
    "from pyspark.sql import functions as F\n",
    "from pyspark.sql.types import *\n",
    "from delta.tables import DeltaTable\n",
    "from pyspark.sql.functions import monotonically_increasing_id\n",
    "from pyspark.sql.window import Window\n",
    "from pyspark.sql.functions import col, count\n",
    "from pyspark.sql.functions import row_number, lit, current_timestamp\n",
    "from pyspark.sql.window import Window\n",
    "from delta.tables import DeltaTable\n",
    "from pyspark.sql.functions import coalesce, max, lit, col, current_timestamp\n",
    "from pyspark.sql.window import Window\n",
    "from delta.tables import DeltaTable\n",
    "from pyspark.sql.functions import coalesce, max, lit, row_number, col, current_timestamp\n",
    "from pyspark.sql.window import Window\n",
    "from delta.tables import DeltaTable"
   ]
  },
  {
   "cell_type": "code",
   "execution_count": 0,
   "metadata": {
    "application/vnd.databricks.v1+cell": {
     "cellMetadata": {
      "byteLimit": 2048000,
      "rowLimit": 10000
     },
     "inputWidgets": {},
     "nuid": "8c26a686-d9de-4879-bf85-54a913ff5cf3",
     "showTitle": false,
     "tableResultSettingsMap": {},
     "title": ""
    }
   },
   "outputs": [],
   "source": [
    "silver_path = \"/mnt/mock_prajwal/Mock2/silver/\"\n",
    "gold_path = \"/mnt/mock_prajwal/Mock2/gold/\""
   ]
  },
  {
   "cell_type": "code",
   "execution_count": 0,
   "metadata": {
    "application/vnd.databricks.v1+cell": {
     "cellMetadata": {
      "byteLimit": 2048000,
      "rowLimit": 10000
     },
     "inputWidgets": {},
     "nuid": "b051de64-5e09-4cfb-8492-e2e404875498",
     "showTitle": false,
     "tableResultSettingsMap": {},
     "title": ""
    }
   },
   "outputs": [],
   "source": [
    "df = spark.read.format(\"delta\").load(silver_path + \"FF_Customer_Details_Day0\")\n",
    "df.printSchema()"
   ]
  },
  {
   "cell_type": "code",
   "execution_count": 0,
   "metadata": {
    "application/vnd.databricks.v1+cell": {
     "cellMetadata": {
      "byteLimit": 2048000,
      "rowLimit": 10000
     },
     "inputWidgets": {},
     "nuid": "2f758ee3-c48f-4298-84d8-8d5b3374a72c",
     "showTitle": false,
     "tableResultSettingsMap": {},
     "title": ""
    }
   },
   "outputs": [],
   "source": [
    "product_dim = spark.read.format(\"delta\").load(\"/mnt/mock_prajwal/Mock2/gold/Dim_Product\")\n",
    "customer_dim = spark.read.format(\"delta\").load(\"/mnt/mock_prajwal/Mock2/gold/Dim_customer\")\n",
    "sales_dim = spark.read.format(\"delta\").load(\"/mnt/mock_prajwal/Mock2/gold/Dim_Sales_rep\")"
   ]
  },
  {
   "cell_type": "code",
   "execution_count": 0,
   "metadata": {
    "application/vnd.databricks.v1+cell": {
     "cellMetadata": {
      "byteLimit": 2048000,
      "rowLimit": 10000
     },
     "inputWidgets": {},
     "nuid": "69354c44-e362-4bc4-ac43-a7831e35a783",
     "showTitle": false,
     "tableResultSettingsMap": {},
     "title": ""
    }
   },
   "outputs": [],
   "source": [
    "fact_df = df.join(customer_dim.select(\"customer_id\", \"customer_key\"), on=\"customer_id\", how=\"left\").join(product_dim.select(\"product_name\", \"product_key\"), on=\"product_name\", how=\"left\").join(sales_dim.select(\"sales_rep_id\", \"sales_rep_key\"), on=\"sales_rep_id\", how=\"left\")\n",
    "\n",
    "display(fact_df)"
   ]
  },
  {
   "cell_type": "code",
   "execution_count": 0,
   "metadata": {
    "application/vnd.databricks.v1+cell": {
     "cellMetadata": {
      "byteLimit": 2048000,
      "rowLimit": 10000
     },
     "inputWidgets": {},
     "nuid": "7e069a27-c474-4c0d-bea1-459bf0b8f1d5",
     "showTitle": false,
     "tableResultSettingsMap": {},
     "title": ""
    }
   },
   "outputs": [],
   "source": [
    "fact_df = fact_df.select(\n",
    "    \"order_id\",\n",
    "    \"order_date\",\n",
    "    \"ship_date\",\n",
    "    \"profit\",\n",
    "    \"quantity_ordered_new\",\n",
    "    \"sales\",\n",
    "    \"discount\",\n",
    "    \"unit_price\",\n",
    "    \"shipping_cost\",\n",
    "    \"product_base_margin\",\n",
    "    \"customer_id\",\n",
    "    \"product_name\",\n",
    "    \"sales_rep_id\"\n",
    ")\n",
    "\n",
    "display(fact_df)"
   ]
  },
  {
   "cell_type": "code",
   "execution_count": 0,
   "metadata": {
    "application/vnd.databricks.v1+cell": {
     "cellMetadata": {
      "byteLimit": 2048000,
      "rowLimit": 10000
     },
     "inputWidgets": {},
     "nuid": "f1889d0b-f17b-4cda-a0a3-e3b522eb3924",
     "showTitle": false,
     "tableResultSettingsMap": {},
     "title": ""
    }
   },
   "outputs": [],
   "source": [
    "from pyspark.sql.types import StructType, StructField, StringType, IntegerType, DoubleType, DateType\n",
    "\n",
    "schema = StructType([\n",
    "    StructField(\"order_id\", IntegerType(), True),\n",
    "    StructField(\"order_date\", StringType(), True),\n",
    "    StructField(\"ship_date\", DateType(), True),\n",
    "    StructField(\"profit\", DoubleType(), True),\n",
    "    StructField(\"quantity_ordered_new\", IntegerType(), True),\n",
    "    StructField(\"sales\", DoubleType(), True),\n",
    "    StructField(\"discount\", DoubleType(), True),\n",
    "    StructField(\"unit_price\", DoubleType(), True),\n",
    "    StructField(\"shipping_cost\", DoubleType(), True),\n",
    "    StructField(\"product_base_margin\", DoubleType(), True),\n",
    "    StructField(\"customer_id\", IntegerType(), True),\n",
    "    StructField(\"product_name\", StringType(), True),\n",
    "    StructField(\"sales_rep_id\", IntegerType(), True)\n",
    "])\n",
    "\n",
    "# Create the table if it does not exist\n",
    "spark.sql(\"\"\"\n",
    "    CREATE TABLE IF NOT EXISTS Prajwal_Mock.Fact_table (\n",
    "        order_id INT,\n",
    "        order_date STRING,\n",
    "        ship_date DATE,\n",
    "        profit DOUBLE,\n",
    "        quantity_ordered_new INT,\n",
    "        sales DOUBLE,\n",
    "        discount DOUBLE,\n",
    "        unit_price DOUBLE,\n",
    "        shipping_cost DOUBLE,\n",
    "        product_base_margin DOUBLE,\n",
    "        customer_id INT,\n",
    "        product_name STRING,\n",
    "        sales_rep_id INT\n",
    "    )\n",
    "    USING DELTA \n",
    "    LOCATION \"/mnt/mock_prajwal/Mock2/gold/Fact\"\n",
    "\"\"\")"
   ]
  },
  {
   "cell_type": "code",
   "execution_count": 0,
   "metadata": {
    "application/vnd.databricks.v1+cell": {
     "cellMetadata": {
      "byteLimit": 2048000,
      "rowLimit": 10000
     },
     "inputWidgets": {},
     "nuid": "70185712-df7d-4fb4-84e8-e3bd32c50786",
     "showTitle": false,
     "tableResultSettingsMap": {},
     "title": ""
    }
   },
   "outputs": [],
   "source": [
    "fact_df.write.format(\"delta\").mode(\"append\").option(\"mergeSchema\", \"true\").save(\"/mnt/mock_prajwal/Mock2/gold/Fact\")"
   ]
  },
  {
   "cell_type": "code",
   "execution_count": 0,
   "metadata": {
    "application/vnd.databricks.v1+cell": {
     "cellMetadata": {
      "byteLimit": 2048000,
      "rowLimit": 10000
     },
     "inputWidgets": {},
     "nuid": "8a3d59e3-6df8-4a38-845f-9aeefd0e2435",
     "showTitle": false,
     "tableResultSettingsMap": {},
     "title": ""
    }
   },
   "outputs": [],
   "source": [
    "# Count records in the gold layer\n",
    "gold_count = fact_df.count()\n",
    "\n",
    "# Assuming silver layer is stored in a DataFrame named silver_df\n",
    "silver_df = spark.read.format(\"delta\").load(silver_path + \"FF_Customer_Details_Day0\")\n",
    "silver_count = silver_df.count()\n",
    "\n",
    "# Display counts\n",
    "display(spark.createDataFrame([(silver_count, gold_count)], [\"Silver Layer Count\", \"Gold Layer Count\"]))"
   ]
  }
 ],
 "metadata": {
  "application/vnd.databricks.v1+notebook": {
   "computePreferences": null,
   "dashboards": [],
   "environmentMetadata": {
    "base_environment": "",
    "environment_version": "2"
   },
   "inputWidgetPreferences": null,
   "language": "python",
   "notebookMetadata": {
    "pythonIndentUnit": 4
   },
   "notebookName": "Fact",
   "widgets": {}
  },
  "language_info": {
   "name": "python"
  }
 },
 "nbformat": 4,
 "nbformat_minor": 0
}
