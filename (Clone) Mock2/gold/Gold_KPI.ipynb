{
 "cells": [
  {
   "cell_type": "markdown",
   "metadata": {
    "application/vnd.databricks.v1+cell": {
     "cellMetadata": {},
     "inputWidgets": {},
     "nuid": "9b9ac183-16a5-436c-8139-b558d4ea411c",
     "showTitle": false,
     "tableResultSettingsMap": {},
     "title": ""
    }
   },
   "source": [
    "# KPIS"
   ]
  },
  {
   "cell_type": "code",
   "execution_count": 0,
   "metadata": {
    "application/vnd.databricks.v1+cell": {
     "cellMetadata": {
      "byteLimit": 2048000,
      "rowLimit": 10000
     },
     "inputWidgets": {},
     "nuid": "4234e61a-0a5b-4f03-bc92-79fc295f4f7f",
     "showTitle": false,
     "tableResultSettingsMap": {},
     "title": ""
    }
   },
   "outputs": [],
   "source": [
    "cus_dim = spark.read.format(\"delta\").load(\"/mnt/mock_prajwal/Mock2/gold/Dim_Customer\")\n",
    "prod_dim = spark.sql(\"select * from Prajwal_Mock.Dim_Product\")\n",
    "sales_dim = spark.sql(\"select * from Prajwal_Mock.Dim_Sales_Rep\")\n",
    "fact = spark.sql(\"select * from Prajwal_Mock.Fact_table\")"
   ]
  },
  {
   "cell_type": "code",
   "execution_count": 0,
   "metadata": {
    "application/vnd.databricks.v1+cell": {
     "cellMetadata": {
      "byteLimit": 2048000,
      "rowLimit": 10000
     },
     "inputWidgets": {},
     "nuid": "140476cf-01f1-4e9c-b84f-2bd4ada950ce",
     "showTitle": false,
     "tableResultSettingsMap": {},
     "title": ""
    }
   },
   "outputs": [],
   "source": [
    "display(cus_dim)\n",
    "display(prod_dim)\n",
    "display(sales_dim)\n",
    "display(fact)"
   ]
  },
  {
   "cell_type": "code",
   "execution_count": 0,
   "metadata": {
    "application/vnd.databricks.v1+cell": {
     "cellMetadata": {
      "byteLimit": 2048000,
      "rowLimit": 10000
     },
     "inputWidgets": {},
     "nuid": "ef8727b9-4f84-4dbb-b865-1627f6a52e2e",
     "showTitle": false,
     "tableResultSettingsMap": {},
     "title": ""
    }
   },
   "outputs": [],
   "source": [
    "cus_dim.printSchema()\n",
    "prod_dim.printSchema()\n",
    "sales_dim.printSchema()\n",
    "fact.printSchema()"
   ]
  },
  {
   "cell_type": "markdown",
   "metadata": {
    "application/vnd.databricks.v1+cell": {
     "cellMetadata": {
      "byteLimit": 2048000,
      "rowLimit": 10000
     },
     "inputWidgets": {},
     "nuid": "5224b8e2-6d5b-48c2-88fa-09f8bba359ae",
     "showTitle": false,
     "tableResultSettingsMap": {},
     "title": ""
    }
   },
   "source": [
    "###  •\tCustomer Age: Derive the current age of each customer to understand the demographic profile."
   ]
  },
  {
   "cell_type": "code",
   "execution_count": 0,
   "metadata": {
    "application/vnd.databricks.v1+cell": {
     "cellMetadata": {
      "byteLimit": 2048000,
      "rowLimit": 10000
     },
     "inputWidgets": {},
     "nuid": "6c1ef648-89b1-4630-ae05-9d2a2d650b51",
     "showTitle": false,
     "tableResultSettingsMap": {},
     "title": ""
    }
   },
   "outputs": [],
   "source": [
    "from pyspark.sql.functions import col, year, lit, current_date, datediff\n",
    "\n",
    "cus_dim_with_age = cus_dim.withColumn(\"Customer_Age\", (datediff(current_date(), col(\"customer_dob\")) / 365.25).cast(\"int\"))\n",
    "display(cus_dim_with_age.select(\"customer_name\", \"Customer_Age\"))"
   ]
  },
  {
   "cell_type": "markdown",
   "metadata": {
    "application/vnd.databricks.v1+cell": {
     "cellMetadata": {},
     "inputWidgets": {},
     "nuid": "3ff3ad4e-efa2-45ab-b81b-f6cb00fc7d59",
     "showTitle": false,
     "tableResultSettingsMap": {},
     "title": ""
    }
   },
   "source": [
    "•\tProfit Margin (%): Measure the profitability of each order by calculating the profit as a percentage of sales."
   ]
  },
  {
   "cell_type": "markdown",
   "metadata": {
    "application/vnd.databricks.v1+cell": {
     "cellMetadata": {},
     "inputWidgets": {},
     "nuid": "73c7e027-bf26-4eac-b0ed-731434b37ead",
     "showTitle": false,
     "tableResultSettingsMap": {},
     "title": ""
    }
   },
   "source": [
    "### •\tTop Performing Cities: Identify cities that contribute the most to sales and profit."
   ]
  },
  {
   "cell_type": "code",
   "execution_count": 0,
   "metadata": {
    "application/vnd.databricks.v1+cell": {
     "cellMetadata": {
      "byteLimit": 2048000,
      "rowLimit": 10000
     },
     "inputWidgets": {},
     "nuid": "a1faf024-05c0-4a25-be79-216c68396982",
     "showTitle": false,
     "tableResultSettingsMap": {},
     "title": ""
    }
   },
   "outputs": [],
   "source": [
    "from pyspark.sql.functions import sum\n",
    "\n",
    "# Aggregate sales and profit by city\n",
    "city_performance = fact_with_customer.groupBy(\"city\").agg(\n",
    "    sum(\"sales\").alias(\"Total_Sales\"),\n",
    "    sum(\"profit\").alias(\"Total_Profit\")\n",
    ")\n",
    "\n",
    "# Order by Total_Sales and Total_Profit in descending order\n",
    "top_performing_cities = city_performance.orderBy(col(\"Total_Sales\").desc(), col(\"Total_Profit\").desc())\n",
    "\n",
    "display(top_performing_cities)"
   ]
  }
 ],
 "metadata": {
  "application/vnd.databricks.v1+notebook": {
   "computePreferences": null,
   "dashboards": [],
   "environmentMetadata": {
    "base_environment": "",
    "environment_version": "2"
   },
   "inputWidgetPreferences": null,
   "language": "python",
   "notebookMetadata": {
    "pythonIndentUnit": 4
   },
   "notebookName": "Gold_KPI",
   "widgets": {}
  },
  "language_info": {
   "name": "python"
  }
 },
 "nbformat": 4,
 "nbformat_minor": 0
}
