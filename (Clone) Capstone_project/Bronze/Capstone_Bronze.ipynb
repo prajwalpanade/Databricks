{
 "cells": [
  {
   "cell_type": "code",
   "execution_count": 0,
   "metadata": {
    "application/vnd.databricks.v1+cell": {
     "cellMetadata": {
      "byteLimit": 2048000,
      "rowLimit": 10000
     },
     "inputWidgets": {},
     "nuid": "668fa556-63ab-4cc3-bb7c-74d3e9b65de1",
     "showTitle": false,
     "tableResultSettingsMap": {},
     "title": ""
    }
   },
   "outputs": [],
   "source": [
    "# Importing important function\n",
    "import os\n",
    "from datetime import datetime\n",
    "import time\n",
    "from pyspark.sql.types import StructType, StructField, StringType, DoubleType, TimestampType, IntegerType\n",
    "import pyspark.sql.functions as F\n",
    "\n",
    "\n",
    "# Define Paths\n",
    "source_path = \"/mnt/Prajwal/Capstone_Project/Source_Files\"\n",
    "bronze_path = \"/mnt/Prajwal/Capstone_Project/bronze/\"\n",
    "\n",
    "# Defining log path\n",
    "log_path = '/mnt/Prajwal/Capstone_Project/logs'\n",
    "\n",
    "dbutils.fs.ls(source_path)\n",
    "\n",
    "files = ['Loanpayments.csv', 'bankcustomer_source1_day0.csv', 'bankcustomer_source2_day0.json', 'bankloandetails.csv']\n",
    "\n",
    "# Define the enhanced Log Table Schema\n",
    "log_schema = StructType([\n",
    "    StructField(\"timestamp\", TimestampType(), True),\n",
    "    StructField(\"log_level\", StringType(), True),\n",
    "    StructField(\"message\", StringType(), True),\n",
    "    StructField(\"file_type\", StringType(), True),\n",
    "    StructField(\"file_size_kb\", DoubleType(), True),\n",
    "    StructField(\"file_mod_time\", TimestampType(), True),\n",
    "    StructField(\"record_count\", IntegerType(), True),\n",
    "    StructField(\"status\", StringType(), True),\n",
    "    StructField(\"processing_time_sec\", IntegerType(), True),\n",
    "    StructField(\"processed_by\", StringType(), True),\n",
    "    StructField(\"processed_time\", TimestampType(), True)\n",
    "])\n",
    "\n",
    "# Function to log message with additional metadata\n",
    "def log_message(source_file, file_type, file_size_kb, file_mod_time, record_count, status, processing_time_sec, processed_by, message):\n",
    "    log_entry = [(datetime.now(), \"INFO\", message, file_type, file_size_kb, file_mod_time, record_count, status, processing_time_sec, processed_by, datetime.now())]\n",
    "    log_df = spark.createDataFrame(log_entry, log_schema)\n",
    "    log_df.write.format(\"delta\").mode(\"append\").save(log_path)\n",
    "    print(f\"{datetime.now()} - [{message}]\")\n",
    "\n",
    "\n",
    "# Function to process files in a directory and log metadata\n",
    "def process_files_in_directory(files, bronze_path):\n",
    "    try:\n",
    "        for file_name in files:\n",
    "            file_path = os.path.join(source_path, file_name)\n",
    "\n",
    "            # Log file details\n",
    "            file_extension = file_name.split(\".\")[-1]\n",
    "            file_name = file_name.split(\".\")[0]\n",
    "            file_info = dbutils.fs.ls(file_path)[0]\n",
    "            file_size_kb = file_info.size / 1024\n",
    "            file_mod_time = datetime.fromtimestamp(file_info.modificationTime / 1000)\n",
    "            processed_by = dbutils.notebook.entry_point.getDbutils().notebook().getContext().tags().apply('user')\n",
    "\n",
    "            # start time of the files\n",
    "            start_time = time.time()\n",
    "\n",
    "            if file_extension == \"csv\":\n",
    "                file_type = \"CSV\"\n",
    "                log_message(file_path, file_type, file_size_kb, file_mod_time, None, \"PROCESSING\", 0, processed_by, f\"Reading CSV File {file_name}\")\n",
    "                df = spark.read.format(\"csv\").option(\"header\", \"true\").load(file_path)\n",
    "\n",
    "            elif file_extension == \"json\":\n",
    "                file_type = \"JSON\"\n",
    "                log_message(file_path, file_type, file_size_kb, file_mod_time, None, \"PROCESSING\", 0, processed_by, f\"Reading Json File {file_name}\")\n",
    "                df = spark.read.option(\"multiline\",\"true\").format(\"json\").load(file_path)\n",
    "            else:\n",
    "                file_type = \"UNKNOWN\"\n",
    "                log_message(file_path, file_type, file_size_kb, file_mod_time, 0, \"FAILED\", 0, processed_by, f\"Unsupported file format: {file_extension}. Only CSV and TXT files are supported.\")\n",
    "                continue\n",
    "\n",
    "            #adding ingestion time\n",
    "            df = df.withColumn(\"ingest_time\", F.current_timestamp())\n",
    "\n",
    "            # Record count and processing time\n",
    "            record_count = df.count()\n",
    "            processing_time_sec = int(time.time() - start_time)\n",
    "            log_message(file_path, file_type, file_size_kb, file_mod_time, record_count, \"PROCESSING\", processing_time_sec, processed_by, f\"Successfully read {record_count} records from {file_path}\")\n",
    "\n",
    "            # Writing data to output path\n",
    "            log_message(file_path, file_type, file_size_kb, file_mod_time, record_count, \"PROCESSING\", processing_time_sec, processed_by, f\"Writing data to {bronze_path}\")\n",
    "            df.write.format(\"parquet\").mode(\"overwrite\").save(bronze_path + file_name)\n",
    "            \n",
    "\n",
    "            # Final status\n",
    "            log_message(file_path, file_type, file_size_kb, file_mod_time, record_count, \"COMPLETED\", processing_time_sec, processed_by, f\"Successfully processed {file_path}\")\n",
    "    except Exception as e:\n",
    "        processing_time_sec = int(time.time() - start_time)\n",
    "        log_message(file_path, file_type, file_size_kb, file_mod_time, 0, \"FAILED\", processing_time_sec, processed_by, f\"Error processing file {file_path}: {str(e)}\")\n",
    "        raise e    \n",
    "\n",
    "\n",
    "process_files_in_directory(files, bronze_path)\n",
    "            \n",
    "\n",
    "\n"
   ]
  },
  {
   "cell_type": "code",
   "execution_count": 0,
   "metadata": {
    "application/vnd.databricks.v1+cell": {
     "cellMetadata": {
      "byteLimit": 2048000,
      "rowLimit": 10000
     },
     "inputWidgets": {},
     "nuid": "afe1e53b-681d-4273-9b01-5bb5afdc2595",
     "showTitle": false,
     "tableResultSettingsMap": {},
     "title": ""
    }
   },
   "outputs": [],
   "source": [
    "log_path = '/mnt/Prajwal/Capstone_Project/logs'\n",
    "log_df = spark.read.format(\"delta\").load(log_path)\n",
    "display(log_df)"
   ]
  },
  {
   "cell_type": "code",
   "execution_count": 0,
   "metadata": {
    "application/vnd.databricks.v1+cell": {
     "cellMetadata": {
      "byteLimit": 2048000,
      "rowLimit": 10000
     },
     "inputWidgets": {},
     "nuid": "b92f5d70-276f-4f7c-af7f-4f9dc212cf9c",
     "showTitle": false,
     "tableResultSettingsMap": {},
     "title": ""
    }
   },
   "outputs": [],
   "source": [
    "%run ../Silver/Capstone_Silver_bankcustomer"
   ]
  }
 ],
 "metadata": {
  "application/vnd.databricks.v1+notebook": {
   "computePreferences": null,
   "dashboards": [],
   "environmentMetadata": {
    "base_environment": "",
    "environment_version": "2"
   },
   "inputWidgetPreferences": null,
   "language": "python",
   "notebookMetadata": {
    "mostRecentlyExecutedCommandWithImplicitDF": {
     "commandId": 6272047719565930,
     "dataframes": [
      "_sqldf"
     ]
    },
    "pythonIndentUnit": 4
   },
   "notebookName": "Capstone_Bronze",
   "widgets": {}
  },
  "language_info": {
   "name": "python"
  }
 },
 "nbformat": 4,
 "nbformat_minor": 0
}
