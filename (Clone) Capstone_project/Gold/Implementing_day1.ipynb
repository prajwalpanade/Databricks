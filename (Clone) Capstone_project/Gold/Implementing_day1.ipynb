{
 "cells": [
  {
   "cell_type": "code",
   "execution_count": 0,
   "metadata": {
    "application/vnd.databricks.v1+cell": {
     "cellMetadata": {
      "byteLimit": 2048000,
      "rowLimit": 10000
     },
     "inputWidgets": {},
     "nuid": "bff5aabd-fb3e-4aeb-b204-043b71e8dd00",
     "showTitle": false,
     "tableResultSettingsMap": {},
     "title": ""
    }
   },
   "outputs": [],
   "source": [
    "# Import necessary functions and types\n",
    "from pyspark.sql import functions as F\n",
    "from pyspark.sql.types import *\n",
    "from delta.tables import DeltaTable\n",
    "from pyspark.sql.functions import lit, current_timestamp"
   ]
  },
  {
   "cell_type": "code",
   "execution_count": 0,
   "metadata": {
    "application/vnd.databricks.v1+cell": {
     "cellMetadata": {
      "byteLimit": 2048000,
      "rowLimit": 10000
     },
     "inputWidgets": {},
     "nuid": "c99036a3-e2e5-4941-9a3c-2d252d6f145f",
     "showTitle": false,
     "tableResultSettingsMap": {},
     "title": ""
    }
   },
   "outputs": [],
   "source": [
    "silver_path = \"/mnt/Prajwal/Capstone_Project/silver/bankcustomer_source/\"\n",
    "gold_path = \"/mnt/Prajwal/Capstone_Project/gold/\"\n",
    "\n",
    "try:\n",
    "    df_existing = spark.read.format(\"delta\").load(silver_path)\n",
    "except:\n",
    "    df_existing = spark.createDataFrame([], df.schema)\n",
    "\n",
    "df_new = spark.read.format(\"delta\").load(silver_path)\n",
    "\n",
    "# Add SCD Type 2 columns to the new data\n",
    "df_new = df_new.withColumn(\"is_current\", lit(True)) \\\n",
    "               .withColumn(\"start_date\", current_timestamp()) \\\n",
    "               .withColumn(\"end_date\", lit(None).cast(\"timestamp\"))\n",
    "\n",
    "# Join new data with existing data to identify changes\n",
    "df_joined = df_new.join(df_existing, \"customer_id\", \"left\")\n",
    "\n",
    "# Identify records that have changed\n",
    "df_changed = df_joined.filter(\n",
    "    (df_new[\"name\"] != df_existing[\"name\"]) |\n",
    "    (df_new[\"city\"] != df_existing[\"city\"]) |\n",
    "    (df_new[\"phone_no\"] != df_existing[\"phone_no\"]) |\n",
    "    (df_new[\"maritial_status\"] != df_existing[\"maritial_status\"]) |\n",
    "    (df_new[\"gender\"] != df_existing[\"gender\"]) |\n",
    "    (df_new[\"email\"] != df_existing[\"email\"]) |\n",
    "    (df_new[\"DOB\"] != df_existing[\"DOB\"]) |\n",
    "    (df_new[\"age\"] != df_existing[\"age\"]) |\n",
    "    (df_new[\"ingestion_time\"] != df_existing[\"ingestion_time\"]) |\n",
    "    (df_new[\"ingestion_time_formatted\"] != df_existing[\"ingestion_time_formatted\"])\n",
    ").select(df_new[\"*\"])\n",
    "\n",
    "# Mark existing records as not current\n",
    "df_existing_updated = df_existing.join(df_changed, \"customer_id\", \"left_anti\") \\\n",
    "                                 .withColumn(\"is_current\", lit(False)) \\\n",
    "                                 .withColumn(\"end_date\", current_timestamp())\n",
    "\n",
    "# Create a DeltaTable object for the existing data\n",
    "deltaTable = DeltaTable.forPath(spark, silver_path)\n",
    "\n",
    "\n",
    "# Merge new data with existing data to identify changes and insert new records\n",
    "df_final = deltaTable.alias(\"existing\").merge(\n",
    "    df_new.alias(\"new\"),\n",
    "    \"existing.customer_id = new.customer_id\"\n",
    ").whenMatchedUpdate(\n",
    "    condition=\"existing.name != new.name OR \"\n",
    "              \"existing.city != new.city OR \"\n",
    "              \"existing.phone_no != new.phone_no OR \"\n",
    "              \"existing.maritial_status != new.maritial_status OR \"\n",
    "              \"existing.gender != new.gender OR \"\n",
    "              \"existing.DOB != new.DOB OR \"\n",
    "              \"existing.email != new.email\",\n",
    "    set={\n",
    "        \"is_current\": lit(False),\n",
    "        \"end_date\": current_timestamp(),\n",
    "    }\n",
    ").execute()\n",
    "\n",
    "# Insert records with new keys (new business keys that never existed)\n",
    "updated_target_df = deltaTable.toDF().filter(\"is_current = true\").select(\"customer_id\")\n",
    "\n",
    "\n",
    "insert_df = df_new.join(updated_target_df, on=\"customer_id\")\n",
    "\n",
    "display(insert_df)\n"
   ]
  },
  {
   "cell_type": "code",
   "execution_count": 0,
   "metadata": {
    "application/vnd.databricks.v1+cell": {
     "cellMetadata": {
      "byteLimit": 2048000,
      "rowLimit": 10000
     },
     "inputWidgets": {},
     "nuid": "b6434b38-9928-49e5-9f1c-d34707bc764b",
     "showTitle": false,
     "tableResultSettingsMap": {},
     "title": ""
    }
   },
   "outputs": [],
   "source": [
    "silver_path = \"/mnt/Prajwal/Capstone_Project/silver/bankcustomer_source\"\n",
    "gold_path = \"/mnt/Prajwal/Capstone_Project/gold/\"\n",
    "\n",
    "df_new = spark.read.format(\"delta\").load(silver_path)\n",
    "\n",
    "# Add SCD Type 2 columns to the new data\n",
    "df_new = df_new.withColumn(\"is_current\", lit(True)) \\\n",
    "               .withColumn(\"start_date\", current_timestamp()) \\\n",
    "               .withColumn(\"end_date\", lit(None).cast(\"timestamp\"))\n",
    "\n",
    "# Join new data with existing data to identify changes\n",
    "df_joined = df_new.join(df_existing, \"customer_id\", \"left\")\n",
    "\n",
    "# Identify records that have changed\n",
    "df_changed = df_joined.filter(\n",
    "    (df_new[\"name\"] != df_existing[\"name\"]) |\n",
    "    (df_new[\"city\"] != df_existing[\"city\"]) |\n",
    "    (df_new[\"phone_no\"] != df_existing[\"phone_no\"]) |\n",
    "    (df_new[\"maritial_status\"] != df_existing[\"maritial_status\"]) |\n",
    "    (df_new[\"gender\"] != df_existing[\"gender\"]) |\n",
    "    (df_new[\"email\"] != df_existing[\"email\"]) |\n",
    "    (df_new[\"DOB\"] != df_existing[\"DOB\"]) |\n",
    "    (df_new[\"age\"] != df_existing[\"age\"]) |\n",
    "    (df_new[\"ingestion_time\"] != df_existing[\"ingestion_time\"]) |\n",
    "    (df_new[\"ingestion_time_formatted\"] != df_existing[\"ingestion_time_formatted\"])\n",
    ").select(df_new[\"*\"])\n",
    "\n",
    "# Mark existing records as not current\n",
    "df_existing_updated = df_existing.join(df_changed, \"customer_id\", \"left_anti\") \\\n",
    "                                 .withColumn(\"is_current\", lit(False)) \\\n",
    "                                 .withColumn(\"end_date\", current_timestamp())\n",
    "\n",
    "# Create a DeltaTable object for the existing data\n",
    "deltaTable = DeltaTable.forPath(spark, silver_path)\n",
    "\n",
    "# Merge new data with existing data to identify changes and insert new records\n",
    "df_final = deltaTable.alias(\"existing\").merge(\n",
    "    df_new.alias(\"new\"),\n",
    "    \"existing.customer_id = new.customer_id\"\n",
    ").whenMatchedUpdate(\n",
    "    condition=\"existing.name != new.name OR \"\n",
    "              \"existing.city != new.city OR \"\n",
    "              \"existing.phone_no != new.phone_no OR \"\n",
    "              \"existing.maritial_status != new.maritial_status OR \"\n",
    "              \"existing.gender != new.gender OR \"\n",
    "              \"existing.DOB != new.DOB OR \"\n",
    "              \"existing.email != new.email\",\n",
    "    set={\n",
    "        \"is_current\": lit(False),\n",
    "        \"end_date\": current_timestamp(),\n",
    "    }\n",
    ").execute()\n",
    "\n",
    "# Insert records with new keys (new business keys that never existed)\n",
    "updated_target_df = deltaTable.toDF().filter(\"is_current = true\").select(\"customer_id\")\n",
    "insert_df = df_new.join(updated_target_df, on=\"customer_id\", how=\"left_anti\")"
   ]
  },
  {
   "cell_type": "code",
   "execution_count": 0,
   "metadata": {
    "application/vnd.databricks.v1+cell": {
     "cellMetadata": {
      "byteLimit": 2048000,
      "rowLimit": 10000
     },
     "inputWidgets": {},
     "nuid": "2affc4ab-791f-4d77-9d76-a348a6fc44ab",
     "showTitle": false,
     "tableResultSettingsMap": {},
     "title": ""
    }
   },
   "outputs": [],
   "source": [
    "display(insert_df)"
   ]
  },
  {
   "cell_type": "code",
   "execution_count": 0,
   "metadata": {
    "application/vnd.databricks.v1+cell": {
     "cellMetadata": {},
     "inputWidgets": {},
     "nuid": "c41edd26-4a3b-4bc4-8512-b377dcbc1a82",
     "showTitle": false,
     "tableResultSettingsMap": {},
     "title": ""
    }
   },
   "outputs": [],
   "source": [
    "\n",
    "# Create a DeltaTable object for the existing data\n",
    "deltaTable = DeltaTable.forPath(spark, silver_path)\n",
    "\n",
    "# Merge new data with existing data to identify changes and insert new records\n",
    "df_final = deltaTable.alias(\"existing\").merge(\n",
    "    df_new.alias(\"new\"),\n",
    "    \"existing.customer_id = new.customer_id\"\n",
    ").whenMatchedUpdate(\n",
    "    condition=\"existing.name != new.name OR \"\n",
    "              \"existing.city != new.city OR \"\n",
    "              \"existing.phone_no != new.phone_no OR \"\n",
    "              \"existing.maritial_status != new.maritial_status OR \"\n",
    "              \"existing.gender != new.gender OR \"\n",
    "              \"existing.DOB != new.DOB OR \"\n",
    "              \"existing.email != new.email\",\n",
    "    set={\n",
    "        \"is_current\": lit(False),\n",
    "        \"end_date\": current_timestamp(),\n",
    "    }\n",
    ").execute()\n",
    "\n",
    "# Insert records with new keys (new business keys that never existed)\n",
    "updated_target_df = deltaTable.toDF().filter(\"is_current = true\").select(\"customer_id\")\n",
    "insert_df = df_new.join(updated_target_df, on=\"customer_id\", how=\"left_anti\")\n",
    "\n",
    "# final_insert = insert_df.withColumn('is_current', lit(True) \\\n",
    "#                               .withColumn(\"start_date\", current_timestamp()) \\\n",
    "#                               .withColumn(\"end_date\", lit(None).cast(\"timestamp\")))\n",
    "\n",
    "print(\"data is updated and inserted in silver path\")"
   ]
  }
 ],
 "metadata": {
  "application/vnd.databricks.v1+notebook": {
   "computePreferences": null,
   "dashboards": [],
   "environmentMetadata": {
    "base_environment": "",
    "environment_version": "2"
   },
   "inputWidgetPreferences": null,
   "language": "python",
   "notebookMetadata": {
    "pythonIndentUnit": 4
   },
   "notebookName": "Implementing_day1",
   "widgets": {}
  },
  "language_info": {
   "name": "python"
  }
 },
 "nbformat": 4,
 "nbformat_minor": 0
}
