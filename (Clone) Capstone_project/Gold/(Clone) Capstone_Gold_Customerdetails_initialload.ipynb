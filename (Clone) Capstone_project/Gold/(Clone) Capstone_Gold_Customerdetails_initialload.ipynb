{
 "cells": [
  {
   "cell_type": "code",
   "execution_count": 0,
   "metadata": {
    "application/vnd.databricks.v1+cell": {
     "cellMetadata": {
      "byteLimit": 2048000,
      "rowLimit": 10000
     },
     "inputWidgets": {},
     "nuid": "f444bd6e-e514-48cd-9476-f3471f3e9d3a",
     "showTitle": false,
     "tableResultSettingsMap": {},
     "title": ""
    }
   },
   "outputs": [],
   "source": [
    "# Import necessary functions and types\n",
    "from pyspark.sql import functions as F\n",
    "from pyspark.sql.types import *\n",
    "from delta.tables import DeltaTable\n",
    "from pyspark.sql.functions import monotonically_increasing_id\n",
    "from pyspark.sql.window import Window"
   ]
  },
  {
   "cell_type": "code",
   "execution_count": 0,
   "metadata": {
    "application/vnd.databricks.v1+cell": {
     "cellMetadata": {
      "byteLimit": 2048000,
      "rowLimit": 10000
     },
     "inputWidgets": {},
     "nuid": "e804e234-dc8a-406c-b34a-c2e47a36c00b",
     "showTitle": false,
     "tableResultSettingsMap": {},
     "title": ""
    }
   },
   "outputs": [],
   "source": [
    "silver_path = \"/mnt/Prajwal/Capstone_Project/silver/bankcustomer_source_clone1\"\n",
    "gold_path = \"/mnt/Prajwal/Capstone_Project/Gold_clone/\"\n",
    "\n",
    "\n",
    "df_cust = spark.read.format(\"delta\").load(silver_path)\n",
    "display(df_cust)"
   ]
  },
  {
   "cell_type": "code",
   "execution_count": 0,
   "metadata": {
    "application/vnd.databricks.v1+cell": {
     "cellMetadata": {
      "byteLimit": 2048000,
      "implicitDf": true,
      "rowLimit": 10000
     },
     "inputWidgets": {},
     "nuid": "8321257b-46f0-4b81-a1d3-1efa0503f589",
     "showTitle": false,
     "tableResultSettingsMap": {},
     "title": ""
    }
   },
   "outputs": [],
   "source": [
    "# Adding surrogate keys for the customer dataframe starting with 1\n",
    "customer_df = df_cust.withColumn(\"Customer_Key\", (monotonically_increasing_id() + 1).cast(IntegerType()))\n",
    "window_spec = Window.orderBy(\"Customer_Key\")\n",
    "customer_df = customer_df.withColumn(\"Customer_Key\", F.row_number().over(window_spec))\n",
    "\n",
    "display(customer_df)"
   ]
  },
  {
   "cell_type": "code",
   "execution_count": 0,
   "metadata": {
    "application/vnd.databricks.v1+cell": {
     "cellMetadata": {
      "byteLimit": 2048000,
      "rowLimit": 10000
     },
     "inputWidgets": {},
     "nuid": "f2b9c651-61c6-40aa-8036-b110cc7dd3f8",
     "showTitle": false,
     "tableResultSettingsMap": {},
     "title": ""
    }
   },
   "outputs": [],
   "source": [
    "# Deduplicate the source DataFrame based on customer_id\n",
    "customer_df = customer_df.dropDuplicates([\"customer_id\"])\n",
    "\n",
    "display(customer_df)"
   ]
  },
  {
   "cell_type": "code",
   "execution_count": 0,
   "metadata": {
    "application/vnd.databricks.v1+cell": {
     "cellMetadata": {
      "byteLimit": 2048000,
      "rowLimit": 10000
     },
     "inputWidgets": {},
     "nuid": "b2cee17f-dfee-4b95-90e2-210480e277e3",
     "showTitle": false,
     "tableResultSettingsMap": {},
     "title": ""
    }
   },
   "outputs": [],
   "source": [
    "customer_df = customer_df.withColumn(\"Start_date\", F.current_date().cast(\"date\")) \\\n",
    "                .withColumn(\"End_date\", F.lit(None).cast(\"date\")) \\\n",
    "                .withColumn(\"Is_Active\", F.lit(\"Y\")) \\\n",
    "                .withColumn(\"status\", F.lit(\"New\"))\n",
    "\n",
    "display(customer_df)"
   ]
  },
  {
   "cell_type": "code",
   "execution_count": 0,
   "metadata": {
    "application/vnd.databricks.v1+cell": {
     "cellMetadata": {
      "byteLimit": 2048000,
      "rowLimit": 10000
     },
     "inputWidgets": {},
     "nuid": "50a83a09-4489-4e6a-ad2a-2a9520b0b33e",
     "showTitle": false,
     "tableResultSettingsMap": {},
     "title": ""
    }
   },
   "outputs": [],
   "source": [
    "customer_df = customer_df.select('Customer_Key','customer_id', 'name', 'city', 'phone_no', 'area_code', 'maritial_status','gender','DOB','age','email','Start_date','End_date',  'Is_Active','status')\n",
    "\n",
    "\n",
    "\n",
    "# Append the new records to the Delta table\n",
    "customer_df.write.format(\"delta\").mode(\"overwrite\").save(gold_path + \"dim_customer\")\n"
   ]
  },
  {
   "cell_type": "code",
   "execution_count": 0,
   "metadata": {
    "application/vnd.databricks.v1+cell": {
     "cellMetadata": {
      "byteLimit": 2048000,
      "rowLimit": 10000
     },
     "inputWidgets": {},
     "nuid": "9c03bb35-ad52-4b08-8b59-5dcec8835d1b",
     "showTitle": false,
     "tableResultSettingsMap": {},
     "title": ""
    }
   },
   "outputs": [],
   "source": [
    "dim_customer_df = spark.read.format(\"delta\").load(gold_path + \"dim_customer\")\n",
    "dim_customer_df = dim_customer_df.dropDuplicates()\n",
    "dim_customer_df.write.format(\"delta\").mode(\"overwrite\").save(gold_path + \"dim_customer\")\n",
    "display(dim_customer_df)"
   ]
  },
  {
   "cell_type": "code",
   "execution_count": 0,
   "metadata": {
    "application/vnd.databricks.v1+cell": {
     "cellMetadata": {
      "byteLimit": 2048000,
      "rowLimit": 10000
     },
     "inputWidgets": {},
     "nuid": "2aa77def-9c67-485e-a748-d013a43a7c31",
     "showTitle": false,
     "tableResultSettingsMap": {},
     "title": ""
    }
   },
   "outputs": [],
   "source": [
    "spark.sql(\"DROP TABLE IF EXISTS Prajwal.customer_dim\")"
   ]
  },
  {
   "cell_type": "code",
   "execution_count": 0,
   "metadata": {
    "application/vnd.databricks.v1+cell": {
     "cellMetadata": {
      "byteLimit": 2048000,
      "rowLimit": 10000
     },
     "inputWidgets": {},
     "nuid": "e53b2ed5-06fd-4d57-9db3-ccd8184a718c",
     "showTitle": false,
     "tableResultSettingsMap": {},
     "title": ""
    }
   },
   "outputs": [],
   "source": [
    "# Create the table if it does not exist\n",
    "spark.sql(f\"\"\"\n",
    "    CREATE TABLE IF NOT EXISTS Prajwal.customer_dim \n",
    "    USING DELTA \n",
    "    LOCATION '/mnt/Prajwal/Capstone_Project/Gold_clone/dim_customer'\n",
    "\"\"\")\n",
    "\n",
    "# Display the contents of the table\n",
    "display(spark.sql(\"SELECT * FROM Prajwal.customer_dim\"))"
   ]
  },
  {
   "cell_type": "code",
   "execution_count": 0,
   "metadata": {
    "application/vnd.databricks.v1+cell": {
     "cellMetadata": {
      "byteLimit": 2048000,
      "rowLimit": 10000
     },
     "inputWidgets": {},
     "nuid": "4e523d5b-89b9-4aa3-9dd3-c49197a50065",
     "showTitle": false,
     "tableResultSettingsMap": {},
     "title": ""
    }
   },
   "outputs": [],
   "source": [
    "# Display the contents of the table\n",
    "display(spark.sql(\"SELECT * FROM Prajwal.customer_dim order by Customer_Key\"))"
   ]
  }
 ],
 "metadata": {
  "application/vnd.databricks.v1+notebook": {
   "computePreferences": null,
   "dashboards": [],
   "environmentMetadata": {
    "base_environment": "",
    "environment_version": "2"
   },
   "inputWidgetPreferences": null,
   "language": "python",
   "notebookMetadata": {
    "mostRecentlyExecutedCommandWithImplicitDF": {
     "commandId": 7825418665770564,
     "dataframes": [
      "_sqldf"
     ]
    },
    "pythonIndentUnit": 4
   },
   "notebookName": "(Clone) Capstone_Gold_Customerdetails_initialload",
   "widgets": {}
  },
  "language_info": {
   "name": "python"
  }
 },
 "nbformat": 4,
 "nbformat_minor": 0
}
