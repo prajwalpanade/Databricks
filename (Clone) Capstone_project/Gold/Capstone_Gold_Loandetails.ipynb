{
 "cells": [
  {
   "cell_type": "code",
   "execution_count": 0,
   "metadata": {
    "application/vnd.databricks.v1+cell": {
     "cellMetadata": {
      "byteLimit": 2048000,
      "rowLimit": 10000
     },
     "inputWidgets": {},
     "nuid": "cd4d9c3e-f2af-4f1f-a1a0-a94e8b259250",
     "showTitle": false,
     "tableResultSettingsMap": {},
     "title": ""
    }
   },
   "outputs": [],
   "source": [
    "# Importing the required libraries\n",
    "from pyspark.sql.functions import *\n",
    "from pyspark.sql.types import *\n",
    "from pyspark.sql.window import Window\n",
    "from pyspark.sql import functions as F\n"
   ]
  },
  {
   "cell_type": "code",
   "execution_count": 0,
   "metadata": {
    "application/vnd.databricks.v1+cell": {
     "cellMetadata": {
      "byteLimit": 2048000,
      "rowLimit": 10000
     },
     "inputWidgets": {},
     "nuid": "cd43b7bb-d61a-4e50-923e-b3bea05ddf36",
     "showTitle": false,
     "tableResultSettingsMap": {},
     "title": ""
    }
   },
   "outputs": [],
   "source": [
    "# Paths to the silver and gold layers\n",
    "silver_layer = \"/mnt/Prajwal/Capstone_Project/silver/bankloandetails\"\n",
    "gold_layer = \"/mnt/Prajwal/Capstone_Project/gold/dim_customer\"\n",
    "\n",
    "# Checking missing records\n",
    "df_silver = spark.read.format(\"delta\").load(silver_layer)\n",
    "df_gold = spark.read.format(\"delta\").load(gold_layer)\n",
    "\n"
   ]
  },
  {
   "cell_type": "code",
   "execution_count": 0,
   "metadata": {
    "application/vnd.databricks.v1+cell": {
     "cellMetadata": {
      "byteLimit": 2048000,
      "rowLimit": 10000
     },
     "inputWidgets": {},
     "nuid": "334c1b18-017a-43e4-8764-3bcda7d9479a",
     "showTitle": false,
     "tableResultSettingsMap": {},
     "title": ""
    }
   },
   "outputs": [],
   "source": [
    "\n",
    "missing_records = df_silver.join(df_gold, on=\"customer_id\", how=\"left\").filter(df_gold.customer_id.isNotNull()).select(df_silver.customer_id)\n",
    "\n",
    "print(\"Total records in Loan details :\", df_silver.count())\n",
    "print(\"Total missing records in Customer Gold table but present in Loan details:\", missing_records.count())"
   ]
  },
  {
   "cell_type": "code",
   "execution_count": 0,
   "metadata": {
    "application/vnd.databricks.v1+cell": {
     "cellMetadata": {
      "byteLimit": 2048000,
      "rowLimit": 10000
     },
     "inputWidgets": {},
     "nuid": "cabc5314-2239-44df-8d00-4bddd69dbc85",
     "showTitle": false,
     "tableResultSettingsMap": {},
     "title": ""
    }
   },
   "outputs": [],
   "source": [
    "# Filter out records that have a matching customer_id in the Gold table using a left_semi join\n",
    "valid_customers_df = df_silver.join(\n",
    "    df_gold,\n",
    "    df_silver.customer_id == df_gold.customer_id,\n",
    "    how=\"left_semi\"\n",
    ")\n",
    "\n",
    "# Print the count of valid records\n",
    "print(\"Total valid records in Loan Details which has matching entry in Customer Gold table:\", valid_customers_df.count())\n"
   ]
  },
  {
   "cell_type": "code",
   "execution_count": 0,
   "metadata": {
    "application/vnd.databricks.v1+cell": {
     "cellMetadata": {
      "byteLimit": 2048000,
      "rowLimit": 10000
     },
     "inputWidgets": {},
     "nuid": "5355ef11-2ea1-46bb-98f1-07972e3a3ea0",
     "showTitle": false,
     "tableResultSettingsMap": {},
     "title": ""
    }
   },
   "outputs": [],
   "source": [
    "from pyspark.sql import functions as F\n",
    "from pyspark.sql.types import StructType, StructField, IntegerType, DateType, StringType, DoubleType, TimestampType, BooleanType, DecimalType\n",
    "from delta.tables import DeltaTable\n",
    "from pyspark.sql.functions import current_timestamp, lit\n",
    "\n",
    "loan_schema = StructType([\n",
    "    StructField(\"loan_id\", StringType(), True),\n",
    "    StructField(\"customer_id\", StringType(), True),\n",
    "    StructField(\"current_loan_amount\", DecimalType(10,2), True),\n",
    "    StructField(\"term\", StringType(), True),\n",
    "    StructField(\"credit_score\", StringType(), True),\n",
    "    StructField(\"credit_category\", StringType(), True),\n",
    "    StructField(\"annual_income\", DecimalType(10,2), True),\n",
    "    StructField(\"years_in_current_job\", StringType(), True),\n",
    "    StructField(\"home_ownership\", StringType(), True),\n",
    "    StructField(\"purpose\", StringType(), True),\n",
    "    StructField(\"loan_start_date\", DateType(), True),\n",
    "    StructField(\"loan_start_date_flag\", StringType(), True),\n",
    "    StructField(\"start_date\", TimestampType(), True),\n",
    "    StructField(\"end_date\", TimestampType(), True),\n",
    "    StructField(\"is_active\", BooleanType(), True)\n",
    "])\n",
    "\n",
    "gold_path = \"/mnt/Prajwal/Capstone_Project/gold/dim_loan_details\"\n",
    "\n",
    "# Create the Gold table if it doesn't exist\n",
    "try:\n",
    "    dim_table = spark.read.format(\"delta\").load(gold_path)\n",
    "except:\n",
    "    # If the table doesn't exist, create an empty one with the defined schema\n",
    "    empty_df = spark.createDataFrame([], loan_schema)\n",
    "    empty_df.write.format(\"delta\").mode(\"overwrite\").save(gold_path)\n",
    "    spark.sql(f\"CREATE TABLE IF NOT EXISTS banking.Dim_Loan_Details USING DELTA LOCATION '{gold_path}'\")"
   ]
  },
  {
   "cell_type": "code",
   "execution_count": 0,
   "metadata": {
    "application/vnd.databricks.v1+cell": {
     "cellMetadata": {
      "byteLimit": 2048000,
      "rowLimit": 10000
     },
     "inputWidgets": {},
     "nuid": "30dd6ee8-7087-4150-9e4b-102f8df8864a",
     "showTitle": false,
     "tableResultSettingsMap": {},
     "title": ""
    }
   },
   "outputs": [],
   "source": [
    "# Load Gold dimension table\n",
    "dim_table = DeltaTable.forPath(spark, gold_path)\n",
    "\n",
    "\n",
    "# Load Gold dimension table\n",
    "dim_table = DeltaTable.forPath(spark, gold_path)\n",
    "\n",
    "dim_table.alias(\"dim\").merge(\n",
    "    valid_customers_df.alias(\"src\"),\n",
    "    \"dim.loan_id = src.loan_id AND dim.is_active = true\"\n",
    ").whenMatchedUpdate(set={\n",
    "    \"end_date\": current_timestamp(),\n",
    "    \"is_active\": lit(False)\n",
    "}) \\\n",
    " .whenNotMatchedInsert(values={\n",
    "    \"loan_id\": \"src.loan_id\",\n",
    "    \"customer_id\": \"src.customer_id\",\n",
    "    \"current_loan_amount\": \"src.current_loan_amount\",\n",
    "    \"term\": \"src.term\",\n",
    "    \"credit_score\": \"src.credit_score\",\n",
    "    \"credit_category\": \"src.credit_category\",\n",
    "    \"annual_income\": \"src.annual_income\",\n",
    "    \"years_in_current_job\": \"src.years_in_current_job\",\n",
    "    \"home_ownership\": \"src.home_ownership\",\n",
    "    \"purpose\": \"src.purpose\",\n",
    "    \"loan_start_date\": \"src.loan_start_date\",\n",
    "    \"loan_start_date_flag\":\"src.loan_start_date_flag\",\n",
    "    \"start_date\": current_timestamp(),\n",
    "    \"end_date\": lit(None).cast(TimestampType()),\n",
    "    \"is_active\": lit(True)\n",
    "}) \\\n",
    " .execute()"
   ]
  },
  {
   "cell_type": "code",
   "execution_count": 0,
   "metadata": {
    "application/vnd.databricks.v1+cell": {
     "cellMetadata": {
      "byteLimit": 2048000,
      "implicitDf": true,
      "rowLimit": 10000
     },
     "inputWidgets": {},
     "nuid": "a9a2e6bb-c6ff-4a6f-8d47-c111a28442e4",
     "showTitle": false,
     "tableResultSettingsMap": {},
     "title": ""
    }
   },
   "outputs": [],
   "source": [
    "%sql\n",
    "select * from banking.loan_details_dim"
   ]
  },
  {
   "cell_type": "code",
   "execution_count": 0,
   "metadata": {
    "application/vnd.databricks.v1+cell": {
     "cellMetadata": {},
     "inputWidgets": {},
     "nuid": "c2fc43ef-dba4-4b86-a97f-f376cf0fad99",
     "showTitle": false,
     "tableResultSettingsMap": {},
     "title": ""
    }
   },
   "outputs": [],
   "source": []
  }
 ],
 "metadata": {
  "application/vnd.databricks.v1+notebook": {
   "computePreferences": null,
   "dashboards": [],
   "environmentMetadata": {
    "base_environment": "",
    "environment_version": "2"
   },
   "inputWidgetPreferences": null,
   "language": "python",
   "notebookMetadata": {
    "mostRecentlyExecutedCommandWithImplicitDF": {
     "commandId": 6645762731313879,
     "dataframes": [
      "_sqldf"
     ]
    },
    "pythonIndentUnit": 4
   },
   "notebookName": "Capstone_Gold_Loandetails",
   "widgets": {}
  },
  "language_info": {
   "name": "python"
  }
 },
 "nbformat": 4,
 "nbformat_minor": 0
}
