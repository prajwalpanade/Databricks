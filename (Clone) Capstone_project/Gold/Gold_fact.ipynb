{
 "cells": [
  {
   "cell_type": "code",
   "execution_count": 0,
   "metadata": {
    "application/vnd.databricks.v1+cell": {
     "cellMetadata": {
      "byteLimit": 2048000,
      "rowLimit": 10000
     },
     "inputWidgets": {},
     "nuid": "202a1284-ed72-4da4-89d8-77494b4263e4",
     "showTitle": false,
     "tableResultSettingsMap": {},
     "title": ""
    }
   },
   "outputs": [],
   "source": [
    "\"\"\"\n",
    "# Referential Integrity Check Before fact_sales Merge\n",
    "# Before merging fact_sales, check if all customer_id values exist in dim_customer.\n",
    "# Identify orphaned customer_id values in fact_sales\n",
    "# If any records appear in this query, it means customer_id values exist in fact_sales but not in dim_customer.\n",
    "# You can reject, log, or hold these records until their dimensions arrive.\n",
    "\n",
    "\"\"\""
   ]
  },
  {
   "cell_type": "code",
   "execution_count": 0,
   "metadata": {
    "application/vnd.databricks.v1+cell": {
     "cellMetadata": {
      "byteLimit": 2048000,
      "rowLimit": 10000
     },
     "inputWidgets": {},
     "nuid": "da84889f-e7b7-424c-90f9-87e6748e713a",
     "showTitle": false,
     "tableResultSettingsMap": {},
     "title": ""
    }
   },
   "outputs": [],
   "source": [
    "silver_loan = \"/mnt/Prajwal/Capstone_Project/silver/Loanpayments\"\n",
    "\n",
    "silver_df = spark.read.format(\"delta\").load(silver_loan)\n",
    "\n",
    "# List all tables in the banking schema\n",
    "tables = spark.sql(\"SHOW TABLES IN banking\")\n",
    "display(tables)"
   ]
  },
  {
   "cell_type": "code",
   "execution_count": 0,
   "metadata": {
    "application/vnd.databricks.v1+cell": {
     "cellMetadata": {
      "byteLimit": 2048000,
      "rowLimit": 10000
     },
     "inputWidgets": {},
     "nuid": "8342f9f9-c9ba-40e3-94e7-888582a8aa07",
     "showTitle": false,
     "tableResultSettingsMap": {},
     "title": ""
    }
   },
   "outputs": [],
   "source": [
    "dim_loan_detail_gold = spark.sql(\"SELECT * FROM banking.loan_details_dim\")\n",
    "\n",
    "# Perform a left join to identify orphaned\n",
    "\n",
    "orphaned_records = silver_df.join(dim_loan_detail_gold, on=\"loan_id\", how=\"left\").filter(dim_loan_detail_gold.loan_id.isNotNull()).select(\"loan_id\")\n",
    "\n",
    "display(orphaned_records.distinct())\n",
    "\n",
    "display(orphaned_records.distinct().count())\n"
   ]
  },
  {
   "cell_type": "code",
   "execution_count": 0,
   "metadata": {
    "application/vnd.databricks.v1+cell": {
     "cellMetadata": {
      "byteLimit": 2048000,
      "rowLimit": 10000
     },
     "inputWidgets": {},
     "nuid": "1be6b62b-369f-41a1-b7ad-01d100cc27c6",
     "showTitle": false,
     "tableResultSettingsMap": {},
     "title": ""
    }
   },
   "outputs": [],
   "source": [
    "# Import the required libraries\n",
    "from pyspark.sql.functions import *\n",
    "from pyspark.sql.types import *\n",
    "from pyspark.sql.window import Window\n",
    "from delta.tables import DeltaTable\n",
    "from pyspark import StorageLevel"
   ]
  },
  {
   "cell_type": "code",
   "execution_count": 0,
   "metadata": {
    "application/vnd.databricks.v1+cell": {
     "cellMetadata": {
      "byteLimit": 2048000,
      "rowLimit": 10000
     },
     "inputWidgets": {},
     "nuid": "55c766f5-3f22-4c6d-bfdf-6a2f5566971a",
     "showTitle": false,
     "tableResultSettingsMap": {},
     "title": ""
    }
   },
   "outputs": [],
   "source": [
    "customer_df = spark.read.format(\"delta\").load(\"/mnt/Prajwal/Capstone_Project/silver/bankcustomer_source\")\n",
    "loan_details_df = spark.read.format(\"delta\").load(\"/mnt/Prajwal/Capstone_Project/silver/bankloandetails\")\n",
    "loan_pay_df = spark.read.format(\"delta\").load(\"/mnt/Prajwal/Capstone_Project/silver/Loanpayments\")\n",
    "\n",
    "display(customer_df.count())\n",
    "display(loan_details_df.count())\n",
    "display(loan_pay_df.count())"
   ]
  },
  {
   "cell_type": "code",
   "execution_count": 0,
   "metadata": {
    "application/vnd.databricks.v1+cell": {
     "cellMetadata": {
      "byteLimit": 2048000,
      "rowLimit": 10000
     },
     "inputWidgets": {},
     "nuid": "8803f8d1-5107-4568-8449-f998ac34db66",
     "showTitle": false,
     "tableResultSettingsMap": {},
     "title": ""
    }
   },
   "outputs": [],
   "source": [
    "customer_df.printSchema()\n",
    "loan_details_df.printSchema()\n",
    "loan_pay_df.printSchema()"
   ]
  },
  {
   "cell_type": "code",
   "execution_count": 0,
   "metadata": {
    "application/vnd.databricks.v1+cell": {
     "cellMetadata": {
      "byteLimit": 2048000,
      "rowLimit": 10000
     },
     "inputWidgets": {},
     "nuid": "c17ad3ef-2a6e-418f-8db9-252563905982",
     "showTitle": false,
     "tableResultSettingsMap": {},
     "title": ""
    }
   },
   "outputs": [],
   "source": [
    "%python\n",
    "from pyspark.sql import functions as F\n",
    "\n",
    "Fact_table = loan_pay_df.join(\n",
    "    loan_details_df.select(\"loan_id\", \"customer_id\", \"loan_start_date\", \"credit_score\"),\n",
    "    on=\"loan_id\",\n",
    "    how=\"left\"\n",
    ")\n",
    "\n",
    "display(Fact_table)\n",
    "\n"
   ]
  },
  {
   "cell_type": "code",
   "execution_count": 0,
   "metadata": {
    "application/vnd.databricks.v1+cell": {
     "cellMetadata": {
      "byteLimit": 2048000,
      "rowLimit": 10000
     },
     "inputWidgets": {},
     "nuid": "f098cf8f-3e71-451a-ac0e-174dc2ca1180",
     "showTitle": false,
     "tableResultSettingsMap": {},
     "title": ""
    }
   },
   "outputs": [],
   "source": [
    "# Calculate late payment count and add as a new column\n",
    "late_payment_counts = Fact_table.filter(F.col(\"payment_status\") == \"LATE\").groupBy(\"loan_id\").agg(F.count(\"*\").alias(\"late_payment_count\"))\n",
    "\n",
    "Fact_table = Fact_table.join(late_payment_counts, on=\"loan_id\", how=\"left\")\n",
    "\n",
    "display(Fact_table)"
   ]
  },
  {
   "cell_type": "code",
   "execution_count": 0,
   "metadata": {
    "application/vnd.databricks.v1+cell": {
     "cellMetadata": {
      "byteLimit": 2048000,
      "rowLimit": 10000
     },
     "inputWidgets": {},
     "nuid": "06a56625-353a-4400-8198-d34122c69f42",
     "showTitle": false,
     "tableResultSettingsMap": {},
     "title": ""
    }
   },
   "outputs": [],
   "source": [
    "# Calculate MISSED payment count and add as a new column\n",
    "missed_payment_counts = Fact_table.filter(F.col(\"payment_status\") == \"MISSED\").groupBy(\"loan_id\").agg(F.count(\"*\").alias(\"missed_payment_count\"))\n",
    "\n",
    "Fact_table = Fact_table.join(missed_payment_counts, on=\"loan_id\", how=\"left\")\n",
    "\n",
    "display(Fact_table)"
   ]
  },
  {
   "cell_type": "code",
   "execution_count": 0,
   "metadata": {
    "application/vnd.databricks.v1+cell": {
     "cellMetadata": {
      "byteLimit": 2048000,
      "rowLimit": 10000
     },
     "inputWidgets": {},
     "nuid": "6c334cca-c154-4d74-9d0e-c9bbc83d0ec4",
     "showTitle": false,
     "tableResultSettingsMap": {},
     "title": ""
    }
   },
   "outputs": [],
   "source": [
    "#Based on the number of Missed or Late payments and Credit Score of the customer, create Default_Risk_Category\n",
    "Fact_table = Fact_table.withColumn(\n",
    "    \"Default_Risk_Category\",\n",
    "    when(\n",
    "        ((col(\"missed_payment_count\") > 2) | (col(\"late_payment_count\") > 3)) & (col(\"credit_score\") < 600),\n",
    "        lit(\"High Risk\")\n",
    "    ).when(\n",
    "        ((col(\"missed_payment_count\") > 1) | (col(\"late_payment_count\") > 2)) & (col(\"credit_score\").between(600, 650)),\n",
    "        lit(\"Medium Risk\")\n",
    "    ).otherwise(lit(\"Low Risk\"))\n",
    ")\n",
    "\n",
    "display(Fact_table)"
   ]
  },
  {
   "cell_type": "code",
   "execution_count": 0,
   "metadata": {
    "application/vnd.databricks.v1+cell": {
     "cellMetadata": {
      "byteLimit": 2048000,
      "rowLimit": 10000
     },
     "inputWidgets": {},
     "nuid": "81b88fc3-3afd-4813-86d9-cabeae20145e",
     "showTitle": false,
     "tableResultSettingsMap": {},
     "title": ""
    }
   },
   "outputs": [],
   "source": [
    "%python\n",
    "from pyspark.sql.functions import datediff, col\n",
    "\n",
    "# Calculate Customer Loan Tenure\n",
    "Fact_table = Fact_table.withColumn(\n",
    "    \"loan_tenure_days\",\n",
    "    datediff(col(\"Payment_Date\"), col(\"loan_start_date\"))\n",
    ")\n",
    "\n",
    "display(Fact_table)"
   ]
  },
  {
   "cell_type": "code",
   "execution_count": 0,
   "metadata": {
    "application/vnd.databricks.v1+cell": {
     "cellMetadata": {
      "byteLimit": 2048000,
      "rowLimit": 10000
     },
     "inputWidgets": {},
     "nuid": "62a33d7d-34c4-4903-bc29-2f2a8311eac4",
     "showTitle": false,
     "tableResultSettingsMap": {},
     "title": ""
    }
   },
   "outputs": [],
   "source": [
    "# Cache Fact table\n",
    "Fact_table.select(\"Payment_ID\",\"Loan_ID\",\"customer_id\",\"Payment_Amount\",\"Payment_Date\",\"Payment_Status\",\"Balance_Amount\",\"Penalty_Amount\",\"late_payment_count\",\"missed_payment_count\",\"Default_Risk_Category\",\"loan_tenure_days\").cache()"
   ]
  },
  {
   "cell_type": "code",
   "execution_count": 0,
   "metadata": {
    "application/vnd.databricks.v1+cell": {
     "cellMetadata": {
      "byteLimit": 2048000,
      "rowLimit": 10000
     },
     "inputWidgets": {},
     "nuid": "63f03172-9220-455d-b5f8-79160e512281",
     "showTitle": false,
     "tableResultSettingsMap": {},
     "title": ""
    }
   },
   "outputs": [],
   "source": [
    "%python\n",
    "from delta.tables import DeltaTable\n",
    "\n",
    "gold_path = \"/mnt/Prajwal/Prajwal/Retail_sales_usecase/gold/Fact_Payemnt\"\n",
    "\n",
    "# Remove duplicates from the source DataFrame\n",
    "Fact_table = Fact_table.dropDuplicates([\"payment_id\"])\n",
    "\n",
    "if DeltaTable.isDeltaTable(spark, gold_path):\n",
    "    delta_table = DeltaTable.forPath(spark, gold_path)\n",
    "\n",
    "    delta_table.alias(\"target\").merge(\n",
    "        Fact_table.alias(\"source\"),\n",
    "        \"target.payment_id = source.payment_id\"\n",
    "    ).whenMatchedUpdateAll() \\\n",
    "     .whenNotMatchedInsertAll() \\\n",
    "     .execute()\n",
    "else:\n",
    "    fact_df.write.format(\"delta\") \\\n",
    "        .mode(\"overwrite\") \\\n",
    "        .partitionBy(\"customer_id\") \\\n",
    "        .save(gold_path)"
   ]
  },
  {
   "cell_type": "code",
   "execution_count": 0,
   "metadata": {
    "application/vnd.databricks.v1+cell": {
     "cellMetadata": {
      "byteLimit": 2048000,
      "rowLimit": 10000
     },
     "inputWidgets": {},
     "nuid": "10647ac5-d814-40d7-9055-d285a077560a",
     "showTitle": false,
     "tableResultSettingsMap": {},
     "title": ""
    }
   },
   "outputs": [],
   "source": [
    "gold_path = \"/mnt/Prajwal/Prajwal/Retail_sales_usecase/Gold_clone/Fact_Payemnt\"\n",
    "\n",
    "spark.sql(f\"\"\"\n",
    "    CREATE TABLE IF NOT EXISTS banking.Fact_Payment\n",
    "    USING DELTA\n",
    "    LOCATION '{gold_path}'\n",
    "\"\"\")"
   ]
  },
  {
   "cell_type": "code",
   "execution_count": 0,
   "metadata": {
    "application/vnd.databricks.v1+cell": {
     "cellMetadata": {
      "byteLimit": 2048000,
      "implicitDf": true,
      "rowLimit": 10000
     },
     "inputWidgets": {},
     "nuid": "85b93e4c-641e-4c53-a58c-d6c10c7eca50",
     "showTitle": false,
     "tableResultSettingsMap": {},
     "title": ""
    }
   },
   "outputs": [],
   "source": [
    "%sql\n",
    "select * from banking.Fact_Payment"
   ]
  },
  {
   "cell_type": "code",
   "execution_count": 0,
   "metadata": {
    "application/vnd.databricks.v1+cell": {
     "cellMetadata": {
      "byteLimit": 2048000,
      "rowLimit": 10000
     },
     "inputWidgets": {},
     "nuid": "1e9de7f7-b6c1-4985-a46a-97d27c99fd05",
     "showTitle": false,
     "tableResultSettingsMap": {},
     "title": ""
    }
   },
   "outputs": [],
   "source": []
  }
 ],
 "metadata": {
  "application/vnd.databricks.v1+notebook": {
   "computePreferences": null,
   "dashboards": [],
   "environmentMetadata": {
    "base_environment": "",
    "environment_version": "2"
   },
   "inputWidgetPreferences": null,
   "language": "python",
   "notebookMetadata": {
    "mostRecentlyExecutedCommandWithImplicitDF": {
     "commandId": 8450118724589338,
     "dataframes": [
      "_sqldf"
     ]
    },
    "pythonIndentUnit": 4
   },
   "notebookName": "Gold_fact",
   "widgets": {}
  },
  "language_info": {
   "name": "python"
  }
 },
 "nbformat": 4,
 "nbformat_minor": 0
}
