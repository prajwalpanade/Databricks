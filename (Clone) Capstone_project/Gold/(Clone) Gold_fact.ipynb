{
 "cells": [
  {
   "cell_type": "code",
   "execution_count": 0,
   "metadata": {
    "application/vnd.databricks.v1+cell": {
     "cellMetadata": {
      "byteLimit": 2048000,
      "rowLimit": 10000
     },
     "inputWidgets": {},
     "nuid": "202a1284-ed72-4da4-89d8-77494b4263e4",
     "showTitle": false,
     "tableResultSettingsMap": {},
     "title": ""
    }
   },
   "outputs": [],
   "source": [
    "\"\"\"\n",
    "# Referential Integrity Check Before fact_sales Merge\n",
    "# Before merging fact_sales, check if all customer_id values exist in dim_customer.\n",
    "# Identify orphaned customer_id values in fact_sales\n",
    "# If any records appear in this query, it means customer_id values exist in fact_sales but not in dim_customer.\n",
    "# You can reject, log, or hold these records until their dimensions arrive.\n",
    "\n",
    "\"\"\""
   ]
  },
  {
   "cell_type": "code",
   "execution_count": 0,
   "metadata": {
    "application/vnd.databricks.v1+cell": {
     "cellMetadata": {
      "byteLimit": 2048000,
      "rowLimit": 10000
     },
     "inputWidgets": {},
     "nuid": "da84889f-e7b7-424c-90f9-87e6748e713a",
     "showTitle": false,
     "tableResultSettingsMap": {},
     "title": ""
    }
   },
   "outputs": [],
   "source": [
    "silver_path = \"/mnt/Prajwal/Capstone_Project/silver/Loanpayments\"\n",
    "\n",
    "silver_df = spark.read.format(\"delta\").load(silver_path)\n",
    "\n",
    "\n",
    "display(silver_df)\n",
    "\n",
    "# List all tables in the banking schema\n",
    "tables = spark.sql(\"SHOW TABLES IN prajwal\")\n",
    "display(tables)\n"
   ]
  },
  {
   "cell_type": "code",
   "execution_count": 0,
   "metadata": {
    "application/vnd.databricks.v1+cell": {
     "cellMetadata": {
      "byteLimit": 2048000,
      "rowLimit": 10000
     },
     "inputWidgets": {},
     "nuid": "51be9086-145a-458f-b09c-34cd72f2ccc2",
     "showTitle": false,
     "tableResultSettingsMap": {},
     "title": ""
    }
   },
   "outputs": [],
   "source": [
    "# Perform a left join to identify orphaned\n",
    "\n",
    "dim_loan_detail_gold = spark.table(\"prajwal.loan_details_dim\")\n",
    "\n",
    "orphaned_records = silver_df.join(dim_loan_detail_gold, on=\"loan_id\", how=\"left\").filter(dim_loan_detail_gold.loan_id.isNotNull()).select(\"loan_id\")\n",
    "\n",
    "display(orphaned_records.distinct().count())"
   ]
  },
  {
   "cell_type": "code",
   "execution_count": 0,
   "metadata": {
    "application/vnd.databricks.v1+cell": {
     "cellMetadata": {
      "byteLimit": 2048000,
      "rowLimit": 10000
     },
     "inputWidgets": {},
     "nuid": "1be6b62b-369f-41a1-b7ad-01d100cc27c6",
     "showTitle": false,
     "tableResultSettingsMap": {},
     "title": ""
    }
   },
   "outputs": [],
   "source": [
    "# Import the required libraries\n",
    "from pyspark.sql.functions import *\n",
    "from pyspark.sql.types import *\n",
    "from pyspark.sql.window import Window\n",
    "from delta.tables import DeltaTable\n",
    "from pyspark import StorageLevel"
   ]
  },
  {
   "cell_type": "code",
   "execution_count": 0,
   "metadata": {
    "application/vnd.databricks.v1+cell": {
     "cellMetadata": {
      "byteLimit": 2048000,
      "rowLimit": 10000
     },
     "inputWidgets": {},
     "nuid": "55c766f5-3f22-4c6d-bfdf-6a2f5566971a",
     "showTitle": false,
     "tableResultSettingsMap": {},
     "title": ""
    }
   },
   "outputs": [],
   "source": [
    "customer_df = spark.read.format(\"delta\").load(\"/mnt/Prajwal/Capstone_Project/silver/bankcustomer_source\")\n",
    "loan_details_df = spark.read.format(\"delta\").load(\"/mnt/Prajwal/Capstone_Project/silver/bankloandetails\")\n",
    "loan_pay_df = spark.read.format(\"delta\").load(\"/mnt/Prajwal/Capstone_Project/silver/Loanpayments\")\n",
    "\n",
    "display(customer_df.count())\n",
    "display(loan_details_df.count())\n",
    "display(loan_pay_df.count())"
   ]
  },
  {
   "cell_type": "code",
   "execution_count": 0,
   "metadata": {
    "application/vnd.databricks.v1+cell": {
     "cellMetadata": {
      "byteLimit": 2048000,
      "rowLimit": 10000
     },
     "inputWidgets": {},
     "nuid": "bcc31845-b0a2-4d0b-a76e-277e5ec8b8f5",
     "showTitle": false,
     "tableResultSettingsMap": {},
     "title": ""
    }
   },
   "outputs": [],
   "source": [
    "display(loan_pay_df)"
   ]
  },
  {
   "cell_type": "code",
   "execution_count": 0,
   "metadata": {
    "application/vnd.databricks.v1+cell": {
     "cellMetadata": {
      "byteLimit": 2048000,
      "rowLimit": 10000
     },
     "inputWidgets": {},
     "nuid": "24855c1e-d8a9-4381-86b5-94739cad999a",
     "showTitle": false,
     "tableResultSettingsMap": {},
     "title": ""
    }
   },
   "outputs": [],
   "source": [
    "display(loan_details_df)"
   ]
  },
  {
   "cell_type": "code",
   "execution_count": 0,
   "metadata": {
    "application/vnd.databricks.v1+cell": {
     "cellMetadata": {
      "byteLimit": 2048000,
      "rowLimit": 10000
     },
     "inputWidgets": {},
     "nuid": "ebbde193-09b3-407c-bcbb-1c703f7d21a8",
     "showTitle": false,
     "tableResultSettingsMap": {},
     "title": ""
    }
   },
   "outputs": [],
   "source": [
    "loan_pay_df.printSchema()\n",
    "loan_details_df.printSchema()"
   ]
  },
  {
   "cell_type": "code",
   "execution_count": 0,
   "metadata": {
    "application/vnd.databricks.v1+cell": {
     "cellMetadata": {
      "byteLimit": 2048000,
      "rowLimit": 10000
     },
     "inputWidgets": {},
     "nuid": "90f1031e-b354-4b42-98a9-66b97ed1c2c1",
     "showTitle": false,
     "tableResultSettingsMap": {},
     "title": ""
    }
   },
   "outputs": [],
   "source": [
    "Fact_table = loan_pay_df.join(\n",
    "    loan_details_df,\n",
    "    on=\"loan_id\",\n",
    "    how=\"left\"\n",
    ")\n",
    "\n",
    "display(Fact_table)"
   ]
  },
  {
   "cell_type": "code",
   "execution_count": 0,
   "metadata": {
    "application/vnd.databricks.v1+cell": {
     "cellMetadata": {
      "byteLimit": 2048000,
      "rowLimit": 10000
     },
     "inputWidgets": {},
     "nuid": "46839d8d-74fc-4e6d-ba73-73bcd1acc35f",
     "showTitle": false,
     "tableResultSettingsMap": {},
     "title": ""
    }
   },
   "outputs": [],
   "source": [
    "from pyspark.sql import functions as F\n",
    "\n",
    "# Calculate late payment count and add as a new column\n",
    "late_payment_counts = Fact_table.filter(F.col(\"payment_status\") == \"LATE\").groupBy(\"loan_id\").agg(F.count(\"*\").alias(\"late_payment_count\"))\n",
    "\n",
    "Fact_table = Fact_table.join(late_payment_counts, on=\"loan_id\", how=\"left\")\n",
    "\n",
    "# Calculate MISSED payment count and add as a new column\n",
    "missed_payment_counts = Fact_table.filter(F.col(\"payment_status\") == \"MISSED\").groupBy(\"loan_id\").agg(F.count(\"*\").alias(\"missed_payment_count\"))\n",
    "\n",
    "Fact_table = Fact_table.join(missed_payment_counts, on=\"loan_id\", how=\"left\")\n",
    "\n",
    "display(Fact_table)"
   ]
  },
  {
   "cell_type": "code",
   "execution_count": 0,
   "metadata": {
    "application/vnd.databricks.v1+cell": {
     "cellMetadata": {
      "byteLimit": 2048000,
      "rowLimit": 10000
     },
     "inputWidgets": {},
     "nuid": "6c334cca-c154-4d74-9d0e-c9bbc83d0ec4",
     "showTitle": false,
     "tableResultSettingsMap": {},
     "title": ""
    }
   },
   "outputs": [],
   "source": [
    "from pyspark.sql.functions import col, when, lit\n",
    "\n",
    "# Based on the number of Missed or Late payments and Credit Score of the customer, create Default_Risk_Category\n",
    "Fact_table = Fact_table.withColumn(\n",
    "    \"Default_Risk_Category\",\n",
    "    when(\n",
    "        ((col(\"missed_payment_count\") > 2) | (col(\"late_payment_count\") > 3)) & (col(\"credit_score\") < 600),\n",
    "        lit(\"High Risk\")\n",
    "    ).when(\n",
    "        ((col(\"missed_payment_count\") > 1) | (col(\"late_payment_count\") > 2)) & (col(\"credit_score\").between(600, 650)),\n",
    "        lit(\"Medium Risk\")\n",
    "    ).otherwise(lit(\"Low Risk\"))\n",
    ")\n",
    "\n",
    "display(Fact_table)"
   ]
  },
  {
   "cell_type": "code",
   "execution_count": 0,
   "metadata": {
    "application/vnd.databricks.v1+cell": {
     "cellMetadata": {
      "byteLimit": 2048000,
      "rowLimit": 10000
     },
     "inputWidgets": {},
     "nuid": "cca8b82d-0e4d-48be-85ed-5439537de555",
     "showTitle": false,
     "tableResultSettingsMap": {},
     "title": ""
    }
   },
   "outputs": [],
   "source": [
    "from pyspark.sql.functions import datediff, col, floor\n",
    "\n",
    "# Calculate Customer Loan Tenure in days\n",
    "Fact_table = Fact_table.withColumn(\n",
    "    \"loan_tenure_days\",\n",
    "    datediff(col(\"Payment_Date\"), col(\"loan_start_date\"))\n",
    ")\n",
    "\n",
    "# Convert loan tenure to years and months\n",
    "Fact_table = Fact_table.withColumn(\n",
    "    \"loan_tenure_years\",\n",
    "    floor(col(\"loan_tenure_days\") / 365)\n",
    ").withColumn(\n",
    "    \"loan_tenure_months\",\n",
    "    floor((col(\"loan_tenure_days\") % 365) / 30)\n",
    ")\n",
    "\n",
    "display(Fact_table)"
   ]
  },
  {
   "cell_type": "code",
   "execution_count": 0,
   "metadata": {
    "application/vnd.databricks.v1+cell": {
     "cellMetadata": {
      "byteLimit": 2048000,
      "rowLimit": 10000
     },
     "inputWidgets": {},
     "nuid": "62a33d7d-34c4-4903-bc29-2f2a8311eac4",
     "showTitle": false,
     "tableResultSettingsMap": {},
     "title": ""
    }
   },
   "outputs": [],
   "source": [
    "# Cache Fact table\n",
    "Fact_table.select(\"Payment_ID\",\"Loan_ID\",\"customer_id\",\"Payment_Amount\",\"Payment_Date\",\"Payment_Status\",\"Balance_Amount\",\"Penalty_Amount\",\"late_payment_count\",\"missed_payment_count\",\"Default_Risk_Category\",\"loan_tenure_days\",\"loan_tenure_years\",\"loan_tenure_months\").cache()"
   ]
  },
  {
   "cell_type": "code",
   "execution_count": 0,
   "metadata": {
    "application/vnd.databricks.v1+cell": {
     "cellMetadata": {
      "byteLimit": 2048000,
      "rowLimit": 10000
     },
     "inputWidgets": {},
     "nuid": "63f03172-9220-455d-b5f8-79160e512281",
     "showTitle": false,
     "tableResultSettingsMap": {},
     "title": ""
    }
   },
   "outputs": [],
   "source": [
    "%python\n",
    "from delta.tables import DeltaTable\n",
    "\n",
    "gold_path = \"/mnt/Prajwal/Capstone_Project/Gold_clone/Fact_Payemnt\"\n",
    "\n",
    "# Remove duplicates from the source DataFrame\n",
    "Fact_table = Fact_table.dropDuplicates([\"payment_id\"]).drop(\"ingest_time\")\n",
    "\n",
    "if DeltaTable.isDeltaTable(spark, gold_path):\n",
    "    delta_table = DeltaTable.forPath(spark, gold_path)\n",
    "\n",
    "    delta_table.alias(\"target\").merge(\n",
    "        Fact_table.alias(\"source\"),\n",
    "        \"target.payment_id = source.payment_id\"\n",
    "    ).whenMatchedUpdateAll() \\\n",
    "     .whenNotMatchedInsertAll() \\\n",
    "     .execute()\n",
    "else:\n",
    "    Fact_table.write.format(\"delta\") \\\n",
    "        .mode(\"overwrite\") \\\n",
    "        .partitionBy(\"customer_id\") \\\n",
    "        .save(gold_path)"
   ]
  },
  {
   "cell_type": "code",
   "execution_count": 0,
   "metadata": {
    "application/vnd.databricks.v1+cell": {
     "cellMetadata": {
      "byteLimit": 2048000,
      "rowLimit": 10000
     },
     "inputWidgets": {},
     "nuid": "10647ac5-d814-40d7-9055-d285a077560a",
     "showTitle": false,
     "tableResultSettingsMap": {},
     "title": ""
    }
   },
   "outputs": [],
   "source": [
    "spark.sql(f\"\"\"\n",
    "    CREATE TABLE IF NOT EXISTS prajwal.Fact_Payment\n",
    "    USING DELTA\n",
    "    LOCATION '{gold_path}'\n",
    "\"\"\")"
   ]
  },
  {
   "cell_type": "code",
   "execution_count": 0,
   "metadata": {
    "application/vnd.databricks.v1+cell": {
     "cellMetadata": {
      "byteLimit": 2048000,
      "implicitDf": true,
      "rowLimit": 10000
     },
     "inputWidgets": {},
     "nuid": "85b93e4c-641e-4c53-a58c-d6c10c7eca50",
     "showTitle": false,
     "tableResultSettingsMap": {},
     "title": ""
    }
   },
   "outputs": [],
   "source": [
    "%sql\n",
    "select * from prajwal.Fact_Payment"
   ]
  },
  {
   "cell_type": "code",
   "execution_count": 0,
   "metadata": {
    "application/vnd.databricks.v1+cell": {
     "cellMetadata": {
      "byteLimit": 2048000,
      "rowLimit": 10000
     },
     "inputWidgets": {},
     "nuid": "1e9de7f7-b6c1-4985-a46a-97d27c99fd05",
     "showTitle": false,
     "tableResultSettingsMap": {},
     "title": ""
    }
   },
   "outputs": [],
   "source": []
  }
 ],
 "metadata": {
  "application/vnd.databricks.v1+notebook": {
   "computePreferences": null,
   "dashboards": [],
   "environmentMetadata": {
    "base_environment": "",
    "environment_version": "2"
   },
   "inputWidgetPreferences": null,
   "language": "python",
   "notebookMetadata": {
    "mostRecentlyExecutedCommandWithImplicitDF": {
     "commandId": 2003017342898846,
     "dataframes": [
      "_sqldf"
     ]
    },
    "pythonIndentUnit": 4
   },
   "notebookName": "(Clone) Gold_fact",
   "widgets": {}
  },
  "language_info": {
   "name": "python"
  }
 },
 "nbformat": 4,
 "nbformat_minor": 0
}
