{
 "cells": [
  {
   "cell_type": "code",
   "execution_count": 0,
   "metadata": {
    "application/vnd.databricks.v1+cell": {
     "cellMetadata": {
      "byteLimit": 2048000,
      "rowLimit": 10000
     },
     "inputWidgets": {},
     "nuid": "e25d0d48-f9bb-4da8-aed7-d0eab4c8cd86",
     "showTitle": false,
     "tableResultSettingsMap": {},
     "title": ""
    }
   },
   "outputs": [],
   "source": [
    "from datetime import datetime\n",
    "from pyspark.sql.functions import udf\n",
    "from pyspark.sql.types import DateType\n",
    "\n",
    "@udf(DateType())\n",
    "def date_format_udf(date_str):\n",
    "    formats = ['%d-%b-%y', '%b %d-%Y', '%m/%d/%Y', '%m/_%d/%Y', '%m/ %b/%Y', '%d-%b-%Y', '%m/%d/%y' ,'%d-%m-%Y']\n",
    "\n",
    "    for fmt in formats:\n",
    "        try:\n",
    "            if date_str is None:\n",
    "                return None \n",
    "            \n",
    "            date_obj = datetime.strptime(date_str, fmt)\n",
    "            current_date = datetime.now()\n",
    "            if date_obj.year > current_date.year:\n",
    "                date_obj = date_obj.replace(year=date_obj.year - 100)\n",
    "            return date_obj.date()\n",
    "        except ValueError:\n",
    "            continue\n"
   ]
  },
  {
   "cell_type": "code",
   "execution_count": 0,
   "metadata": {
    "application/vnd.databricks.v1+cell": {
     "cellMetadata": {
      "byteLimit": 2048000,
      "rowLimit": 10000
     },
     "inputWidgets": {},
     "nuid": "5295d85b-f729-4789-b57e-3497f742de89",
     "showTitle": false,
     "tableResultSettingsMap": {},
     "title": ""
    }
   },
   "outputs": [],
   "source": [
    "def path_exists(path):\n",
    "    try:\n",
    "        dbutils.fs.ls(path)\n",
    "        return True\n",
    "    except Exception as e:\n",
    "        return False"
   ]
  },
  {
   "cell_type": "code",
   "execution_count": 0,
   "metadata": {
    "application/vnd.databricks.v1+cell": {
     "cellMetadata": {},
     "inputWidgets": {},
     "nuid": "974407e2-3d69-405e-a394-be317b75d02d",
     "showTitle": false,
     "tableResultSettingsMap": {},
     "title": ""
    }
   },
   "outputs": [],
   "source": []
  }
 ],
 "metadata": {
  "application/vnd.databricks.v1+notebook": {
   "computePreferences": null,
   "dashboards": [],
   "environmentMetadata": {
    "base_environment": "",
    "environment_version": "2"
   },
   "inputWidgetPreferences": null,
   "language": "python",
   "notebookMetadata": {
    "pythonIndentUnit": 4
   },
   "notebookName": "utilities",
   "widgets": {}
  },
  "language_info": {
   "name": "python"
  }
 },
 "nbformat": 4,
 "nbformat_minor": 0
}
