{
 "cells": [
  {
   "cell_type": "code",
   "execution_count": 0,
   "metadata": {
    "application/vnd.databricks.v1+cell": {
     "cellMetadata": {
      "byteLimit": 2048000,
      "rowLimit": 10000
     },
     "inputWidgets": {},
     "nuid": "fed0eebb-4820-42fc-b1d1-9e6732d5e47f",
     "showTitle": false,
     "tableResultSettingsMap": {},
     "title": ""
    }
   },
   "outputs": [],
   "source": [
    " #Referential Integrity Check Before Merge\n",
    "# Before inserting into dim_product, check for duplicate or inconsistent records in stg_dim_product to prevent conflicts\n",
    "# If results appear, it means multiple records exist for the same product_id.\n",
    "#  Deduplicate or validate before merging.\n",
    "\n",
    "from pyspark.sql import functions as F\n",
    "\n",
    "# Load the staging data (replace with your actual staging path if needed)\n",
    "product_df = spark.read.format(\"delta\").load(\"/mnt/Prajwal/Retail_sales_usecase/Silver/SilverPDetails\")\n",
    "\n",
    "# Check for duplicate product_id\n",
    "duplicate_product_ids = product_df.groupBy(\"product_id\") \\\n",
    "    .agg(F.count(\"*\").alias(\"count\")) \\\n",
    "    .filter(F.col(\"count\") > 1)\n",
    "\n",
    "# Display duplicates\n",
    "duplicate_product_ids.show(truncate=False)"
   ]
  },
  {
   "cell_type": "code",
   "execution_count": 0,
   "metadata": {
    "application/vnd.databricks.v1+cell": {
     "cellMetadata": {
      "byteLimit": 2048000,
      "rowLimit": 10000
     },
     "inputWidgets": {},
     "nuid": "10d669de-798b-4a10-ad70-4e28392989be",
     "showTitle": false,
     "tableResultSettingsMap": {},
     "title": ""
    }
   },
   "outputs": [],
   "source": [
    "from pyspark.sql import functions as F\n",
    "from pyspark.sql.types import *\n",
    "from pyspark.sql.functions import monotonically_increasing_id\n",
    "from delta.tables import DeltaTable\n",
    "\n",
    "# Paths\n",
    "silver_path = \"/mnt/Prajwal/Retail_sales_usecase/Silver/SilverPDetails\"\n",
    "gold_path = \"/mnt/Prajwal/Retail_sales_usecase/Gold\"\n",
    "\n",
    "# Define the schema for the Product Dimension (without 'is_high_value_flag' and 'ingestion_time_formatted')\n",
    "product_schema = StructType([\n",
    "    StructField(\"product_id\", IntegerType()),       # Business Key (Natural Key)\n",
    "    StructField(\"product_name\", StringType()),\n",
    "    StructField(\"category\", StringType()),\n",
    "    StructField(\"brand\", StringType()),\n",
    "    StructField(\"in_stock\", IntegerType()),         # Assuming in_stock is integer\n",
    "    StructField(\"ingestion_time\", TimestampType())  # Include the ingestion_time field from Silver schema\n",
    "])\n",
    "\n",
    "\n",
    "# Apply transformations: Add necessary columns\n",
    "product_df = product_df.withColumn(\"Effective_Start_Dt\", F.lit(\"2025-04-12\").cast(\"date\")) \\\n",
    "    .withColumn(\"Effective_End_Dt\", F.lit(None).cast(\"date\")) \\\n",
    "    .withColumn(\"Is_Active\", F.lit(\"Y\")) \\\n",
    "    .withColumn(\"status\", F.lit(\"NI - Newly Inserted\"))  # NI = Newly Inserted\n",
    "\n",
    "display(product_df)"
   ]
  },
  {
   "cell_type": "code",
   "execution_count": 0,
   "metadata": {
    "application/vnd.databricks.v1+cell": {
     "cellMetadata": {
      "byteLimit": 2048000,
      "rowLimit": 10000
     },
     "inputWidgets": {},
     "nuid": "14f315b8-0d67-416e-9568-6fa5f62f5e43",
     "showTitle": false,
     "tableResultSettingsMap": {},
     "title": ""
    }
   },
   "outputs": [],
   "source": [
    "# Add Surrogate Key (using monotonically_increasing_id)\n",
    "product_df = product_df.withColumn(\"Product_Key\", monotonically_increasing_id().cast(IntegerType()))"
   ]
  },
  {
   "cell_type": "code",
   "execution_count": 0,
   "metadata": {
    "application/vnd.databricks.v1+cell": {
     "cellMetadata": {
      "byteLimit": 2048000,
      "rowLimit": 10000
     },
     "inputWidgets": {},
     "nuid": "b58b7671-1b00-4279-8bef-7333ea012bf3",
     "showTitle": false,
     "tableResultSettingsMap": {},
     "title": ""
    }
   },
   "outputs": [],
   "source": [
    "# Write the data to a Delta table in the Gold path\n",
    "product_df.write.format(\"delta\").mode(\"overwrite\").save(gold_path + \"ProductDimension\")"
   ]
  },
  {
   "cell_type": "code",
   "execution_count": 0,
   "metadata": {
    "application/vnd.databricks.v1+cell": {
     "cellMetadata": {
      "byteLimit": 2048000,
      "rowLimit": 10000
     },
     "inputWidgets": {},
     "nuid": "7623434e-76f7-481e-828a-30e7ceb48438",
     "showTitle": false,
     "tableResultSettingsMap": {},
     "title": ""
    }
   },
   "outputs": [],
   "source": [
    "product_gold_df = spark.read.format(\"delta\").load(gold_path + \"ProductDimension\")\n",
    "display(product_gold_df)"
   ]
  },
  {
   "cell_type": "code",
   "execution_count": 0,
   "metadata": {
    "application/vnd.databricks.v1+cell": {
     "cellMetadata": {
      "byteLimit": 2048000,
      "rowLimit": 10000
     },
     "inputWidgets": {},
     "nuid": "3871beae-68e0-4371-b1cb-9178efd5b3c3",
     "showTitle": false,
     "tableResultSettingsMap": {},
     "title": ""
    }
   },
   "outputs": [],
   "source": [
    "# Register the saved data as a table in the Delta catalog (using Gold path)\n",
    "spark.sql(f\"CREATE TABLE IF NOT EXISTS retail.productdimension USING DELTA LOCATION '{gold_path}ProductDimension'\")\n",
    "\n",
    "print(\"Product data saved to Gold layer and table registered.\")"
   ]
  },
  {
   "cell_type": "code",
   "execution_count": 0,
   "metadata": {
    "application/vnd.databricks.v1+cell": {
     "cellMetadata": {
      "byteLimit": 2048000,
      "implicitDf": true,
      "rowLimit": 10000
     },
     "inputWidgets": {},
     "nuid": "58510d12-0854-4dc0-af28-5c9d84035f5f",
     "showTitle": false,
     "tableResultSettingsMap": {},
     "title": ""
    }
   },
   "outputs": [],
   "source": [
    "%sql\n",
    "select count(*) from retail.productdimension"
   ]
  }
 ],
 "metadata": {
  "application/vnd.databricks.v1+notebook": {
   "computePreferences": null,
   "dashboards": [],
   "environmentMetadata": {
    "base_environment": "",
    "environment_version": "2"
   },
   "inputWidgetPreferences": null,
   "language": "python",
   "notebookMetadata": {
    "mostRecentlyExecutedCommandWithImplicitDF": {
     "commandId": 8930194337885822,
     "dataframes": [
      "_sqldf"
     ]
    },
    "pythonIndentUnit": 4
   },
   "notebookName": "Retail_Gold_Product",
   "widgets": {}
  },
  "language_info": {
   "name": "python"
  }
 },
 "nbformat": 4,
 "nbformat_minor": 0
}
