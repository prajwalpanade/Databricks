{
 "cells": [
  {
   "cell_type": "code",
   "execution_count": 0,
   "metadata": {
    "application/vnd.databricks.v1+cell": {
     "cellMetadata": {
      "byteLimit": 2048000,
      "rowLimit": 10000
     },
     "inputWidgets": {},
     "nuid": "a4eab687-3c9d-431d-92c7-42966d5f0753",
     "showTitle": false,
     "tableResultSettingsMap": {},
     "title": ""
    }
   },
   "outputs": [],
   "source": [
    "\"\"\"\n",
    "Process Customer Insights - Data Cleansing & Standardization\n",
    "\"\"\"\n",
    "\n",
    "#importing libraries\n",
    "from pyspark.sql.functions import col, lit, trim, lower, regexp_replace, round, when\n",
    "from pyspark.sql import DataFrame\n"
   ]
  },
  {
   "cell_type": "code",
   "execution_count": 0,
   "metadata": {
    "application/vnd.databricks.v1+cell": {
     "cellMetadata": {
      "byteLimit": 2048000,
      "rowLimit": 10000
     },
     "inputWidgets": {},
     "nuid": "d6a93791-5e0b-4931-a462-9dc936ade5d2",
     "showTitle": false,
     "tableResultSettingsMap": {},
     "title": ""
    }
   },
   "outputs": [],
   "source": [
    "#defning path for both bronze and silver \n",
    "bronze_path = \"/mnt/Prajwal/Retail_sales_usecase/bronzeCInsights\"\n",
    "silver_path = \"/mnt/Prajwal/Retail_sales_usecase/Silver/SilverCInsights\"\n",
    "\n",
    "#reading data from bronze\n",
    "df = spark.read.format(\"parquet\").load(bronze_path)\n",
    "\n",
    "#dropping duplicates\n",
    "df = df.dropDuplicates([\"customer_id\"])\n",
    "\n",
    "# Casting columns to proper format except customer_id and ingestion_time\n",
    "for column in df.columns:\n",
    "    if column not in [\"customer_id\",\"order_frequency\", \"ingest_time\"]:\n",
    "        df = df.withColumn(column, col(column).cast(\"Integer\"))\n",
    "\n",
    "#Trimming order frequency\n",
    "df = df.withColumn(\"order_frequency\", trim(col(\"order_frequency\")))\n",
    "\n",
    "#writing data to silver layer\n",
    "df.write.format(\"delta\").mode(\"overwrite\").save(silver_path)"
   ]
  },
  {
   "cell_type": "code",
   "execution_count": 0,
   "metadata": {
    "application/vnd.databricks.v1+cell": {
     "cellMetadata": {
      "byteLimit": 2048000,
      "rowLimit": 10000
     },
     "inputWidgets": {},
     "nuid": "e1aa7725-138f-49e4-95af-0666c9298034",
     "showTitle": false,
     "tableResultSettingsMap": {},
     "title": ""
    }
   },
   "outputs": [],
   "source": [
    "#counting source and destination\n",
    "\n",
    "df_b = spark.read.format(\"parquet\").load(bronze_path)\n",
    "df_s = spark.read.format(\"delta\").load(silver_path)\n",
    "print(\"Number of records in bronze table:\", df_b.count())\n",
    "print(\"Number of records in silver table:\", df_s.count())"
   ]
  },
  {
   "cell_type": "code",
   "execution_count": 0,
   "metadata": {
    "application/vnd.databricks.v1+cell": {
     "cellMetadata": {
      "byteLimit": 2048000,
      "rowLimit": 10000
     },
     "inputWidgets": {},
     "nuid": "62e24c9b-7c28-498f-a422-3e882fdf4345",
     "showTitle": false,
     "tableResultSettingsMap": {},
     "title": ""
    }
   },
   "outputs": [],
   "source": [
    "#read the file from silver path\n",
    "df = spark.read.format(\"delta\").load(silver_path)\n",
    "df.display()"
   ]
  },
  {
   "cell_type": "code",
   "execution_count": 0,
   "metadata": {
    "application/vnd.databricks.v1+cell": {
     "cellMetadata": {},
     "inputWidgets": {},
     "nuid": "a9543113-e2b2-4b76-a1eb-697f0fcd7d5c",
     "showTitle": false,
     "tableResultSettingsMap": {},
     "title": ""
    }
   },
   "outputs": [],
   "source": []
  }
 ],
 "metadata": {
  "application/vnd.databricks.v1+notebook": {
   "computePreferences": null,
   "dashboards": [],
   "environmentMetadata": {
    "base_environment": "",
    "environment_version": "2"
   },
   "inputWidgetPreferences": null,
   "language": "python",
   "notebookMetadata": {
    "pythonIndentUnit": 4
   },
   "notebookName": "Retail_Silver_CustomerInsights",
   "widgets": {}
  },
  "language_info": {
   "name": "python"
  }
 },
 "nbformat": 4,
 "nbformat_minor": 0
}
