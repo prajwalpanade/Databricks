{
 "cells": [
  {
   "cell_type": "code",
   "execution_count": 0,
   "metadata": {
    "application/vnd.databricks.v1+cell": {
     "cellMetadata": {
      "byteLimit": 2048000,
      "rowLimit": 10000
     },
     "inputWidgets": {},
     "nuid": "88adc651-e7ee-41d8-be9d-d8cd7d99da61",
     "showTitle": false,
     "tableResultSettingsMap": {},
     "title": ""
    }
   },
   "outputs": [],
   "source": [
    "\"\"\"\n",
    "silver zone is responsible for cleaning, standardization, and applying business rules.\n",
    "Auto Optimize & Small File Compaction (Delta Optimization)\n",
    "Memory & Shuffle Optimizations (if transformations occur)\n",
    "Data Deduplication (Removing Duplicates)\n",
    "Handling Data Skew (Broadcast Joins & Salting for large joins)\n",
    "Adjusting Shuffle Partitions & Enabling AQE\n",
    "Data Type Optimization (Ensuring efficient storage & performance)\n",
    "\n",
    "\"\"\""
   ]
  },
  {
   "cell_type": "code",
   "execution_count": 0,
   "metadata": {
    "application/vnd.databricks.v1+cell": {
     "cellMetadata": {
      "byteLimit": 2048000,
      "rowLimit": 10000
     },
     "inputWidgets": {},
     "nuid": "a4422048-7e1d-4cf8-b6af-ed828b467c65",
     "showTitle": false,
     "tableResultSettingsMap": {},
     "title": ""
    }
   },
   "outputs": [],
   "source": [
    "%python\n",
    "from pyspark.sql.functions import *\n",
    "from datetime import datetime\n",
    "\n",
    "# Define bronze and silver path \n",
    "bronze_path = \"/mnt/Prajwal/Retail_sales_usecase/bronzeCDetails_day1\"\n",
    "silver_path = \"/mnt/Prajwal/Retail_sales_usecase/Silver/SilverCDetails_day1\"\n",
    "\n",
    "df = spark.read.format(\"parquet\").load(bronze_path)\n",
    "df = df.withColumnRenamed(\"street_addres\", \"address\") \\\n",
    "               .withColumnRenamed(\"email_id\", \"email\")\n",
    "\n",
    "df = df.fillna({\n",
    "    'first_name': 'Unknown',\n",
    "    'last_name': 'Unknown',\n",
    "    'email': 'noemail@example.com',\n",
    "    'address': 'No Address',\n",
    "    'state': 'Unknown',\n",
    "    'zipcode': '00000',\n",
    "    'contact_no': '000-000-0000'\n",
    "})\n",
    "\n",
    "# Trim spaces in all columns\n",
    "df = df.select([trim(col(c)).alias(c) for c in df.columns])\n",
    "\n",
    "# Capitalize first letter of first_name and last_name\n",
    "df = df.withColumn('first_name', initcap(col('first_name'))).withColumn('last_name', initcap(col('last_name')))\n",
    "\n",
    "# Ensure email is correctly formatted\n",
    "df = df.withColumn('email', regexp_replace('email', r'[^a-zA-Z0-9@._-]', ''))\n",
    "\n",
    "# Ensure zipcode is correctly formatted (assuming US zip codes) and ensure it is 5 digits\n",
    "df = df.withColumn('zipcode', lpad(regexp_replace('zipcode', r'[^0-9]', ''), 5, '0'))\n",
    "\n",
    "# Check for duplicates in customer_id\n",
    "df = df.dropDuplicates([\"customer_id\"])\n",
    "\n",
    "# Change ingestion time to format of yyyy-mm-dd hh:mm:ss\n",
    "df = df.withColumn('ingestion_time', date_format(col('ingest_time'), 'yyyy-MM-dd HH:mm:ss'))\n",
    "\n",
    "# Clean the target directory if it is not empty and not a Delta table\n",
    "dbutils.fs.rm(silver_path, True)\n",
    "\n",
    "# Write the cleaned data to the silver path\n",
    "df.write.format(\"delta\").mode(\"overwrite\").partitionBy(\"ingestion_time\").save(silver_path)\n",
    "\n",
    "# Create a logging table\n",
    "\n",
    "log_data = [(bronze_path, silver_path, \"success\", datetime.now())]\n",
    "log_schema = [\"bronze_path\", \"silver_path\", \"status\", \"timestamp\"]\n",
    "log_df = spark.createDataFrame(log_data, log_schema)\n",
    "\n",
    "# Write the log data to a logging table\n",
    "log_df.write.format(\"delta\").mode(\"overwrite\").save(\"/mnt/Prajwal/Retail_sales_usecase/Silver_logs\")"
   ]
  }
 ],
 "metadata": {
  "application/vnd.databricks.v1+notebook": {
   "computePreferences": null,
   "dashboards": [],
   "environmentMetadata": {
    "base_environment": "",
    "environment_version": "2"
   },
   "inputWidgetPreferences": null,
   "language": "python",
   "notebookMetadata": {
    "pythonIndentUnit": 4
   },
   "notebookName": "Retail_Day1_customer_silver",
   "widgets": {}
  },
  "language_info": {
   "name": "python"
  }
 },
 "nbformat": 4,
 "nbformat_minor": 0
}
