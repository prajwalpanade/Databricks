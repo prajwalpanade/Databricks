{
 "cells": [
  {
   "cell_type": "code",
   "execution_count": 0,
   "metadata": {
    "application/vnd.databricks.v1+cell": {
     "cellMetadata": {
      "byteLimit": 2048000,
      "rowLimit": 10000
     },
     "inputWidgets": {},
     "nuid": "fc3e835f-4d04-42ae-a973-d0931645aee6",
     "showTitle": false,
     "tableResultSettingsMap": {},
     "title": ""
    }
   },
   "outputs": [],
   "source": [
    "silver_path = \"/mnt/Prajwal/Retail_sales_usecase/Silver/SilverCInsights\"\n",
    "\n",
    "source_df = spark.read.format(\"delta\").load(silver_path)\n",
    "display(source_df)"
   ]
  },
  {
   "cell_type": "code",
   "execution_count": 0,
   "metadata": {
    "application/vnd.databricks.v1+cell": {
     "cellMetadata": {
      "byteLimit": 2048000,
      "rowLimit": 10000
     },
     "inputWidgets": {},
     "nuid": "878d9363-b5cf-488b-9625-b71d18dc0ba3",
     "showTitle": false,
     "tableResultSettingsMap": {},
     "title": ""
    }
   },
   "outputs": [],
   "source": [
    "source_df = source_df.withColumn(\"customer_id\", source_df[\"customer_id\"].cast(\"integer\"))\n"
   ]
  },
  {
   "cell_type": "code",
   "execution_count": 0,
   "metadata": {
    "application/vnd.databricks.v1+cell": {
     "cellMetadata": {
      "byteLimit": 2048000,
      "implicitDf": true,
      "rowLimit": 10000
     },
     "inputWidgets": {},
     "nuid": "dfa6aa25-2302-4a12-b7ed-2825e0683d2f",
     "showTitle": false,
     "tableResultSettingsMap": {},
     "title": ""
    }
   },
   "outputs": [],
   "source": [
    "\"\"\"\n",
    "/* Here’s the referential integrity check for dim_customer_insights to ensure all customer_id values exist in dim_customer before merging\n",
    "\n",
    "This query identifies orphaned records in stg_dim_customer_insights where customer_id does not exist in dim_customer.\n",
    "\n",
    "If any results appear, it means there are customer_id values in stg_dim_customer_insights that do not have a matching entry in dim_customer.\n",
    "\n",
    "*/\n",
    "\n",
    "--  Investigate the Missing Customer\n",
    "/* Possible reasons:\n",
    "The customer was never inserted into dim_customer.\n",
    "The customer was deleted from dim_customer but still exists in insights.\n",
    "The customer exists with is_current = FALSE (historical record only).\n",
    "*/ \"\"\""
   ]
  },
  {
   "cell_type": "code",
   "execution_count": 0,
   "metadata": {
    "application/vnd.databricks.v1+cell": {
     "cellMetadata": {
      "byteLimit": 2048000,
      "rowLimit": 10000
     },
     "inputWidgets": {},
     "nuid": "94cf2ec6-cd1a-4cf0-b23b-51efd55b2bce",
     "showTitle": false,
     "tableResultSettingsMap": {},
     "title": ""
    }
   },
   "outputs": [],
   "source": [
    "silver_path = \"/mnt/Prajwal/Retail_sales_usecase/Silver/SilverCInsights\"\n",
    "gold_path = \"/mnt/Prajwal/Retail_sales_usecase/GoldCustomerDimension\"\n",
    "\n",
    "\n",
    "silver_customer_insights = source_df\n",
    "gold_customer = spark.read.format(\"delta\").load(gold_path)\n",
    "\n",
    "\n",
    "# Perform left join to find customer_id in silver CustomerInsights data not present in gold Customer table\n",
    "missing_customers = silver_customer_insights.join(gold_customer, on=\"customer_id\", how=\"left\").filter(gold_customer[\"customer_id\"].isNull()).select(silver_customer_insights[\"customer_id\"])\n",
    "\n",
    "\n",
    "display(missing_customers)"
   ]
  },
  {
   "cell_type": "code",
   "execution_count": 0,
   "metadata": {
    "application/vnd.databricks.v1+cell": {
     "cellMetadata": {
      "byteLimit": 2048000,
      "rowLimit": 10000
     },
     "inputWidgets": {},
     "nuid": "0ed02fd9-14f6-42ed-9f05-587894bcf1b5",
     "showTitle": false,
     "tableResultSettingsMap": {},
     "title": ""
    }
   },
   "outputs": [],
   "source": [
    "# Ignore the Orphaned Record (Safe Option)\n",
    "\n",
    "# Filter out records that have a matching customer_id in the Gold table using a left_semi join\n",
    "valid_customers_df = silver_customer_insights.join(\n",
    "    gold_customer,\n",
    "    on=\"customer_id\",\n",
    "    how=\"left_semi\",\n",
    ")\n",
    "\n",
    "# Print the count of valid records\n",
    "print(\"Total valid records in Customer Insights which has matching entry in Customer Gold table:\", valid_customers_df.count())\n"
   ]
  },
  {
   "cell_type": "code",
   "execution_count": 0,
   "metadata": {
    "application/vnd.databricks.v1+cell": {
     "cellMetadata": {
      "byteLimit": 2048000,
      "rowLimit": 10000
     },
     "inputWidgets": {},
     "nuid": "9fe53f6b-b879-48ec-90ce-bbc06b5216ff",
     "showTitle": false,
     "tableResultSettingsMap": {},
     "title": ""
    }
   },
   "outputs": [],
   "source": [
    "# Customer Insights Gold Table\n",
    "\n",
    "from pyspark.sql import functions as F\n",
    "from pyspark.sql.types import StructType, StructField, IntegerType, StringType, DoubleType, TimestampType, BooleanType\n",
    "from delta.tables import DeltaTable\n",
    "from pyspark.sql.functions import current_timestamp, lit\n",
    "\n",
    "# Define the schema for Customer Insights Dimension (without ingestion_timestamp)\n",
    "insights_schema = StructType([\n",
    "    StructField(\"customer_id\", IntegerType(), True),\n",
    "    StructField(\"shopping_frequency\", IntegerType(), True),\n",
    "    StructField(\"total_spent\", DoubleType(), True),\n",
    "    StructField(\"lifetime_value\", DoubleType(), True),\n",
    "    StructField(\"page_views\", IntegerType(), True),\n",
    "    StructField(\"time_spent_online\", DoubleType(), True),\n",
    "    StructField(\"cart_dropout_rate\", DoubleType(), True),\n",
    "    StructField(\"avg_order_gap_days\", DoubleType(), True),\n",
    "    StructField(\"total_orders\", IntegerType(), True),\n",
    "    StructField(\"customer_segment\", StringType(), True),\n",
    "    StructField(\"start_date\", TimestampType(), True),\n",
    "    StructField(\"end_date\", TimestampType(), True),\n",
    "    StructField(\"is_active\", BooleanType(), True)\n",
    "])"
   ]
  },
  {
   "cell_type": "code",
   "execution_count": 0,
   "metadata": {
    "application/vnd.databricks.v1+cell": {
     "cellMetadata": {
      "byteLimit": 2048000,
      "rowLimit": 10000
     },
     "inputWidgets": {},
     "nuid": "3e6d8100-26f5-423e-afda-b9d7f38be59e",
     "showTitle": false,
     "tableResultSettingsMap": {},
     "title": ""
    }
   },
   "outputs": [],
   "source": [
    "# Transform the data to derive additional fields\n",
    "# Convert order_frequency into numeric values (Seldom = 1, Monthly = 12, Weekly = 52)\n",
    "silver_customer_insights = valid_customers_df.withColumn(\n",
    "    \"order_frequency_numeric\", \n",
    "    F.when(F.col(\"order_frequency\") == \"Seldom\", 1)\n",
    "     .when(F.col(\"order_frequency\") == \"Monthly\", 12)\n",
    "     .when(F.col(\"order_frequency\") == \"Weekly\", 52)\n",
    "     .otherwise(0)\n",
    ")"
   ]
  },
  {
   "cell_type": "code",
   "execution_count": 0,
   "metadata": {
    "application/vnd.databricks.v1+cell": {
     "cellMetadata": {
      "byteLimit": 2048000,
      "rowLimit": 10000
     },
     "inputWidgets": {},
     "nuid": "dc45187d-2c49-4871-b35b-6f8455529dd5",
     "showTitle": false,
     "tableResultSettingsMap": {},
     "title": ""
    }
   },
   "outputs": [],
   "source": [
    "# Calculate avg_order_gap_days (365 days divided by the numeric order frequency)\n",
    "silver_customer_insights = silver_customer_insights.withColumn(\n",
    "    \"avg_order_gap_days\", \n",
    "    365 / F.col(\"order_frequency_numeric\")\n",
    ")\n",
    "\n",
    "# Derive total_orders (using order_frequency_numeric, assuming 12 orders per year for each frequency)\n",
    "silver_customer_insights = silver_customer_insights.withColumn(\n",
    "    \"total_orders\", \n",
    "    F.col(\"order_frequency_numeric\") * 12\n",
    ")"
   ]
  },
  {
   "cell_type": "code",
   "execution_count": 0,
   "metadata": {
    "application/vnd.databricks.v1+cell": {
     "cellMetadata": {
      "byteLimit": 2048000,
      "rowLimit": 10000
     },
     "inputWidgets": {},
     "nuid": "48a2d6a8-1562-4f4c-8f37-656fcc37b780",
     "showTitle": false,
     "tableResultSettingsMap": {},
     "title": ""
    }
   },
   "outputs": [],
   "source": [
    "# Assign customer segments based on behavior\n",
    "source_df = silver_customer_insights.withColumn(\n",
    "    \"customer_segment\", \n",
    "    F.when(F.col(\"order_frequency_numeric\") > 10, F.lit(\"High Frequency\"))\n",
    "     .when(F.col(\"average_order_value\").cast(\"double\") > 1000, F.lit(\"High Value\"))\n",
    "     .otherwise(F.lit(\"Low Value\"))\n",
    ")\n",
    "\n",
    "# Ensure total_spent and lifetime_value are cast to double for consistency in calculations\n",
    "source_df = source_df.withColumn(\"total_spent\", F.col(\"average_order_value\").cast(\"double\"))\n",
    "source_df = source_df.withColumn(\"lifetime_value\", F.col(\"customer_lifetime_value\").cast(\"double\"))\n",
    "\n",
    "# Ensure total_spent and lifetime_value are cast to double for consistency in calculations\n",
    "source_df = source_df.withColumn(\"total_spent\", F.col(\"average_order_value\").cast(\"double\"))\n",
    "source_df = source_df.withColumn(\"lifetime_value\", F.col(\"customer_lifetime_value\").cast(\"double\"))\n",
    "\n",
    "display(source_df)"
   ]
  },
  {
   "cell_type": "code",
   "execution_count": 0,
   "metadata": {
    "application/vnd.databricks.v1+cell": {
     "cellMetadata": {
      "byteLimit": 2048000,
      "rowLimit": 10000
     },
     "inputWidgets": {},
     "nuid": "01bcd792-ca1d-474c-bc71-f18ec94b5c49",
     "showTitle": false,
     "tableResultSettingsMap": {},
     "title": ""
    }
   },
   "outputs": [],
   "source": [
    "%python\n",
    "from pyspark.sql.functions import current_timestamp, lit\n",
    "from pyspark.sql.types import TimestampType\n",
    "from delta.tables import DeltaTable\n",
    "\n",
    "# Load Gold dimension table\n",
    "dim_table = DeltaTable.forPath(spark, gold_path)\n",
    "\n",
    "# SCD Type 2 merge condition: match on customer_id and ensure the existing record is active\n",
    "merge_condition = \"dim.customer_id = src.customer_id AND dim.Is_Active = true\"\n",
    "\n",
    "# Define actions for update and insert during the merge process\n",
    "update_action = {\n",
    "    \"Effective_End_Dt\": current_timestamp(),\n",
    "    \"Is_Active\": lit(False)\n",
    "}\n",
    "\n",
    "insert_action = {\n",
    "    \"customer_id\": \"src.customer_id\",\n",
    "    \"first_name\": \"src.first_name\",\n",
    "    \"last_name\": \"src.last_name\",\n",
    "    \"email\": \"src.email\",\n",
    "    \"gender\": \"src.gender\",\n",
    "    \"address\": \"src.address\",\n",
    "    \"city\": \"src.city\",\n",
    "    \"state\": \"src.state\",\n",
    "    \"country\": \"src.country\",\n",
    "    \"zipcode\": \"src.zipcode\",\n",
    "    \"contact_no\": \"src.contact_no\",\n",
    "    \"registration_date\": \"src.registration_date\",\n",
    "    \"membership_status\": \"src.membership_status\",\n",
    "    \"ingest_time\": \"src.ingest_time\",\n",
    "    \"Effective_Start_Dt\": current_timestamp(),\n",
    "    \"Effective_End_Dt\": lit(None).cast(TimestampType()),\n",
    "    \"Is_Active\": lit(True),\n",
    "    \"status\": \"src.status\",\n",
    "    \"surrogate_key\": \"src.surrogate_key\"\n",
    "}\n",
    "\n",
    "# Perform the SCD Type 2 merge operation\n",
    "dim_table.alias(\"dim\").merge(\n",
    "    source=gold_customer.alias(\"src\"),\n",
    "    condition=merge_condition\n",
    ").whenMatchedUpdate(set=update_action) \\\n",
    " .whenNotMatchedInsert(values=insert_action) \\\n",
    " .execute()\n",
    "\n",
    "# Show the result after merge schema true\n",
    "display(spark.read.format(\"delta\").option(\"mergeSchema\", \"true\").load(gold_path))"
   ]
  }
 ],
 "metadata": {
  "application/vnd.databricks.v1+notebook": {
   "computePreferences": null,
   "dashboards": [],
   "environmentMetadata": {
    "base_environment": "",
    "environment_version": "2"
   },
   "inputWidgetPreferences": null,
   "language": "python",
   "notebookMetadata": {
    "mostRecentlyExecutedCommandWithImplicitDF": {
     "commandId": -1,
     "dataframes": [
      "_sqldf"
     ]
    },
    "pythonIndentUnit": 4
   },
   "notebookName": "Retail_Gold_customerInsight",
   "widgets": {}
  },
  "language_info": {
   "name": "python"
  }
 },
 "nbformat": 4,
 "nbformat_minor": 0
}
