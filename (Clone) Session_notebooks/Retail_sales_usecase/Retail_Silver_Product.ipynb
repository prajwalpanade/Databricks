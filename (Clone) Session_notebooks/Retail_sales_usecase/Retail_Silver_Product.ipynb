{
 "cells": [
  {
   "cell_type": "code",
   "execution_count": 0,
   "metadata": {
    "application/vnd.databricks.v1+cell": {
     "cellMetadata": {
      "byteLimit": 2048000,
      "rowLimit": 10000
     },
     "inputWidgets": {},
     "nuid": "071d1fbf-9e76-4a1a-86b4-2869bf631d7c",
     "showTitle": false,
     "tableResultSettingsMap": {},
     "title": ""
    }
   },
   "outputs": [],
   "source": [
    "#import all libraries\n",
    "from pyspark.sql.functions import *\n",
    "from pyspark.sql.types import *\n",
    "from pyspark.sql import *"
   ]
  },
  {
   "cell_type": "code",
   "execution_count": 0,
   "metadata": {
    "application/vnd.databricks.v1+cell": {
     "cellMetadata": {
      "byteLimit": 2048000,
      "rowLimit": 10000
     },
     "inputWidgets": {},
     "nuid": "0de5ca76-19e2-4440-bbc4-f8c0d6817a7c",
     "showTitle": false,
     "tableResultSettingsMap": {},
     "title": ""
    }
   },
   "outputs": [],
   "source": [
    "# Define bronze and silver path \n",
    "bronze_path = \"/mnt/Prajwal/Retail_sales_usecase/bronzePDetails\"\n",
    "silver_path = \"/mnt/Prajwal/Retail_sales_usecase/Silver/SilverPDetails\""
   ]
  },
  {
   "cell_type": "code",
   "execution_count": 0,
   "metadata": {
    "application/vnd.databricks.v1+cell": {
     "cellMetadata": {
      "byteLimit": 2048000,
      "rowLimit": 10000
     },
     "inputWidgets": {},
     "nuid": "2fb394d0-9614-4543-8461-bc3bbbe37d38",
     "showTitle": false,
     "tableResultSettingsMap": {},
     "title": ""
    }
   },
   "outputs": [],
   "source": [
    "%python\n",
    "# Read the parquet file from the bronze path\n",
    "df = spark.read.format(\"parquet\").option(\"header\", \"true\").load(bronze_path)\n",
    "\n",
    "# Split the 'value' column into separate columns\n",
    "df = df.withColumn(\"product_id\", split(df['value'], '\\|').getItem(0)) \\\n",
    "       .withColumn(\"product_name\", split(df['value'], '\\|').getItem(1)) \\\n",
    "       .withColumn(\"category\", split(df['value'], '\\|').getItem(2)) \\\n",
    "       .withColumn(\"price\", split(df['value'], '\\|').getItem(3)) \\\n",
    "       .withColumn(\"brand\", split(df['value'], '\\|').getItem(4)) \\\n",
    "       .withColumn(\"in_stock\", split(df['value'], '\\|').getItem(5))\n",
    "\n",
    "# Drop the original 'value' column\n",
    "df = df.drop('value')\n",
    "\n",
    "# Filter out rows where 'product_id' is 'product_id' (assuming the first row has headers)\n",
    "df = df.filter(df.product_id != 'product_id')\n",
    "\n",
    "# Cast 'price' column to float and round to 2 decimal places\n",
    "df = df.withColumn(\"price\", round(col(\"price\").cast(\"float\"), 2))\n",
    "\n",
    "# Fill null values with specified default values\n",
    "df = df.fillna({\n",
    "    'product_id': 'unknown',\n",
    "    'product_name': 'unknown',\n",
    "    'category': 'unknown',\n",
    "    'price': 0.0,\n",
    "    'brand': 'unknown',\n",
    "    'in_stock': 'false'\n",
    "})\n",
    "\n",
    "# Change ingestion time to format of yyyy-mm-dd hh:mm:ss and drop 'ingest_time' column\n",
    "df = df.withColumn('ingestion_time', date_format(col('ingest_time'), 'yyyy-MM-dd HH:mm:ss')).drop('ingest_time')\n",
    "\n",
    "# Trim whitespace from all columns\n",
    "df = df.select([trim(col(c)).alias(c) for c in df.columns])\n",
    "\n",
    "# Drop duplicate rows based on 'product_id'\n",
    "df = df.dropDuplicates([\"product_id\"])\n",
    "\n",
    "# Write the DataFrame to the silver path\n",
    "df.write.format(\"delta\").mode(\"overwrite\").save(silver_path)"
   ]
  },
  {
   "cell_type": "code",
   "execution_count": 0,
   "metadata": {
    "application/vnd.databricks.v1+cell": {
     "cellMetadata": {
      "byteLimit": 2048000,
      "rowLimit": 10000
     },
     "inputWidgets": {},
     "nuid": "b2e76ea4-b907-48d5-90ce-23d3c17712af",
     "showTitle": false,
     "tableResultSettingsMap": {},
     "title": ""
    }
   },
   "outputs": [],
   "source": [
    "#Read the file from the silver path\n",
    "silver_df = spark.read.format(\"delta\").load(silver_path)\n",
    "display(silver_df)"
   ]
  }
 ],
 "metadata": {
  "application/vnd.databricks.v1+notebook": {
   "computePreferences": null,
   "dashboards": [],
   "environmentMetadata": {
    "base_environment": "",
    "environment_version": "2"
   },
   "inputWidgetPreferences": null,
   "language": "python",
   "notebookMetadata": {
    "pythonIndentUnit": 4
   },
   "notebookName": "Retail_Silver_Product",
   "widgets": {}
  },
  "language_info": {
   "name": "python"
  }
 },
 "nbformat": 4,
 "nbformat_minor": 0
}
