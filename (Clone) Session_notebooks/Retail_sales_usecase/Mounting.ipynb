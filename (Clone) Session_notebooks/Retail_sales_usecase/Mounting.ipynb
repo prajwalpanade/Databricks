{
 "cells": [
  {
   "cell_type": "code",
   "execution_count": 0,
   "metadata": {
    "application/vnd.databricks.v1+cell": {
     "cellMetadata": {
      "byteLimit": 2048000,
      "rowLimit": 10000
     },
     "inputWidgets": {},
     "nuid": "60ad8e79-9136-4897-8b73-f9e2fc61ca72",
     "showTitle": false,
     "tableResultSettingsMap": {},
     "title": ""
    }
   },
   "outputs": [],
   "source": [
    "dbutils.fs.ls(\"mnt/Prajwal/Retail_sales_usecase\")"
   ]
  },
  {
   "cell_type": "code",
   "execution_count": 0,
   "metadata": {
    "application/vnd.databricks.v1+cell": {
     "cellMetadata": {
      "byteLimit": 2048000,
      "rowLimit": 10000
     },
     "inputWidgets": {},
     "nuid": "53f7d568-b30b-4c1f-9c47-cc5d00698300",
     "showTitle": false,
     "tableResultSettingsMap": {},
     "title": ""
    }
   },
   "outputs": [],
   "source": [
    "dbutils.fs.mount(\n",
    "  source = \"abfss://practice@prajwalpanade.dfs.core.windows.net/\",\n",
    "  mount_point = \"/mnt/Prajwal_Scope\",\n",
    "  extra_configs = {\"fs.azure.account.auth.type.prajwalpanade.dfs.core.windows.net\": \"OAuth\",\n",
    "                   \"fs.azure.account.oauth.provider.type.prajwalpanade.dfs.core.windows.net\": \"org.apache.hadoop.fs.azurebfs.oauth2.ClientCredsTokenProvider\",\n",
    "                   \"fs.azure.account.oauth2.client.id.prajwalpanade.dfs.core.windows.net\": dbutils.secrets.get(scope = \"keertrainbaykvscope\", key = \"client-id\"),\n",
    "                   \"fs.azure.account.oauth2.client.secret.prajwalpanade.dfs.core.windows.net\": dbutils.secrets.get(scope = \"keertrainbaykvscope\", key = \"client-secret\"),\n",
    "                   \"fs.azure.account.oauth2.client.endpoint.<storage-account-name>.dfs.core.windows.net\": \"https://login.microsoftonline.com/<tenant-id>/oauth2/token\"})\n"
   ]
  },
  {
   "cell_type": "code",
   "execution_count": 0,
   "metadata": {
    "application/vnd.databricks.v1+cell": {
     "cellMetadata": {
      "byteLimit": 2048000,
      "rowLimit": 10000
     },
     "inputWidgets": {},
     "nuid": "29089afa-d40c-4633-8d98-b9e981811a26",
     "showTitle": false,
     "tableResultSettingsMap": {},
     "title": ""
    }
   },
   "outputs": [],
   "source": [
    "dbutils.secrets.listScopes()\n"
   ]
  },
  {
   "cell_type": "code",
   "execution_count": 0,
   "metadata": {
    "application/vnd.databricks.v1+cell": {
     "cellMetadata": {
      "byteLimit": 2048000,
      "rowLimit": 10000
     },
     "inputWidgets": {},
     "nuid": "784cf778-6f09-43fc-93d6-5b8a70d21486",
     "showTitle": false,
     "tableResultSettingsMap": {},
     "title": ""
    }
   },
   "outputs": [],
   "source": [
    "dbutils.secrets.list(scope=\"keertrainbaykvscope\")"
   ]
  },
  {
   "cell_type": "code",
   "execution_count": 0,
   "metadata": {
    "application/vnd.databricks.v1+cell": {
     "cellMetadata": {
      "byteLimit": 2048000,
      "rowLimit": 10000
     },
     "inputWidgets": {},
     "nuid": "eec6d27b-7d50-4fc6-849c-52cda690d4ab",
     "showTitle": false,
     "tableResultSettingsMap": {},
     "title": ""
    }
   },
   "outputs": [],
   "source": [
    "sc = dbutils.secrets.get(scope = \"keertrainbaykvscope\", key = \"hacksecret\")\n",
    "print(sc)"
   ]
  },
  {
   "cell_type": "code",
   "execution_count": 0,
   "metadata": {
    "application/vnd.databricks.v1+cell": {
     "cellMetadata": {},
     "inputWidgets": {},
     "nuid": "a481b97a-0acb-4706-8dc8-2a491e6ca4cc",
     "showTitle": false,
     "tableResultSettingsMap": {},
     "title": ""
    }
   },
   "outputs": [],
   "source": []
  }
 ],
 "metadata": {
  "application/vnd.databricks.v1+notebook": {
   "computePreferences": null,
   "dashboards": [],
   "environmentMetadata": {
    "base_environment": "",
    "environment_version": "2"
   },
   "inputWidgetPreferences": null,
   "language": "python",
   "notebookMetadata": {
    "pythonIndentUnit": 4
   },
   "notebookName": "Mounting",
   "widgets": {}
  },
  "language_info": {
   "name": "python"
  }
 },
 "nbformat": 4,
 "nbformat_minor": 0
}
