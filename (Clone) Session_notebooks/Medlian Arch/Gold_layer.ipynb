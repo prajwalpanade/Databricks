{
 "cells": [
  {
   "cell_type": "code",
   "execution_count": 0,
   "metadata": {
    "application/vnd.databricks.v1+cell": {
     "cellMetadata": {
      "byteLimit": 2048000,
      "rowLimit": 10000
     },
     "inputWidgets": {},
     "nuid": "ea115bb6-12b0-4fda-a771-f27fb863d3b3",
     "showTitle": false,
     "tableResultSettingsMap": {},
     "title": ""
    }
   },
   "outputs": [],
   "source": [
    "#defining silver path to load the data\n",
    "\n",
    "silver_path = \"/mnt/Prajwal/medlian_arch/Silver\"\n",
    "\n",
    "#defining the gold customer path, product path, dates path and the fact_sales path to store the data\n",
    "\n",
    "gold_customer_path = \"/mnt/Prajwal/medlian_arch/Gold/customer\" \n",
    "gold_product_path = \"/mnt/Prajwal/medlian_arch/Gold/product\"\n",
    "gold_dates_path = \"/mnt/Prajwal/medlian_arch/Gold/dates\"\n",
    "gold_fact_sales_path = \"/mnt/Prajwal/medlian_arch/Gold/fact_sales\""
   ]
  },
  {
   "cell_type": "code",
   "execution_count": 0,
   "metadata": {
    "application/vnd.databricks.v1+cell": {
     "cellMetadata": {
      "byteLimit": 2048000,
      "implicitDf": true,
      "rowLimit": 10000
     },
     "inputWidgets": {},
     "nuid": "61096d7b-1d4a-4bb4-ae79-1b51b4266dc5",
     "showTitle": false,
     "tableResultSettingsMap": {},
     "title": ""
    }
   },
   "outputs": [],
   "source": [
    "%sql\n",
    "\n",
    "drop table Dim_Customer;\n",
    "\n",
    "drop table Dim_Date;\n",
    "\n",
    "drop table Dim_Product;\n",
    "\n",
    "drop table Fact_Sales;"
   ]
  },
  {
   "cell_type": "code",
   "execution_count": 0,
   "metadata": {
    "application/vnd.databricks.v1+cell": {
     "cellMetadata": {
      "byteLimit": 2048000,
      "rowLimit": 10000
     },
     "inputWidgets": {},
     "nuid": "866f129c-bcc9-448b-9280-0065a4446ea0",
     "showTitle": false,
     "tableResultSettingsMap": {},
     "title": ""
    }
   },
   "outputs": [],
   "source": [
    "#read silver path\n",
    "df = spark.read.format(\"delta\").load(silver_path)\n",
    "display(df)"
   ]
  },
  {
   "cell_type": "code",
   "execution_count": 0,
   "metadata": {
    "application/vnd.databricks.v1+cell": {
     "cellMetadata": {
      "byteLimit": 2048000,
      "implicitDf": true,
      "rowLimit": 10000
     },
     "inputWidgets": {},
     "nuid": "b7e5df1f-1a2f-438e-8eeb-b38a956fdba4",
     "showTitle": false,
     "tableResultSettingsMap": {},
     "title": ""
    }
   },
   "outputs": [],
   "source": [
    "%sql\n",
    "-- creating table for Customer dimension\n",
    "create table if not exists Dim_Customer(CustomerID int, CustomerName string, CustomerEmail string) \n",
    "USING DELTA\n",
    "LOCATION '/mnt/Prajwal/medlian_arch/Gold/customer'\n"
   ]
  },
  {
   "cell_type": "code",
   "execution_count": 0,
   "metadata": {
    "application/vnd.databricks.v1+cell": {
     "cellMetadata": {
      "byteLimit": 2048000,
      "implicitDf": true,
      "rowLimit": 10000
     },
     "inputWidgets": {},
     "nuid": "9468e013-2889-48f1-8663-30b2f27ccc0a",
     "showTitle": false,
     "tableResultSettingsMap": {},
     "title": ""
    }
   },
   "outputs": [],
   "source": [
    "%sql\n",
    "-- creating table for Product dimension\n",
    "create table if not exists Dim_Product(Product string) \n",
    "USING DELTA\n",
    "LOCATION '/mnt/Prajwal/medlian_arch/Gold/product'"
   ]
  },
  {
   "cell_type": "code",
   "execution_count": 0,
   "metadata": {
    "application/vnd.databricks.v1+cell": {
     "cellMetadata": {
      "byteLimit": 2048000,
      "implicitDf": true,
      "rowLimit": 10000
     },
     "inputWidgets": {},
     "nuid": "32f7e3ff-64fe-470f-8eca-61389fabee9b",
     "showTitle": false,
     "tableResultSettingsMap": {},
     "title": ""
    }
   },
   "outputs": [],
   "source": [
    "%sql\n",
    "--creating table for Date dimension\n",
    "create table if not exists Dim_Date(Date date, Year int, Month int, Day int, FormattedDate string )\n",
    "USING DELTA\n",
    "LOCATION '/mnt/Prajwal/medlian_arch/Gold/date'"
   ]
  },
  {
   "cell_type": "code",
   "execution_count": 0,
   "metadata": {
    "application/vnd.databricks.v1+cell": {
     "cellMetadata": {
      "byteLimit": 2048000,
      "implicitDf": true,
      "rowLimit": 10000
     },
     "inputWidgets": {},
     "nuid": "cb2916d7-6a39-4955-bcd2-6acdc70bffb5",
     "showTitle": false,
     "tableResultSettingsMap": {},
     "title": ""
    }
   },
   "outputs": [],
   "source": [
    "%sql\n",
    "--creating external delta dimension table for fact\n",
    "create table if not exists Fact_Sales(OrderID string, CustomerID string, CustomerName string, CustomerEmail string,\n",
    "Product string, Quantity int, Price double, Tax double, TotalAmount double, OrderDate date, InsertedAt timestamp)\n",
    "USING DELTA\n",
    "LOCATION '/mnt/Prajwal/medlian_arch/Gold/fact_sales'"
   ]
  },
  {
   "cell_type": "code",
   "execution_count": 0,
   "metadata": {
    "application/vnd.databricks.v1+cell": {
     "cellMetadata": {
      "byteLimit": 2048000,
      "rowLimit": 10000
     },
     "inputWidgets": {},
     "nuid": "3dd9c0d0-1ff0-48f4-b24b-68cc9523f6e4",
     "showTitle": false,
     "tableResultSettingsMap": {},
     "title": ""
    }
   },
   "outputs": [],
   "source": [
    "#reading the silver data\n",
    "df = spark.read.format(\"delta\").load(silver_path)\n",
    "df.printSchema()\n",
    "df.display()"
   ]
  },
  {
   "cell_type": "code",
   "execution_count": 0,
   "metadata": {
    "application/vnd.databricks.v1+cell": {
     "cellMetadata": {
      "byteLimit": 2048000,
      "rowLimit": 10000
     },
     "inputWidgets": {},
     "nuid": "ac4123e0-d9c5-4e2b-aa09-b839c173965e",
     "showTitle": false,
     "tableResultSettingsMap": {},
     "title": ""
    }
   },
   "outputs": [],
   "source": [
    "#create gold customer table (unique customer id)\n",
    "customer = df.select(\"CustomerID\",\"CustomerName\",\"CustomerEmail\").distinct()\n",
    "customer.createOrReplaceTempView(\"stg_dim_customer\")\n",
    "customer.show()"
   ]
  },
  {
   "cell_type": "code",
   "execution_count": 0,
   "metadata": {
    "application/vnd.databricks.v1+cell": {
     "cellMetadata": {
      "byteLimit": 2048000,
      "rowLimit": 10000
     },
     "inputWidgets": {},
     "nuid": "761b52a0-b5e2-40c4-8ce2-c8b4063d96ae",
     "showTitle": false,
     "tableResultSettingsMap": {},
     "title": ""
    }
   },
   "outputs": [],
   "source": [
    "#create gold Product table (unique Product)\n",
    "product_df = df.select(\"Product\").distinct()\n",
    "product_df.createGlobalTempView(\"stgg_dim_product\")\n",
    "product_df.show()"
   ]
  },
  {
   "cell_type": "code",
   "execution_count": 0,
   "metadata": {
    "application/vnd.databricks.v1+cell": {
     "cellMetadata": {
      "byteLimit": 2048000,
      "rowLimit": 10000
     },
     "inputWidgets": {},
     "nuid": "e1fca9b3-111d-4bd6-87d3-e37397f01618",
     "showTitle": false,
     "tableResultSettingsMap": {},
     "title": ""
    }
   },
   "outputs": [],
   "source": [
    "#create gold date table\n",
    "from pyspark.sql.functions import *\n",
    "from pyspark.sql.types import *\n",
    "\n",
    "\n",
    "\n",
    "gold_dates_df = df.select(col(\"OrderDate\").alias(\"Date\"),\n",
    "                          year(\"OrderDate\").alias(\"Year\"),\n",
    "    month(\"OrderDate\").alias(\"Month\"),\n",
    "    dayofmonth(\"OrderDate\").alias(\"Day\"),\n",
    "    date_format(\"OrderDate\", \"dd-MMM-yy\").alias(\"FormattedDate\")).distinct()\n",
    "\n",
    "gold_dates_df.show()"
   ]
  },
  {
   "cell_type": "code",
   "execution_count": 0,
   "metadata": {
    "application/vnd.databricks.v1+cell": {
     "cellMetadata": {
      "byteLimit": 2048000,
      "rowLimit": 10000
     },
     "inputWidgets": {},
     "nuid": "2643f1f0-4cff-4fc4-95a8-dd59cb620ee5",
     "showTitle": false,
     "tableResultSettingsMap": {},
     "title": ""
    }
   },
   "outputs": [],
   "source": [
    "gold_dates_df.createOrReplaceTempView(\"stg_dim_dates\")"
   ]
  },
  {
   "cell_type": "code",
   "execution_count": 0,
   "metadata": {
    "application/vnd.databricks.v1+cell": {
     "cellMetadata": {
      "byteLimit": 2048000,
      "implicitDf": true,
      "rowLimit": 10000
     },
     "inputWidgets": {},
     "nuid": "05594a51-675d-4208-8140-4205abab93b0",
     "showTitle": false,
     "tableResultSettingsMap": {},
     "title": ""
    }
   },
   "outputs": [],
   "source": [
    "%sql\n",
    "select * from stg_dim_dates;"
   ]
  },
  {
   "cell_type": "code",
   "execution_count": 0,
   "metadata": {
    "application/vnd.databricks.v1+cell": {
     "cellMetadata": {
      "byteLimit": 2048000,
      "rowLimit": 10000
     },
     "inputWidgets": {},
     "nuid": "d3a48160-115d-4dc2-b202-a89283ccf687",
     "showTitle": false,
     "tableResultSettingsMap": {},
     "title": ""
    }
   },
   "outputs": [],
   "source": [
    "print(type(gold_dates_df))\n",
    "print(type(customer))\n",
    "print(type(product_df))"
   ]
  },
  {
   "cell_type": "code",
   "execution_count": 0,
   "metadata": {
    "application/vnd.databricks.v1+cell": {
     "cellMetadata": {
      "byteLimit": 2048000,
      "rowLimit": 10000
     },
     "inputWidgets": {},
     "nuid": "238ea68a-9866-4b98-bb95-a716a77915f4",
     "showTitle": false,
     "tableResultSettingsMap": {},
     "title": ""
    }
   },
   "outputs": [],
   "source": [
    "# Creating gold fact table (sales transaction)\n",
    "from pyspark.sql.functions import col\n",
    "\n",
    "gold_fact_table = (\n",
    "    df.join(customer.alias('cust'), \"CustomerID\").join(product_df.alias('prod'), \"Product\")\n",
    "      .join(gold_dates_df.alias('date'), col(\"OrderDate\") == col(\"date.Date\"))\n",
    "      .select(\n",
    "          col(\"OrderID\"),\n",
    "          col(\"cust.CustomerID\"),\n",
    "          col(\"cust.CustomerName\"),\n",
    "          col(\"cust.CustomerEmail\"),\n",
    "          col(\"prod.Product\").alias('ProductName'),\n",
    "          col(\"Quantity\").cast('int'),\n",
    "          col(\"Price\").cast('double'),\n",
    "          col(\"Tax\").cast('double'),\n",
    "          (col(\"Quantity\") * col(\"Price\")).alias('TotalAmount'),\n",
    "          col(\"date.FormattedDate\").alias('OrderDate'),\n",
    "          col(\"InsertedAt\")\n",
    "      )\n",
    ")\n",
    "\n",
    "display(gold_fact_table)"
   ]
  },
  {
   "cell_type": "code",
   "execution_count": 0,
   "metadata": {
    "application/vnd.databricks.v1+cell": {
     "cellMetadata": {
      "byteLimit": 2048000,
      "rowLimit": 10000
     },
     "inputWidgets": {},
     "nuid": "9250e661-fe20-4865-b2a5-dbcd3bc4a520",
     "showTitle": false,
     "tableResultSettingsMap": {},
     "title": ""
    }
   },
   "outputs": [],
   "source": [
    "gold_fact_table = gold_fact_table.withColumn(\"OrderDate\", when(to_date(gold_fact_table.OrderDate, \"dd-MMM-yy\").isNull(), lit(None)).otherwise(to_date(gold_fact_table.OrderDate, \"dd-MMM-yy\")))"
   ]
  },
  {
   "cell_type": "code",
   "execution_count": 0,
   "metadata": {
    "application/vnd.databricks.v1+cell": {
     "cellMetadata": {
      "byteLimit": 2048000,
      "rowLimit": 10000
     },
     "inputWidgets": {},
     "nuid": "679f6abd-ef09-4e09-8eb7-23cb6775ba29",
     "showTitle": false,
     "tableResultSettingsMap": {},
     "title": ""
    }
   },
   "outputs": [],
   "source": [
    "gold_fact_table.createOrReplaceTempView(\"stg_fact_sales\")\n",
    "display(gold_fact_table)"
   ]
  },
  {
   "cell_type": "code",
   "execution_count": 0,
   "metadata": {
    "application/vnd.databricks.v1+cell": {
     "cellMetadata": {},
     "inputWidgets": {},
     "nuid": "b6b3e323-4d5e-4671-9cde-45aab3732f3d",
     "showTitle": false,
     "tableResultSettingsMap": {},
     "title": ""
    }
   },
   "outputs": [],
   "source": []
  },
  {
   "cell_type": "code",
   "execution_count": 0,
   "metadata": {
    "application/vnd.databricks.v1+cell": {
     "cellMetadata": {
      "byteLimit": 2048000,
      "implicitDf": true,
      "rowLimit": 10000
     },
     "inputWidgets": {},
     "nuid": "62af313f-0726-45ea-9532-81277b7752a0",
     "showTitle": true,
     "tableResultSettingsMap": {},
     "title": "#Loading data to tables - Handling incremental loads"
    }
   },
   "outputs": [],
   "source": [
    "%sql\n",
    "\n",
    "merge into dim_customer as target\n",
    "using stg_dim_customer as source\n",
    "on target.CustomerEmail = source.CustomerEmail\n",
    "when matched then \n",
    "  update set \n",
    "    target.CustomerName = source.CustomerName,\n",
    "    target.CustomerID = source.CustomerID\n",
    "when not matched then \n",
    "  insert (CustomerID, CustomerName, CustomerEmail)\n",
    "  values (source.CustomerID, source.CustomerName, source.CustomerEmail)"
   ]
  },
  {
   "cell_type": "code",
   "execution_count": 0,
   "metadata": {
    "application/vnd.databricks.v1+cell": {
     "cellMetadata": {
      "byteLimit": 2048000,
      "implicitDf": true,
      "rowLimit": 10000
     },
     "inputWidgets": {},
     "nuid": "62c17255-be84-43b3-a85d-02619b435edf",
     "showTitle": false,
     "tableResultSettingsMap": {},
     "title": ""
    }
   },
   "outputs": [],
   "source": [
    "%sql\n",
    "select * from Dim_Product limit 5"
   ]
  },
  {
   "cell_type": "code",
   "execution_count": 0,
   "metadata": {
    "application/vnd.databricks.v1+cell": {
     "cellMetadata": {
      "byteLimit": 2048000,
      "implicitDf": true,
      "rowLimit": 10000
     },
     "inputWidgets": {},
     "nuid": "b98d976c-3d31-4724-974a-a59447a85d7c",
     "showTitle": false,
     "tableResultSettingsMap": {},
     "title": ""
    }
   },
   "outputs": [],
   "source": [
    "%sql\n",
    "-- Loading into Date dimension\n",
    "\n",
    "\n",
    "MERGE INTO Dim_Date AS target\n",
    "USING stg_dim_dates AS source\n",
    "ON target.Date = source.Date\n",
    "WHEN MATCHED THEN\n",
    "    UPDATE SET\n",
    "        target.Year = source.Year,\n",
    "        target.Month = source.Month,\n",
    "        target.Day = source.Day,\n",
    "        target.FormattedDate = source.FormattedDate\n",
    "WHEN NOT MATCHED THEN\n",
    "    INSERT (Date, Year, Month, Day, FormattedDate)\n",
    "    VALUES (source.Date, source.Year, source.Month, source.Day, source.FormattedDate)"
   ]
  },
  {
   "cell_type": "code",
   "execution_count": 0,
   "metadata": {
    "application/vnd.databricks.v1+cell": {
     "cellMetadata": {
      "byteLimit": 2048000,
      "implicitDf": true,
      "rowLimit": 10000
     },
     "inputWidgets": {},
     "nuid": "699774ad-6370-4b86-90d4-8d6d6d22b835",
     "showTitle": false,
     "tableResultSettingsMap": {},
     "title": ""
    }
   },
   "outputs": [],
   "source": [
    "%sql\n",
    "-- Loading into Sales Fact\n",
    "-- Preprocess the source table to eliminate duplicates\n",
    "WITH deduped_source AS (\n",
    "    SELECT\n",
    "        *,\n",
    "        ROW_NUMBER() OVER (PARTITION BY OrderID ORDER BY InsertedAt DESC) AS row_num\n",
    "    FROM\n",
    "        stg_fact_sales\n",
    ")\n",
    "-- Perform the merge operation\n",
    "MERGE INTO Fact_Sales AS target\n",
    "USING (\n",
    "    SELECT * FROM deduped_source WHERE row_num = 1\n",
    ") AS source\n",
    "ON target.OrderID = source.OrderID\n",
    "WHEN MATCHED THEN\n",
    "    UPDATE SET\n",
    "        target.CustomerID = source.CustomerID,\n",
    "        target.CustomerName = source.CustomerName,\n",
    "        target.CustomerEmail = source.CustomerEmail,\n",
    "        target.Product = source.ProductName,\n",
    "        target.Quantity = source.Quantity,\n",
    "        target.Price = source.Price,\n",
    "        target.Tax = source.Tax,\n",
    "        target.TotalAmount = source.TotalAmount,\n",
    "        target.OrderDate = source.OrderDate,\n",
    "        target.InsertedAt = source.InsertedAt\n",
    "WHEN NOT MATCHED THEN\n",
    "    INSERT (OrderID, CustomerID, CustomerName, CustomerEmail, Product, Quantity, Price, Tax, TotalAmount, OrderDate, InsertedAt)\n",
    "    VALUES (source.OrderID, source.CustomerID, source.CustomerName, source.CustomerEmail, source.ProductName, source.Quantity, source.Price, source.Tax, source.TotalAmount, source.OrderDate, source.InsertedAt)"
   ]
  }
 ],
 "metadata": {
  "application/vnd.databricks.v1+notebook": {
   "computePreferences": null,
   "dashboards": [],
   "environmentMetadata": {
    "base_environment": "",
    "environment_version": "2"
   },
   "inputWidgetPreferences": null,
   "language": "python",
   "notebookMetadata": {
    "mostRecentlyExecutedCommandWithImplicitDF": {
     "commandId": 5583575850938029,
     "dataframes": [
      "_sqldf"
     ]
    },
    "pythonIndentUnit": 4
   },
   "notebookName": "Gold_layer",
   "widgets": {}
  },
  "language_info": {
   "name": "python"
  }
 },
 "nbformat": 4,
 "nbformat_minor": 0
}
