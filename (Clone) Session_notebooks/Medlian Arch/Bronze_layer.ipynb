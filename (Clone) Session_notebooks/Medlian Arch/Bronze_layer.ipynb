{
 "cells": [
  {
   "cell_type": "code",
   "execution_count": 0,
   "metadata": {
    "application/vnd.databricks.v1+cell": {
     "cellMetadata": {
      "byteLimit": 2048000,
      "rowLimit": 10000
     },
     "inputWidgets": {},
     "nuid": "9934c7c2-4eb0-4498-b78e-8a8b9089f8e1",
     "showTitle": false,
     "tableResultSettingsMap": {},
     "title": ""
    }
   },
   "outputs": [],
   "source": [
    "#mounting adls with databricks using SAS token\n",
    "dbutils.fs.mount(\n",
    "  source = \"wasbs://practice@prajwalpanade.blob.core.windows.net/\",\n",
    "  mount_point = \"/mnt/Prajwal\",\n",
    "  extra_configs = {\"fs.azure.sas.practice.prajwalpanade.blob.core.windows.net\": \"sv=2024-11-04&ss=bfqt&srt=sco&sp=rwdlacupyx&se=2025-06-30T16:38:56Z&st=2025-04-23T08:38:56Z&spr=https&sig=1TFdUI0AdSiQ2A%2FucT4%2BKMrvnOTH%2BftCqtNWN%2BvzFIo%3D\"}\n",
    ")"
   ]
  },
  {
   "cell_type": "code",
   "execution_count": 0,
   "metadata": {
    "application/vnd.databricks.v1+cell": {
     "cellMetadata": {
      "byteLimit": 2048000,
      "rowLimit": 10000
     },
     "inputWidgets": {},
     "nuid": "c95d35e1-ee58-47ff-ae94-b3fd5a1301ec",
     "showTitle": false,
     "tableResultSettingsMap": {},
     "title": ""
    }
   },
   "outputs": [],
   "source": [
    "dbutils.fs.ls(\"/mnt/Prajwal/medlian_arch\")"
   ]
  },
  {
   "cell_type": "code",
   "execution_count": 0,
   "metadata": {
    "application/vnd.databricks.v1+cell": {
     "cellMetadata": {
      "byteLimit": 2048000,
      "rowLimit": 10000
     },
     "inputWidgets": {},
     "nuid": "c0ccb4ba-55b7-438c-aadc-9e949dcd433f",
     "showTitle": false,
     "tableResultSettingsMap": {},
     "title": ""
    }
   },
   "outputs": [],
   "source": [
    "#source path\n",
    "src_path = \"dbfs:/FileStore/tables/Prajwal/2019.csv\"\n",
    "\n",
    "#Bronze layer path\n",
    "bronze_path = \"/mnt/Prajwal/medlian_arch/Bronze/\""
   ]
  },
  {
   "cell_type": "code",
   "execution_count": 0,
   "metadata": {
    "application/vnd.databricks.v1+cell": {
     "cellMetadata": {
      "byteLimit": 2048000,
      "rowLimit": 10000
     },
     "inputWidgets": {},
     "nuid": "55868a72-6f98-473f-b47a-a233c27bd05a",
     "showTitle": false,
     "tableResultSettingsMap": {},
     "title": ""
    }
   },
   "outputs": [],
   "source": [
    "# Define Column names\n",
    "column_names = [\"OrderID\", \"CustomerID\", \"OrderDate\", \"CustomerName\", \"CustomerEmail\", \"Product\", \"Quantity\", \"Price\", \"Tax\"]\n",
    "\n",
    "df = spark.read.format(\"csv\").option(\"header\", \"true\").load(src_path)\n",
    "\n",
    "#adding column names\n",
    "df = df.toDF(*column_names)\n",
    "display(df)"
   ]
  },
  {
   "cell_type": "code",
   "execution_count": 0,
   "metadata": {
    "application/vnd.databricks.v1+cell": {
     "cellMetadata": {
      "byteLimit": 2048000,
      "rowLimit": 10000
     },
     "inputWidgets": {},
     "nuid": "1e4433f3-b074-4d4a-aa41-3db7b811d73d",
     "showTitle": false,
     "tableResultSettingsMap": {},
     "title": ""
    }
   },
   "outputs": [],
   "source": [
    "from pyspark.sql.functions import *\n",
    "\n",
    "#Adding new column InsertedAt with current timestamp\n",
    "df = df.withColumn(\"InsertedAt\", current_timestamp())\n",
    "\n",
    "display(df.printSchema)"
   ]
  },
  {
   "cell_type": "code",
   "execution_count": 0,
   "metadata": {
    "application/vnd.databricks.v1+cell": {
     "cellMetadata": {
      "byteLimit": 2048000,
      "rowLimit": 10000
     },
     "inputWidgets": {},
     "nuid": "2798d0ef-0735-494e-b3f6-31bb83b05e39",
     "showTitle": false,
     "tableResultSettingsMap": {},
     "title": ""
    }
   },
   "outputs": [],
   "source": [
    "#writing to bronze layer\n",
    "df.write.format(\"delta\").mode(\"append\").save(bronze_path)"
   ]
  },
  {
   "cell_type": "code",
   "execution_count": 0,
   "metadata": {
    "application/vnd.databricks.v1+cell": {
     "cellMetadata": {},
     "inputWidgets": {},
     "nuid": "ba16e2ac-7f84-49e8-b3e0-c7f9d78567f7",
     "showTitle": false,
     "tableResultSettingsMap": {},
     "title": ""
    }
   },
   "outputs": [],
   "source": []
  }
 ],
 "metadata": {
  "application/vnd.databricks.v1+notebook": {
   "computePreferences": null,
   "dashboards": [],
   "environmentMetadata": {
    "base_environment": "",
    "environment_version": "2"
   },
   "inputWidgetPreferences": null,
   "language": "python",
   "notebookMetadata": {
    "mostRecentlyExecutedCommandWithImplicitDF": {
     "commandId": -1,
     "dataframes": [
      "_sqldf"
     ]
    },
    "pythonIndentUnit": 4
   },
   "notebookName": "Bronze_layer",
   "widgets": {}
  },
  "language_info": {
   "name": "python"
  }
 },
 "nbformat": 4,
 "nbformat_minor": 0
}
