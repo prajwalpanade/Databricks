{
 "cells": [
  {
   "cell_type": "code",
   "execution_count": 0,
   "metadata": {
    "application/vnd.databricks.v1+cell": {
     "cellMetadata": {
      "byteLimit": 2048000,
      "rowLimit": 10000
     },
     "inputWidgets": {},
     "nuid": "3253d1c7-0fdc-47fc-a0c5-9d1a4f9beb1f",
     "showTitle": false,
     "tableResultSettingsMap": {},
     "title": ""
    }
   },
   "outputs": [],
   "source": [
    "#mounting adls with databricks using SAS token\n",
    "dbutils.fs.mount(\n",
    "  source = \"wasbs://sales@prajwalpanade.blob.core.windows.net/\",\n",
    "  mount_point = \"/mnt/Salespoint\",\n",
    "  extra_configs = {\"fs.azure.sas.sales.prajwalpanade.blob.core.windows.net\": \"sv=2024-11-04&ss=bfqt&srt=sco&sp=rwdlacupyx&se=2025-06-30T16:38:56Z&st=2025-04-23T08:38:56Z&spr=https&sig=1TFdUI0AdSiQ2A%2FucT4%2BKMrvnOTH%2BftCqtNWN%2BvzFIo%3D\"}\n",
    ")"
   ]
  },
  {
   "cell_type": "code",
   "execution_count": 0,
   "metadata": {
    "application/vnd.databricks.v1+cell": {
     "cellMetadata": {
      "byteLimit": 2048000,
      "rowLimit": 10000
     },
     "inputWidgets": {},
     "nuid": "d845418b-dc82-4f39-b675-2de2176f838b",
     "showTitle": false,
     "tableResultSettingsMap": {},
     "title": ""
    }
   },
   "outputs": [],
   "source": [
    "#fetching mounted point salespoint as named for mount point\n",
    "dbutils.fs.ls(\"/mnt/Salespoint\")"
   ]
  },
  {
   "cell_type": "code",
   "execution_count": 0,
   "metadata": {
    "application/vnd.databricks.v1+cell": {
     "cellMetadata": {
      "byteLimit": 2048000,
      "rowLimit": 10000
     },
     "inputWidgets": {},
     "nuid": "48f7cef4-eadb-4a04-8db7-4e7a8cf8a3c7",
     "showTitle": false,
     "tableResultSettingsMap": {},
     "title": ""
    }
   },
   "outputs": [],
   "source": [
    "df = spark.read.format(\"csv\").option(\"header\", \"true\").option(\"inferSchema\", \"true\").load(\"/mnt/Salespoint/1000_Sales_Records.csv\")\n",
    "display(df)"
   ]
  },
  {
   "cell_type": "code",
   "execution_count": 0,
   "metadata": {
    "application/vnd.databricks.v1+cell": {
     "cellMetadata": {
      "byteLimit": 2048000,
      "rowLimit": 10000
     },
     "inputWidgets": {},
     "nuid": "ef0b47b2-a9d7-4bfe-b05d-584050fa50d7",
     "showTitle": true,
     "tableResultSettingsMap": {},
     "title": "Retrieving Profit Margin"
    }
   },
   "outputs": [],
   "source": [
    "%python\n",
    "from pyspark.sql.functions import round\n",
    "\n",
    "df = df.withColumn(\n",
    "    \"ProfitMargin\", \n",
    "    round((df.TotalProfit / df.TotalRevenue) * 100, 2)    #rounded off with 2 decimal places\n",
    ")\n",
    "display(df.select(\"Country\",\"ItemType\",\"SalesChannel\",\"OrderID\",\"ProfitMargin\"))"
   ]
  },
  {
   "cell_type": "code",
   "execution_count": 0,
   "metadata": {
    "application/vnd.databricks.v1+cell": {
     "cellMetadata": {
      "byteLimit": 2048000,
      "rowLimit": 10000
     },
     "inputWidgets": {},
     "nuid": "37abd82e-043f-45f4-ad5d-1892e3dd3414",
     "showTitle": true,
     "tableResultSettingsMap": {},
     "title": "Total Revenue"
    }
   },
   "outputs": [],
   "source": [
    "#toal revenue\n",
    "total_rev = df.select(\"TotalRevenue\").agg({\"TotalRevenue\": \"sum\"}).collect()[0][0]\n",
    "print(\"Total Revenue: \", total_rev)"
   ]
  },
  {
   "cell_type": "code",
   "execution_count": 0,
   "metadata": {
    "application/vnd.databricks.v1+cell": {
     "cellMetadata": {
      "byteLimit": 2048000,
      "rowLimit": 10000
     },
     "inputWidgets": {},
     "nuid": "f4c38e11-b3b2-4a5a-8b2b-cb51a4d6c867",
     "showTitle": false,
     "tableResultSettingsMap": {},
     "title": ""
    }
   },
   "outputs": [],
   "source": [
    "#Average Unit Price: The sum of TotalRevenue divided by the sum of UnitsSold. This gives you the average price at which items were sold.\n",
    "avg_unit_price = df.select(\"TotalRevenue\", \"UnitsSold\").agg({\"TotalRevenue\": \"sum\", \"UnitsSold\": \"sum\"})\n",
    "print(\"Average Unit Price: \", avg_unit_price.collect()[0][0]/avg_unit_price.collect()[0][1])"
   ]
  },
  {
   "cell_type": "code",
   "execution_count": 0,
   "metadata": {
    "application/vnd.databricks.v1+cell": {
     "cellMetadata": {
      "byteLimit": 2048000,
      "rowLimit": 10000
     },
     "inputWidgets": {},
     "nuid": "373f1140-42bc-4e85-b2ec-4b0be44365bd",
     "showTitle": false,
     "tableResultSettingsMap": {},
     "title": ""
    }
   },
   "outputs": [],
   "source": [
    "print(df.columns)"
   ]
  },
  {
   "cell_type": "code",
   "execution_count": 0,
   "metadata": {
    "application/vnd.databricks.v1+cell": {
     "cellMetadata": {
      "byteLimit": 2048000,
      "rowLimit": 10000
     },
     "inputWidgets": {},
     "nuid": "ddac7f55-8c8c-49a7-85c9-9ab7ef5a9627",
     "showTitle": false,
     "tableResultSettingsMap": {},
     "title": ""
    }
   },
   "outputs": [],
   "source": [
    "#heighest revenue generating country\n",
    "df.groupBy(\"Country\").sum(\"TotalRevenue\").orderBy(\"sum(TotalRevenue)\", ascending=False).show()"
   ]
  },
  {
   "cell_type": "code",
   "execution_count": 0,
   "metadata": {
    "application/vnd.databricks.v1+cell": {
     "cellMetadata": {
      "byteLimit": 2048000,
      "rowLimit": 10000
     },
     "inputWidgets": {},
     "nuid": "7787ab69-3817-4b4b-88c3-c2c06db0fcb0",
     "showTitle": false,
     "tableResultSettingsMap": {},
     "title": ""
    }
   },
   "outputs": [],
   "source": [
    "%python\n",
    "df_avg = df.groupBy(\"ItemType\").avg(\"unitPrice\").withColumnRenamed(\"avg(unitPrice)\", \"avg_unit_price\")\n",
    "df_avg.orderBy(\"avg_unit_price\", ascending=False).show()"
   ]
  },
  {
   "cell_type": "code",
   "execution_count": 0,
   "metadata": {
    "application/vnd.databricks.v1+cell": {
     "cellMetadata": {
      "byteLimit": 2048000,
      "rowLimit": 10000
     },
     "inputWidgets": {},
     "nuid": "966fa0c1-530b-4092-8005-86e8f2a73f87",
     "showTitle": false,
     "tableResultSettingsMap": {},
     "title": ""
    }
   },
   "outputs": [],
   "source": [
    "#heighest profit generating sales channel\n",
    "df.groupBy(\"SalesChannel\").sum(\"Totalprofit\").orderBy(\"sum(Totalprofit)\", ascending=False).show()"
   ]
  },
  {
   "cell_type": "code",
   "execution_count": 0,
   "metadata": {
    "application/vnd.databricks.v1+cell": {
     "cellMetadata": {
      "byteLimit": 2048000,
      "rowLimit": 10000
     },
     "inputWidgets": {},
     "nuid": "f3c7892d-f180-4819-a85a-bc631f7d9355",
     "showTitle": false,
     "tableResultSettingsMap": {},
     "title": ""
    }
   },
   "outputs": [],
   "source": [
    "#What is the distribution of order priorities? Which priority level has the highest total revenue?\n",
    "df.groupBy(\"OrderPriority\").sum(\"TotalRevenue\").orderBy(\"sum(TotalRevenue)\", ascending=False).show()"
   ]
  },
  {
   "cell_type": "code",
   "execution_count": 0,
   "metadata": {
    "application/vnd.databricks.v1+cell": {
     "cellMetadata": {},
     "inputWidgets": {},
     "nuid": "e981f417-89cb-47b0-a2b9-cefe7cd4c9fd",
     "showTitle": false,
     "tableResultSettingsMap": {},
     "title": ""
    }
   },
   "outputs": [],
   "source": []
  }
 ],
 "metadata": {
  "application/vnd.databricks.v1+notebook": {
   "computePreferences": null,
   "dashboards": [],
   "environmentMetadata": {
    "base_environment": "",
    "environment_version": "2"
   },
   "inputWidgetPreferences": null,
   "language": "python",
   "notebookMetadata": {
    "pythonIndentUnit": 4
   },
   "notebookName": "Mount ADLS using SAS token",
   "widgets": {}
  },
  "language_info": {
   "name": "python"
  }
 },
 "nbformat": 4,
 "nbformat_minor": 0
}
