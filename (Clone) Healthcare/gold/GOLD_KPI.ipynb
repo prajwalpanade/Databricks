{
 "cells": [
  {
   "cell_type": "code",
   "execution_count": 0,
   "metadata": {
    "application/vnd.databricks.v1+cell": {
     "cellMetadata": {
      "byteLimit": 2048000,
      "rowLimit": 10000
     },
     "inputWidgets": {},
     "nuid": "e1250d61-8bdf-4d44-806c-a14ee6e21f41",
     "showTitle": false,
     "tableResultSettingsMap": {},
     "title": ""
    }
   },
   "outputs": [],
   "source": [
    "Dim_Doctor = spark.read.table(\"Prajwal_Mock.Dim_Doctor\")\n",
    "Fact_Table = spark.read.table(\"Prajwal_Mock.Fact_table\")"
   ]
  },
  {
   "cell_type": "code",
   "execution_count": 0,
   "metadata": {
    "application/vnd.databricks.v1+cell": {
     "cellMetadata": {
      "byteLimit": 2048000,
      "rowLimit": 10000
     },
     "inputWidgets": {},
     "nuid": "9e49d273-19e4-489d-9593-4293d0386ea8",
     "showTitle": false,
     "tableResultSettingsMap": {},
     "title": ""
    }
   },
   "outputs": [],
   "source": [
    "Dim_Patient = spark.read.table(\"Prajwal_Mock.Dim_Patient\")"
   ]
  },
  {
   "cell_type": "code",
   "execution_count": 0,
   "metadata": {
    "application/vnd.databricks.v1+cell": {
     "cellMetadata": {
      "byteLimit": 2048000,
      "rowLimit": 10000
     },
     "inputWidgets": {},
     "nuid": "7f46c363-e4ba-4002-b2e4-e2bab540e081",
     "showTitle": false,
     "tableResultSettingsMap": {},
     "title": ""
    }
   },
   "outputs": [],
   "source": [
    "Dim_Doctor.printSchema()\n",
    "Fact_Table.printSchema()\n",
    "Dim_Patient.printSchema()"
   ]
  },
  {
   "cell_type": "markdown",
   "metadata": {
    "application/vnd.databricks.v1+cell": {
     "cellMetadata": {
      "byteLimit": 2048000,
      "rowLimit": 10000
     },
     "inputWidgets": {},
     "nuid": "a84b3465-7569-4f89-8c2d-3d57a0bfea5a",
     "showTitle": false,
     "tableResultSettingsMap": {},
     "title": ""
    }
   },
   "source": [
    "## \tDoctor Workload: Analyze the number of admissions, tests, and procedures handled by each doctor."
   ]
  },
  {
   "cell_type": "code",
   "execution_count": 0,
   "metadata": {
    "application/vnd.databricks.v1+cell": {
     "cellMetadata": {
      "byteLimit": 2048000,
      "rowLimit": 10000
     },
     "inputWidgets": {},
     "nuid": "d74ff4c9-1d4a-4ef2-9be9-aa859cce6e8e",
     "showTitle": false,
     "tableResultSettingsMap": {},
     "title": ""
    }
   },
   "outputs": [
    {
     "output_type": "display_data",
     "data": {
      "text/plain": [
       "Databricks visualization. Run in Databricks to view."
      ]
     },
     "metadata": {
      "application/vnd.databricks.v1.subcommand+json": {
       "baseErrorDetails": null,
       "bindings": {},
       "collapsed": false,
       "command": "%python\n__backend_agg_display_orig = display\n__backend_agg_dfs = []\ndef __backend_agg_display_new(df):\n    __backend_agg_df_modules = [\"pandas.core.frame\", \"databricks.koalas.frame\", \"pyspark.sql.dataframe\", \"pyspark.pandas.frame\", \"pyspark.sql.connect.dataframe\"]\n    if (type(df).__module__ in __backend_agg_df_modules and type(df).__name__ == 'DataFrame') or isinstance(df, list):\n        __backend_agg_dfs.append(df)\n\ndisplay = __backend_agg_display_new\n\ndef __backend_agg_user_code_fn():\n    import base64\n    exec(base64.standard_b64decode(\"ZnJvbSBweXNwYXJrLnNxbC5mdW5jdGlvbnMgaW1wb3J0IGNvbCwgY291bnQKCmRvY3Rvcl93b3JrbG9hZCA9IEZhY3RfVGFibGUuZ3JvdXBCeSgiZG9jdG9yaWQiKSBcCiAgICAuYWdnKAogICAgICAgIGNvdW50KGNvbCgicGF0aWVudGlkIikpLmFsaWFzKCJOdW1iZXJfb2ZfQWRtaXNzaW9ucyIpLAogICAgICAgIGNvdW50KGNvbCgidGVzdHR5cGUiKSkuYWxpYXMoIk51bWJlcl9vZl9UZXN0cyIpLAogICAgICAgIGNvdW50KGNvbCgicHJvY2VkdXJldHlwZSIpKS5hbGlhcygiTnVtYmVyX29mX1Byb2NlZHVyZXMiKQogICAgKQoKZG9jdG9yX3dvcmtsb2FkID0gZG9jdG9yX3dvcmtsb2FkLmpvaW4oRGltX0RvY3RvciwgZG9jdG9yX3dvcmtsb2FkLmRvY3RvcmlkID09IERpbV9Eb2N0b3IuZG9jdG9yaWQsICJpbm5lciIpIFwKICAgIC5zZWxlY3QoRGltX0RvY3Rvci5uYW1lLmFsaWFzKCJEb2N0b3JfTmFtZSIpLCAiTnVtYmVyX29mX0FkbWlzc2lvbnMiLCAiTnVtYmVyX29mX1Rlc3RzIiwgIk51bWJlcl9vZl9Qcm9jZWR1cmVzIikKCmRpc3BsYXkoZG9jdG9yX3dvcmtsb2FkKQ==\").decode())\n\ntry:\n    # run user code\n    __backend_agg_user_code_fn()\n\n    #reset display function\n    display = __backend_agg_display_orig\n\n    if len(__backend_agg_dfs) > 0:\n        # create a temp view\n        if type(__backend_agg_dfs[0]).__module__ == \"databricks.koalas.frame\":\n            # koalas dataframe\n            __backend_agg_dfs[0].to_spark().createOrReplaceTempView(\"DatabricksView0726e16\")\n        elif type(__backend_agg_dfs[0]).__module__ == \"pandas.core.frame\" or isinstance(__backend_agg_dfs[0], list):\n            # pandas dataframe\n            spark.createDataFrame(__backend_agg_dfs[0]).createOrReplaceTempView(\"DatabricksView0726e16\")\n        else:\n            __backend_agg_dfs[0].createOrReplaceTempView(\"DatabricksView0726e16\")\n        #run backend agg\n        display(spark.sql(\"\"\"WITH q AS (select * from DatabricksView0726e16) SELECT `Doctor_Name`,SUM(`Number_of_Tests`) `column_301d4735195` FROM q GROUP BY `Doctor_Name`\"\"\"))\n    else:\n        displayHTML(\"dataframe no longer exists. If you're using dataframe.display(), use display(dataframe) instead.\")\n\n\nfinally:\n    spark.sql(\"drop view if exists DatabricksView0726e16\")\n    display = __backend_agg_display_orig\n    del __backend_agg_display_new\n    del __backend_agg_display_orig\n    del __backend_agg_dfs\n    del __backend_agg_user_code_fn\n\n",
       "commandTitle": "Visualization 1",
       "commandType": "auto",
       "commandVersion": 0,
       "commentThread": [],
       "commentsVisible": false,
       "contentSha256Hex": null,
       "customPlotOptions": {
        "redashChart": [
         {
          "key": "type",
          "value": "CHART"
         },
         {
          "key": "options",
          "value": {
           "alignYAxesAtZero": true,
           "coefficient": 1,
           "columnConfigurationMap": {
            "x": {
             "column": "Doctor_Name",
             "id": "column_301d4735193"
            },
            "y": [
             {
              "column": "Number_of_Tests",
              "id": "column_301d4735195",
              "transform": "SUM"
             }
            ]
           },
           "dateTimeFormat": "DD/MM/YYYY HH:mm",
           "direction": {
            "type": "counterclockwise"
           },
           "error_y": {
            "type": "data",
            "visible": true
           },
           "globalSeriesType": "column",
           "isAggregationOn": true,
           "legend": {
            "traceorder": "normal"
           },
           "missingValuesAsZero": true,
           "numberFormat": "0,0.[00000]",
           "percentFormat": "0[.]00%",
           "series": {
            "error_y": {
             "type": "data",
             "visible": true
            },
            "stacking": null
           },
           "seriesOptions": {
            "Number_of_Tests": {
             "type": "column",
             "yAxis": 0
            },
            "column_301d4735195": {
             "type": "column",
             "yAxis": 0
            }
           },
           "showDataLabels": false,
           "sizemode": "diameter",
           "sortX": true,
           "sortY": true,
           "swappedAxes": false,
           "textFormat": "",
           "useAggregationsUi": true,
           "valuesOptions": {},
           "version": 2,
           "xAxis": {
            "labels": {
             "enabled": true
            },
            "type": "-"
           },
           "yAxis": [
            {
             "type": "-"
            },
            {
             "opposite": true,
             "type": "-"
            }
           ]
          }
         }
        ]
       },
       "datasetPreviewNameToCmdIdMap": {},
       "diffDeletes": [],
       "diffInserts": [],
       "displayType": "redashChart",
       "error": null,
       "errorDetails": null,
       "errorSummary": null,
       "errorTraceType": null,
       "finishTime": 0,
       "globalVars": {},
       "guid": "",
       "height": "auto",
       "hideCommandCode": false,
       "hideCommandResult": false,
       "iPythonMetadata": null,
       "inputWidgets": {},
       "isLockedInExamMode": false,
       "latestUser": "a user",
       "latestUserId": null,
       "listResultMetadata": null,
       "metadata": {},
       "nuid": "b5e35565-4415-412a-a013-c4ef7f584d06",
       "origId": 0,
       "parentHierarchy": [],
       "pivotAggregation": null,
       "pivotColumns": null,
       "position": 4.0,
       "resultDbfsErrorMessage": null,
       "resultDbfsStatus": "INLINED_IN_TREE",
       "results": null,
       "showCommandTitle": false,
       "startTime": 0,
       "state": "input",
       "streamStates": {},
       "subcommandOptions": {
        "queryPlan": {
         "groups": [
          {
           "column": "Doctor_Name",
           "type": "column"
          }
         ],
         "selects": [
          {
           "column": "Doctor_Name",
           "type": "column"
          },
          {
           "alias": "column_301d4735195",
           "args": [
            {
             "column": "Number_of_Tests",
             "type": "column"
            }
           ],
           "function": "SUM",
           "type": "function"
          }
         ]
        }
       },
       "submitTime": 0,
       "subtype": "tableResultSubCmd.visualization",
       "tableResultIndex": 0,
       "tableResultSettingsMap": {},
       "useConsistentColors": false,
       "version": "CommandV1",
       "width": "auto",
       "workflows": null,
       "xColumns": null,
       "yColumns": null
      }
     },
     "output_type": "display_data"
    }
   ],
   "source": [
    "from pyspark.sql.functions import col, count\n",
    "\n",
    "doctor_workload = Fact_Table.groupBy(\"doctorid\") \\\n",
    "    .agg(\n",
    "        count(col(\"patientid\")).alias(\"Number_of_Admissions\"),\n",
    "        count(col(\"testtype\")).alias(\"Number_of_Tests\"),\n",
    "        count(col(\"proceduretype\")).alias(\"Number_of_Procedures\")\n",
    "    )\n",
    "\n",
    "doctor_workload = doctor_workload.join(Dim_Doctor, doctor_workload.doctorid == Dim_Doctor.doctorid, \"inner\") \\\n",
    "    .select(Dim_Doctor.name.alias(\"Doctor_Name\"), \"Number_of_Admissions\", \"Number_of_Tests\", \"Number_of_Procedures\")\n",
    "\n",
    "display(doctor_workload)"
   ]
  },
  {
   "cell_type": "markdown",
   "metadata": {
    "application/vnd.databricks.v1+cell": {
     "cellMetadata": {
      "byteLimit": 2048000,
      "rowLimit": 10000
     },
     "inputWidgets": {},
     "nuid": "5682fa0b-c1a4-4905-9a53-9024bf3e83ef",
     "showTitle": false,
     "tableResultSettingsMap": {},
     "title": ""
    }
   },
   "source": [
    "## \tDepartment Utilization: Study the distribution of patients and procedures across different hospital departments."
   ]
  },
  {
   "cell_type": "code",
   "execution_count": 0,
   "metadata": {
    "application/vnd.databricks.v1+cell": {
     "cellMetadata": {
      "byteLimit": 2048000,
      "rowLimit": 10000
     },
     "inputWidgets": {},
     "nuid": "149b2f6e-c63c-4ef1-ad2a-e43dcf4e36ff",
     "showTitle": false,
     "tableResultSettingsMap": {},
     "title": ""
    }
   },
   "outputs": [
    {
     "output_type": "display_data",
     "data": {
      "text/plain": [
       "Databricks visualization. Run in Databricks to view."
      ]
     },
     "metadata": {
      "application/vnd.databricks.v1.subcommand+json": {
       "baseErrorDetails": null,
       "bindings": {},
       "collapsed": false,
       "command": "%python\n__backend_agg_display_orig = display\n__backend_agg_dfs = []\ndef __backend_agg_display_new(df):\n    __backend_agg_df_modules = [\"pandas.core.frame\", \"databricks.koalas.frame\", \"pyspark.sql.dataframe\", \"pyspark.pandas.frame\", \"pyspark.sql.connect.dataframe\"]\n    if (type(df).__module__ in __backend_agg_df_modules and type(df).__name__ == 'DataFrame') or isinstance(df, list):\n        __backend_agg_dfs.append(df)\n\ndisplay = __backend_agg_display_new\n\ndef __backend_agg_user_code_fn():\n    import base64\n    exec(base64.standard_b64decode(\"ZnJvbSBweXNwYXJrLnNxbC5mdW5jdGlvbnMgaW1wb3J0IGNvbCwgY291bnREaXN0aW5jdAoKZGVwYXJ0bWVudF91dGlsaXphdGlvbiA9IEZhY3RfVGFibGUuZ3JvdXBCeSgiZGVwYXJ0bWVudCIpIFwKICAgIC5hZ2coCiAgICAgICAgY291bnREaXN0aW5jdChjb2woInBhdGllbnRpZCIpKS5hbGlhcygiTnVtYmVyX29mX1BhdGllbnRzIiksCiAgICAgICAgY291bnQoY29sKCJwcm9jZWR1cmV0eXBlIikpLmFsaWFzKCJOdW1iZXJfb2ZfUHJvY2VkdXJlcyIpCiAgICApCgpkZXBhcnRtZW50X3V0aWxpemF0aW9uID0gZGVwYXJ0bWVudF91dGlsaXphdGlvbi5qb2luKERpbV9Eb2N0b3IsIGRlcGFydG1lbnRfdXRpbGl6YXRpb24uZGVwYXJ0bWVudCA9PSBEaW1fRG9jdG9yLmRlcGFydG1lbnQsICJpbm5lciIpIFwKICAgIC5zZWxlY3QoRGltX0RvY3Rvci5kZXBhcnRtZW50LmFsaWFzKCJEZXBhcnRtZW50X05hbWUiKSwgIk51bWJlcl9vZl9QYXRpZW50cyIsICJOdW1iZXJfb2ZfUHJvY2VkdXJlcyIpCgpkaXNwbGF5KGRlcGFydG1lbnRfdXRpbGl6YXRpb24p\").decode())\n\ntry:\n    # run user code\n    __backend_agg_user_code_fn()\n\n    #reset display function\n    display = __backend_agg_display_orig\n\n    if len(__backend_agg_dfs) > 0:\n        # create a temp view\n        if type(__backend_agg_dfs[0]).__module__ == \"databricks.koalas.frame\":\n            # koalas dataframe\n            __backend_agg_dfs[0].to_spark().createOrReplaceTempView(\"DatabricksView39a382e\")\n        elif type(__backend_agg_dfs[0]).__module__ == \"pandas.core.frame\" or isinstance(__backend_agg_dfs[0], list):\n            # pandas dataframe\n            spark.createDataFrame(__backend_agg_dfs[0]).createOrReplaceTempView(\"DatabricksView39a382e\")\n        else:\n            __backend_agg_dfs[0].createOrReplaceTempView(\"DatabricksView39a382e\")\n        #run backend agg\n        display(spark.sql(\"\"\"WITH q AS (select * from DatabricksView39a382e) SELECT `Department_Name`,SUM(`Number_of_Procedures`) `column_301d4735198`,`Department_Name` FROM q GROUP BY `Department_Name`\"\"\"))\n    else:\n        displayHTML(\"dataframe no longer exists. If you're using dataframe.display(), use display(dataframe) instead.\")\n\n\nfinally:\n    spark.sql(\"drop view if exists DatabricksView39a382e\")\n    display = __backend_agg_display_orig\n    del __backend_agg_display_new\n    del __backend_agg_display_orig\n    del __backend_agg_dfs\n    del __backend_agg_user_code_fn\n\n",
       "commandTitle": "Visualization 1",
       "commandType": "auto",
       "commandVersion": 0,
       "commentThread": [],
       "commentsVisible": false,
       "contentSha256Hex": null,
       "customPlotOptions": {
        "redashChart": [
         {
          "key": "type",
          "value": "CHART"
         },
         {
          "key": "options",
          "value": {
           "alignYAxesAtZero": true,
           "coefficient": 1,
           "columnConfigurationMap": {
            "series": {
             "column": "Department_Name",
             "id": "column_301d4735199"
            },
            "x": {
             "column": "Department_Name",
             "id": "column_301d4735200"
            },
            "y": [
             {
              "column": "Number_of_Procedures",
              "id": "column_301d4735198",
              "transform": "SUM"
             }
            ]
           },
           "dateTimeFormat": "DD/MM/YYYY HH:mm",
           "direction": {
            "type": "counterclockwise"
           },
           "error_y": {
            "type": "data",
            "visible": true
           },
           "globalSeriesType": "column",
           "isAggregationOn": true,
           "legend": {
            "traceorder": "normal"
           },
           "missingValuesAsZero": true,
           "numberFormat": "0,0.[00000]",
           "percentFormat": "0[.]00%",
           "series": {
            "error_y": {
             "type": "data",
             "visible": true
            },
            "stacking": null
           },
           "seriesOptions": {
            "column_301d4735198": {
             "name": "Number_of_Procedures",
             "type": "column",
             "yAxis": 0
            }
           },
           "showDataLabels": false,
           "sizemode": "diameter",
           "sortX": true,
           "sortY": true,
           "swappedAxes": false,
           "textFormat": "",
           "useAggregationsUi": true,
           "valuesOptions": {},
           "version": 2,
           "xAxis": {
            "labels": {
             "enabled": true
            },
            "type": "-"
           },
           "yAxis": [
            {
             "type": "-"
            },
            {
             "opposite": true,
             "type": "-"
            }
           ]
          }
         }
        ]
       },
       "datasetPreviewNameToCmdIdMap": {},
       "diffDeletes": [],
       "diffInserts": [],
       "displayType": "redashChart",
       "error": null,
       "errorDetails": null,
       "errorSummary": null,
       "errorTraceType": null,
       "finishTime": 0,
       "globalVars": {},
       "guid": "",
       "height": "auto",
       "hideCommandCode": false,
       "hideCommandResult": false,
       "iPythonMetadata": null,
       "inputWidgets": {},
       "isLockedInExamMode": false,
       "latestUser": "a user",
       "latestUserId": null,
       "listResultMetadata": null,
       "metadata": {},
       "nuid": "5e10e31b-6f92-4054-8d93-3cb1ccdb3d81",
       "origId": 0,
       "parentHierarchy": [],
       "pivotAggregation": null,
       "pivotColumns": null,
       "position": 5.0,
       "resultDbfsErrorMessage": null,
       "resultDbfsStatus": "INLINED_IN_TREE",
       "results": null,
       "showCommandTitle": false,
       "startTime": 0,
       "state": "input",
       "streamStates": {},
       "subcommandOptions": {
        "queryPlan": {
         "groups": [
          {
           "column": "Department_Name",
           "type": "column"
          },
          {
           "column": "Department_Name",
           "type": "column"
          }
         ],
         "selects": [
          {
           "column": "Department_Name",
           "type": "column"
          },
          {
           "alias": "column_301d4735198",
           "args": [
            {
             "column": "Number_of_Procedures",
             "type": "column"
            }
           ],
           "function": "SUM",
           "type": "function"
          },
          {
           "column": "Department_Name",
           "type": "column"
          }
         ]
        }
       },
       "submitTime": 0,
       "subtype": "tableResultSubCmd.visualization",
       "tableResultIndex": 0,
       "tableResultSettingsMap": {},
       "useConsistentColors": false,
       "version": "CommandV1",
       "width": "auto",
       "workflows": null,
       "xColumns": null,
       "yColumns": null
      }
     },
     "output_type": "display_data"
    }
   ],
   "source": [
    "from pyspark.sql.functions import col, countDistinct\n",
    "\n",
    "department_utilization = Fact_Table.groupBy(\"department\") \\\n",
    "    .agg(\n",
    "        countDistinct(col(\"patientid\")).alias(\"Number_of_Patients\"),\n",
    "        count(col(\"proceduretype\")).alias(\"Number_of_Procedures\")\n",
    "    )\n",
    "\n",
    "department_utilization = department_utilization.join(Dim_Doctor, department_utilization.department == Dim_Doctor.department, \"inner\") \\\n",
    "    .select(Dim_Doctor.department.alias(\"Department_Name\"), \"Number_of_Patients\", \"Number_of_Procedures\")\n",
    "\n",
    "display(department_utilization)"
   ]
  },
  {
   "cell_type": "markdown",
   "metadata": {
    "application/vnd.databricks.v1+cell": {
     "cellMetadata": {
      "byteLimit": 2048000,
      "rowLimit": 10000
     },
     "inputWidgets": {},
     "nuid": "69e42d9a-5bdf-4eab-8ec0-fde3e0e3e2be",
     "showTitle": false,
     "tableResultSettingsMap": {},
     "title": ""
    }
   },
   "source": [
    "## \tProcedure Success Rate: To evaluate the effectiveness of healthcare procedures performed by each doctor."
   ]
  },
  {
   "cell_type": "code",
   "execution_count": 0,
   "metadata": {
    "application/vnd.databricks.v1+cell": {
     "cellMetadata": {
      "byteLimit": 2048000,
      "rowLimit": 10000
     },
     "inputWidgets": {},
     "nuid": "31721e80-032b-4195-b200-9296d25aa276",
     "showTitle": false,
     "tableResultSettingsMap": {},
     "title": ""
    }
   },
   "outputs": [
    {
     "output_type": "display_data",
     "data": {
      "text/plain": [
       "Databricks visualization. Run in Databricks to view."
      ]
     },
     "metadata": {
      "application/vnd.databricks.v1.subcommand+json": {
       "baseErrorDetails": null,
       "bindings": {},
       "collapsed": false,
       "command": "%python\n__backend_agg_display_orig = display\n__backend_agg_dfs = []\ndef __backend_agg_display_new(df):\n    __backend_agg_df_modules = [\"pandas.core.frame\", \"databricks.koalas.frame\", \"pyspark.sql.dataframe\", \"pyspark.pandas.frame\", \"pyspark.sql.connect.dataframe\"]\n    if (type(df).__module__ in __backend_agg_df_modules and type(df).__name__ == 'DataFrame') or isinstance(df, list):\n        __backend_agg_dfs.append(df)\n\ndisplay = __backend_agg_display_new\n\ndef __backend_agg_user_code_fn():\n    import base64\n    exec(base64.standard_b64decode(\"ZnJvbSBweXNwYXJrLnNxbC5mdW5jdGlvbnMgaW1wb3J0IGNvbCwgY291bnQsIHdoZW4KCnByb2NlZHVyZV9zdWNjZXNzX3JhdGUgPSBGYWN0X1RhYmxlLmdyb3VwQnkoImRvY3RvcmlkIikgXAogICAgLmFnZygKICAgICAgICBjb3VudCh3aGVuKGNvbCgib3V0Y29tZSIpID09ICJzdWNjZXNzIiwgVHJ1ZSkpLmFsaWFzKCJTdWNjZXNzZnVsX1Byb2NlZHVyZXMiKSwKICAgICAgICBjb3VudChjb2woInByb2NlZHVyZXR5cGUiKSkuYWxpYXMoIlRvdGFsX1Byb2NlZHVyZXMiKQogICAgKSBcCiAgICAud2l0aENvbHVtbigiUHJvY2VkdXJlX1N1Y2Nlc3NfUmF0ZSIsIGNvbCgiU3VjY2Vzc2Z1bF9Qcm9jZWR1cmVzIikgLyBjb2woIlRvdGFsX1Byb2NlZHVyZXMiKSkKCnByb2NlZHVyZV9zdWNjZXNzX3JhdGUgPSBwcm9jZWR1cmVfc3VjY2Vzc19yYXRlLmpvaW4oRGltX0RvY3RvciwgcHJvY2VkdXJlX3N1Y2Nlc3NfcmF0ZS5kb2N0b3JpZCA9PSBEaW1fRG9jdG9yLmRvY3RvcmlkLCAiaW5uZXIiKSBcCiAgICAuc2VsZWN0KERpbV9Eb2N0b3IubmFtZS5hbGlhcygiRG9jdG9yX05hbWUiKSwgIlN1Y2Nlc3NmdWxfUHJvY2VkdXJlcyIsICJUb3RhbF9Qcm9jZWR1cmVzIiwgIlByb2NlZHVyZV9TdWNjZXNzX1JhdGUiKQoKZGlzcGxheShwcm9jZWR1cmVfc3VjY2Vzc19yYXRlKQ==\").decode())\n\ntry:\n    # run user code\n    __backend_agg_user_code_fn()\n\n    #reset display function\n    display = __backend_agg_display_orig\n\n    if len(__backend_agg_dfs) > 0:\n        # create a temp view\n        if type(__backend_agg_dfs[0]).__module__ == \"databricks.koalas.frame\":\n            # koalas dataframe\n            __backend_agg_dfs[0].to_spark().createOrReplaceTempView(\"DatabricksView27057ef\")\n        elif type(__backend_agg_dfs[0]).__module__ == \"pandas.core.frame\" or isinstance(__backend_agg_dfs[0], list):\n            # pandas dataframe\n            spark.createDataFrame(__backend_agg_dfs[0]).createOrReplaceTempView(\"DatabricksView27057ef\")\n        else:\n            __backend_agg_dfs[0].createOrReplaceTempView(\"DatabricksView27057ef\")\n        #run backend agg\n        display(spark.sql(\"\"\"WITH q AS (select * from DatabricksView27057ef) SELECT `Doctor_Name`,SUM(`Total_Procedures`) `column_301d4735210`,`Successful_Procedures` FROM q GROUP BY `Doctor_Name`,`Successful_Procedures`\"\"\"))\n    else:\n        displayHTML(\"dataframe no longer exists. If you're using dataframe.display(), use display(dataframe) instead.\")\n\n\nfinally:\n    spark.sql(\"drop view if exists DatabricksView27057ef\")\n    display = __backend_agg_display_orig\n    del __backend_agg_display_new\n    del __backend_agg_display_orig\n    del __backend_agg_dfs\n    del __backend_agg_user_code_fn\n\n",
       "commandTitle": "Visualization 1",
       "commandType": "auto",
       "commandVersion": 0,
       "commentThread": [],
       "commentsVisible": false,
       "contentSha256Hex": null,
       "customPlotOptions": {
        "redashChart": [
         {
          "key": "type",
          "value": "CHART"
         },
         {
          "key": "options",
          "value": {
           "alignYAxesAtZero": true,
           "coefficient": 1,
           "columnConfigurationMap": {
            "series": {
             "column": "Successful_Procedures",
             "id": "column_301d4735212"
            },
            "x": {
             "column": "Doctor_Name",
             "id": "column_301d4735209"
            },
            "y": [
             {
              "column": "Total_Procedures",
              "id": "column_301d4735210",
              "transform": "SUM"
             }
            ]
           },
           "dateTimeFormat": "DD/MM/YYYY HH:mm",
           "direction": {
            "type": "counterclockwise"
           },
           "error_y": {
            "type": "data",
            "visible": true
           },
           "globalSeriesType": "column",
           "isAggregationOn": true,
           "legend": {
            "traceorder": "reversed"
           },
           "missingValuesAsZero": true,
           "numBins": 10,
           "numberFormat": "0,0.[00000]",
           "percentFormat": "0[.]00%",
           "series": {
            "error_y": {
             "type": "data",
             "visible": true
            },
            "stacking": null
           },
           "seriesOptions": {
            "Total_Procedures": {
             "type": "column",
             "yAxis": 0
            },
            "column_301d4735210": {
             "type": "column",
             "yAxis": 0
            }
           },
           "showDataLabels": false,
           "sizemode": "diameter",
           "sortX": true,
           "sortY": true,
           "swappedAxes": false,
           "textFormat": "",
           "useAggregationsUi": true,
           "valuesOptions": {},
           "version": 2,
           "xAxis": {
            "labels": {
             "enabled": true
            },
            "type": "-"
           },
           "yAxis": [
            {
             "type": "-"
            },
            {
             "opposite": true,
             "type": "-"
            }
           ]
          }
         }
        ]
       },
       "datasetPreviewNameToCmdIdMap": {},
       "diffDeletes": [],
       "diffInserts": [],
       "displayType": "redashChart",
       "error": null,
       "errorDetails": null,
       "errorSummary": null,
       "errorTraceType": null,
       "finishTime": 0,
       "globalVars": {},
       "guid": "",
       "height": "auto",
       "hideCommandCode": false,
       "hideCommandResult": false,
       "iPythonMetadata": null,
       "inputWidgets": {},
       "isLockedInExamMode": false,
       "latestUser": "a user",
       "latestUserId": null,
       "listResultMetadata": null,
       "metadata": {},
       "nuid": "f479537f-d6b1-48b6-badd-63b0b9b7b7b2",
       "origId": 0,
       "parentHierarchy": [],
       "pivotAggregation": null,
       "pivotColumns": null,
       "position": 5.25,
       "resultDbfsErrorMessage": null,
       "resultDbfsStatus": "INLINED_IN_TREE",
       "results": null,
       "showCommandTitle": false,
       "startTime": 0,
       "state": "input",
       "streamStates": {},
       "subcommandOptions": {
        "queryPlan": {
         "groups": [
          {
           "column": "Doctor_Name",
           "type": "column"
          },
          {
           "column": "Successful_Procedures",
           "type": "column"
          }
         ],
         "selects": [
          {
           "column": "Doctor_Name",
           "type": "column"
          },
          {
           "alias": "column_301d4735210",
           "args": [
            {
             "column": "Total_Procedures",
             "type": "column"
            }
           ],
           "function": "SUM",
           "type": "function"
          },
          {
           "column": "Successful_Procedures",
           "type": "column"
          }
         ]
        }
       },
       "submitTime": 0,
       "subtype": "tableResultSubCmd.visualization",
       "tableResultIndex": 0,
       "tableResultSettingsMap": {},
       "useConsistentColors": false,
       "version": "CommandV1",
       "width": "auto",
       "workflows": null,
       "xColumns": null,
       "yColumns": null
      }
     },
     "output_type": "display_data"
    }
   ],
   "source": [
    "from pyspark.sql.functions import col, count, when\n",
    "\n",
    "procedure_success_rate = Fact_Table.groupBy(\"doctorid\") \\\n",
    "    .agg(\n",
    "        count(when(col(\"outcome\") == \"success\", True)).alias(\"Successful_Procedures\"),\n",
    "        count(col(\"proceduretype\")).alias(\"Total_Procedures\")\n",
    "    ) \\\n",
    "    .withColumn(\"Procedure_Success_Rate\", col(\"Successful_Procedures\") / col(\"Total_Procedures\"))\n",
    "\n",
    "procedure_success_rate = procedure_success_rate.join(Dim_Doctor, procedure_success_rate.doctorid == Dim_Doctor.doctorid, \"inner\") \\\n",
    "    .select(Dim_Doctor.name.alias(\"Doctor_Name\"), \"Successful_Procedures\", \"Total_Procedures\", \"Procedure_Success_Rate\")\n",
    "\n",
    "display(procedure_success_rate)"
   ]
  },
  {
   "cell_type": "markdown",
   "metadata": {
    "application/vnd.databricks.v1+cell": {
     "cellMetadata": {
      "byteLimit": 2048000,
      "rowLimit": 10000
     },
     "inputWidgets": {},
     "nuid": "7de17551-bad3-4401-8b19-61bf5146b4a8",
     "showTitle": false,
     "tableResultSettingsMap": {},
     "title": ""
    }
   },
   "source": [
    "## \tAdmission Frequency: Determine how frequently patients are admitted for healthcare services."
   ]
  },
  {
   "cell_type": "code",
   "execution_count": 0,
   "metadata": {
    "application/vnd.databricks.v1+cell": {
     "cellMetadata": {
      "byteLimit": 2048000,
      "rowLimit": 10000
     },
     "inputWidgets": {},
     "nuid": "5121b393-0495-4e4a-8051-1b41b95968f2",
     "showTitle": false,
     "tableResultSettingsMap": {},
     "title": ""
    }
   },
   "outputs": [
    {
     "output_type": "display_data",
     "data": {
      "text/plain": [
       "Databricks visualization. Run in Databricks to view."
      ]
     },
     "metadata": {
      "application/vnd.databricks.v1.subcommand+json": {
       "baseErrorDetails": null,
       "bindings": {},
       "collapsed": false,
       "command": "%python\n__backend_agg_display_orig = display\n__backend_agg_dfs = []\ndef __backend_agg_display_new(df):\n    __backend_agg_df_modules = [\"pandas.core.frame\", \"databricks.koalas.frame\", \"pyspark.sql.dataframe\", \"pyspark.pandas.frame\", \"pyspark.sql.connect.dataframe\"]\n    if (type(df).__module__ in __backend_agg_df_modules and type(df).__name__ == 'DataFrame') or isinstance(df, list):\n        __backend_agg_dfs.append(df)\n\ndisplay = __backend_agg_display_new\n\ndef __backend_agg_user_code_fn():\n    import base64\n    exec(base64.standard_b64decode(\"ZnJvbSBweXNwYXJrLnNxbC5mdW5jdGlvbnMgaW1wb3J0IGNvbCwgY291bnQKCmFkbWlzc2lvbl9mcmVxdWVuY3kgPSBGYWN0X1RhYmxlLmdyb3VwQnkoInBhdGllbnRpZCIpIFwKICAgIC5hZ2coY291bnQoY29sKCJhZG1pc3Npb25fZGF0ZSIpKS5hbGlhcygiQWRtaXNzaW9uX0ZyZXF1ZW5jeSIpKQoKYWRtaXNzaW9uX2ZyZXF1ZW5jeSA9IGFkbWlzc2lvbl9mcmVxdWVuY3kuam9pbihEaW1fUGF0aWVudCwgYWRtaXNzaW9uX2ZyZXF1ZW5jeS5wYXRpZW50aWQgPT0gRGltX1BhdGllbnQucGF0aWVudGlkLCAiaW5uZXIiKSBcCiAgICAuc2VsZWN0KERpbV9QYXRpZW50Lm5hbWUuYWxpYXMoIlBhdGllbnRfTmFtZSIpLCAiQWRtaXNzaW9uX0ZyZXF1ZW5jeSIpCgpkaXNwbGF5KGFkbWlzc2lvbl9mcmVxdWVuY3kp\").decode())\n\ntry:\n    # run user code\n    __backend_agg_user_code_fn()\n\n    #reset display function\n    display = __backend_agg_display_orig\n\n    if len(__backend_agg_dfs) > 0:\n        # create a temp view\n        if type(__backend_agg_dfs[0]).__module__ == \"databricks.koalas.frame\":\n            # koalas dataframe\n            __backend_agg_dfs[0].to_spark().createOrReplaceTempView(\"DatabricksView3624d2e\")\n        elif type(__backend_agg_dfs[0]).__module__ == \"pandas.core.frame\" or isinstance(__backend_agg_dfs[0], list):\n            # pandas dataframe\n            spark.createDataFrame(__backend_agg_dfs[0]).createOrReplaceTempView(\"DatabricksView3624d2e\")\n        else:\n            __backend_agg_dfs[0].createOrReplaceTempView(\"DatabricksView3624d2e\")\n        #run backend agg\n        display(spark.sql(\"\"\"WITH q AS (select * from DatabricksView3624d2e) SELECT `Patient_Name`,`Admission_Frequency` FROM q GROUP BY `Admission_Frequency`,`Patient_Name`\"\"\"))\n    else:\n        displayHTML(\"dataframe no longer exists. If you're using dataframe.display(), use display(dataframe) instead.\")\n\n\nfinally:\n    spark.sql(\"drop view if exists DatabricksView3624d2e\")\n    display = __backend_agg_display_orig\n    del __backend_agg_display_new\n    del __backend_agg_display_orig\n    del __backend_agg_dfs\n    del __backend_agg_user_code_fn\n\n",
       "commandTitle": "Visualization 1",
       "commandType": "auto",
       "commandVersion": 0,
       "commentThread": [],
       "commentsVisible": false,
       "contentSha256Hex": null,
       "customPlotOptions": {
        "redashChart": [
         {
          "key": "type",
          "value": "CHART"
         },
         {
          "key": "options",
          "value": {
           "alignYAxesAtZero": true,
           "coefficient": 1,
           "columnConfigurationMap": {
            "series": {
             "column": "Admission_Frequency",
             "id": "column_301d4735180"
            },
            "x": {
             "column": "Patient_Name",
             "id": "column_301d4735179"
            },
            "y": []
           },
           "dateTimeFormat": "DD/MM/YYYY HH:mm",
           "direction": {
            "type": "counterclockwise"
           },
           "error_y": {
            "type": "data",
            "visible": true
           },
           "globalSeriesType": "column",
           "legend": {
            "traceorder": "normal"
           },
           "missingValuesAsZero": true,
           "numberFormat": "0,0.[00000]",
           "percentFormat": "0[.]00%",
           "series": {
            "error_y": {
             "type": "data",
             "visible": true
            },
            "stacking": null
           },
           "seriesOptions": {},
           "showDataLabels": false,
           "sizemode": "diameter",
           "sortX": true,
           "sortY": true,
           "swappedAxes": false,
           "textFormat": "",
           "useAggregationsUi": true,
           "valuesOptions": {},
           "version": 2,
           "xAxis": {
            "labels": {
             "enabled": true
            },
            "type": "-"
           },
           "yAxis": [
            {
             "type": "-"
            },
            {
             "opposite": true,
             "type": "-"
            }
           ]
          }
         }
        ]
       },
       "datasetPreviewNameToCmdIdMap": {},
       "diffDeletes": [],
       "diffInserts": [],
       "displayType": "redashChart",
       "error": null,
       "errorDetails": null,
       "errorSummary": null,
       "errorTraceType": null,
       "finishTime": 0,
       "globalVars": {},
       "guid": "",
       "height": "auto",
       "hideCommandCode": false,
       "hideCommandResult": false,
       "iPythonMetadata": null,
       "inputWidgets": {},
       "isLockedInExamMode": false,
       "latestUser": "a user",
       "latestUserId": null,
       "listResultMetadata": null,
       "metadata": {
        "byteLimit": 2048000,
        "rowLimit": 10000
       },
       "nuid": "2f471cc4-61c3-4335-a0b2-a1c7cdf5ac82",
       "origId": 0,
       "parentHierarchy": [],
       "pivotAggregation": null,
       "pivotColumns": null,
       "position": 7.0,
       "resultDbfsErrorMessage": null,
       "resultDbfsStatus": "INLINED_IN_TREE",
       "results": null,
       "showCommandTitle": false,
       "startTime": 0,
       "state": "input",
       "streamStates": {},
       "subcommandOptions": {
        "queryPlan": {
         "groups": [
          {
           "column": "Patient_Name",
           "type": "column"
          },
          {
           "column": "Admission_Frequency",
           "type": "column"
          }
         ],
         "selects": [
          {
           "column": "Patient_Name",
           "type": "column"
          },
          {
           "column": "Admission_Frequency",
           "type": "column"
          }
         ]
        }
       },
       "submitTime": 0,
       "subtype": "tableResultSubCmd.visualization",
       "tableResultIndex": 0,
       "tableResultSettingsMap": {},
       "useConsistentColors": false,
       "version": "CommandV1",
       "width": "auto",
       "workflows": null,
       "xColumns": null,
       "yColumns": null
      }
     },
     "output_type": "display_data"
    }
   ],
   "source": [
    "from pyspark.sql.functions import col, count\n",
    "\n",
    "admission_frequency = Fact_Table.groupBy(\"patientid\") \\\n",
    "    .agg(count(col(\"admission_date\")).alias(\"Admission_Frequency\"))\n",
    "\n",
    "admission_frequency = admission_frequency.join(Dim_Patient, admission_frequency.patientid == Dim_Patient.patientid, \"inner\") \\\n",
    "    .select(Dim_Patient.name.alias(\"Patient_Name\"), \"Admission_Frequency\")\n",
    "\n",
    "display(admission_frequency)    "
   ]
  },
  {
   "cell_type": "markdown",
   "metadata": {
    "application/vnd.databricks.v1+cell": {
     "cellMetadata": {
      "byteLimit": 2048000,
      "rowLimit": 10000
     },
     "inputWidgets": {},
     "nuid": "7f6fcc65-7cef-444e-ab58-7ba79e1d20b0",
     "showTitle": false,
     "tableResultSettingsMap": {},
     "title": ""
    }
   },
   "source": [
    "## \tMissed Payments: Identify and count instances of missed or delayed payments by patients."
   ]
  },
  {
   "cell_type": "code",
   "execution_count": 0,
   "metadata": {
    "application/vnd.databricks.v1+cell": {
     "cellMetadata": {
      "byteLimit": 2048000,
      "rowLimit": 10000
     },
     "inputWidgets": {},
     "nuid": "c61bf5da-66cc-49aa-868c-0813011cee03",
     "showTitle": false,
     "tableResultSettingsMap": {},
     "title": ""
    }
   },
   "outputs": [],
   "source": [
    "from pyspark.sql.functions import col, count, when\n",
    "\n",
    "missed_payments = Fact_Table.groupBy(\"patientid\") \\\n",
    "    .agg(count(when(col(\"paymentstatus\") == \"missed\", True)).alias(\"Missed_Payments\"))\n",
    "\n",
    "missed_payments = missed_payments.join(Dim_Patient, missed_payments.patientid == Dim_Patient.patientid, \"inner\") \\\n",
    "    .select(Dim_Patient.name.alias(\"Patient_Name\"), \"Missed_Payments\")\n",
    "\n",
    "display(missed_payments)"
   ]
  },
  {
   "cell_type": "markdown",
   "metadata": {
    "application/vnd.databricks.v1+cell": {
     "cellMetadata": {},
     "inputWidgets": {},
     "nuid": "1313eb80-acc4-4c3e-88fa-74ce8f168617",
     "showTitle": false,
     "tableResultSettingsMap": {},
     "title": ""
    }
   },
   "source": [
    "## \tOutstanding Amounts: Calculate unpaid or pending amounts per patient."
   ]
  },
  {
   "cell_type": "code",
   "execution_count": 0,
   "metadata": {
    "application/vnd.databricks.v1+cell": {
     "cellMetadata": {
      "byteLimit": 2048000,
      "rowLimit": 10000
     },
     "inputWidgets": {},
     "nuid": "1a2cb1b1-74cf-41ca-a8f8-e7528f446eb3",
     "showTitle": false,
     "tableResultSettingsMap": {},
     "title": ""
    }
   },
   "outputs": [],
   "source": [
    "from pyspark.sql.functions import col, sum, when\n",
    "\n",
    "outstanding_amounts = Fact_Table.groupBy(\"patientid\") \\\n",
    "    .agg(sum(when(col(\"paymentstatus\") == \"pending\", col(\"cost\")).otherwise(0)).alias(\"Outstanding_Amounts\"))\n",
    "\n",
    "outstanding_amounts = outstanding_amounts.join(Dim_Patient, outstanding_amounts.patientid == Dim_Patient.patientid, \"inner\") \\\n",
    "    .select(Dim_Patient.name.alias(\"Patient_Name\"), \"Outstanding_Amounts\")\n",
    "\n",
    "display(outstanding_amounts)"
   ]
  }
 ],
 "metadata": {
  "application/vnd.databricks.v1+notebook": {
   "computePreferences": null,
   "dashboards": [],
   "environmentMetadata": {
    "base_environment": "",
    "environment_version": "2"
   },
   "inputWidgetPreferences": null,
   "language": "python",
   "notebookMetadata": {
    "pythonIndentUnit": 4
   },
   "notebookName": "GOLD_KPI",
   "widgets": {}
  },
  "language_info": {
   "name": "python"
  }
 },
 "nbformat": 4,
 "nbformat_minor": 0
}
