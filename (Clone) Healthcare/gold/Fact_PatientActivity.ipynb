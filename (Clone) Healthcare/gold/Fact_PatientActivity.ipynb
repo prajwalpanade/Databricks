{
 "cells": [
  {
   "cell_type": "markdown",
   "metadata": {
    "application/vnd.databricks.v1+cell": {
     "cellMetadata": {
      "byteLimit": 2048000,
      "rowLimit": 10000
     },
     "inputWidgets": {},
     "nuid": "0cf56a89-cf19-4784-95d1-f77799a4fb0c",
     "showTitle": false,
     "tableResultSettingsMap": {},
     "title": ""
    }
   },
   "source": [
    "# GOLD FACT"
   ]
  },
  {
   "cell_type": "code",
   "execution_count": 0,
   "metadata": {
    "application/vnd.databricks.v1+cell": {
     "cellMetadata": {
      "byteLimit": 2048000,
      "rowLimit": 10000
     },
     "inputWidgets": {},
     "nuid": "db0acf6c-6056-470e-bdc2-70db9fe0f8e1",
     "showTitle": false,
     "tableResultSettingsMap": {},
     "title": ""
    }
   },
   "outputs": [],
   "source": [
    "from pyspark.sql import functions as F\n",
    "from pyspark.sql.types import *\n",
    "from pyspark.sql.functions import monotonically_increasing_id, col, count, row_number, lit, current_timestamp, coalesce, max\n",
    "from pyspark.sql.window import Window\n",
    "from delta.tables import DeltaTable"
   ]
  },
  {
   "cell_type": "code",
   "execution_count": 0,
   "metadata": {
    "application/vnd.databricks.v1+cell": {
     "cellMetadata": {
      "byteLimit": 2048000,
      "rowLimit": 10000
     },
     "inputWidgets": {},
     "nuid": "3b1287a1-7891-4057-9557-7e4a965223b1",
     "showTitle": false,
     "tableResultSettingsMap": {},
     "title": ""
    }
   },
   "outputs": [],
   "source": [
    "# Define Paths\n",
    "silver_path = \"/mnt/mock_prajwal/Healthcare_practice/silver/\"\n",
    "gold_path = \"/mnt/mock_prajwal/Healthcare_practice/gold/\""
   ]
  },
  {
   "cell_type": "code",
   "execution_count": 0,
   "metadata": {
    "application/vnd.databricks.v1+cell": {
     "cellMetadata": {
      "byteLimit": 2048000,
      "rowLimit": 10000
     },
     "inputWidgets": {},
     "nuid": "1d423560-5902-43c2-a10f-16e886778ad9",
     "showTitle": false,
     "tableResultSettingsMap": {},
     "title": ""
    }
   },
   "outputs": [],
   "source": [
    "df_adm = spark.read.format(\"delta\").load(silver_path + \"Admissions\")\n",
    "df_bill = spark.read.format(\"delta\").load(silver_path + \"Billing\")\n",
    "df_proc = spark.read.format(\"delta\").load(silver_path + \"Procedures\")\n",
    "df_test = spark.read.format(\"delta\").load(silver_path + \"Tests\")\n",
    "df_dtr = spark.read.format(\"delta\").load(silver_path + \"Doctor\")"
   ]
  },
  {
   "cell_type": "code",
   "execution_count": 0,
   "metadata": {
    "application/vnd.databricks.v1+cell": {
     "cellMetadata": {
      "byteLimit": 2048000,
      "rowLimit": 10000
     },
     "inputWidgets": {},
     "nuid": "4cf1df24-be6b-41f5-bb11-04cad6add6ad",
     "showTitle": false,
     "tableResultSettingsMap": {},
     "title": ""
    }
   },
   "outputs": [],
   "source": [
    "fact_df = df_proc.alias(\"p\") \\\n",
    "    .join(df_adm.alias(\"a\"), on=[\"patientid\", \"doctorid\"], how=\"outer\")\\\n",
    "    .join(df_bill.alias(\"b\"), on=[\"patientid\"], how=\"outer\")\\\n",
    "    .join(df_test.alias(\"t\"), on=[\"patientid\"], how=\"outer\")\n",
    "\n",
    "display(fact_df)"
   ]
  },
  {
   "cell_type": "code",
   "execution_count": 0,
   "metadata": {
    "application/vnd.databricks.v1+cell": {
     "cellMetadata": {
      "byteLimit": 2048000,
      "rowLimit": 10000
     },
     "inputWidgets": {},
     "nuid": "bf233004-098b-41d0-ae0c-182c8e2577be",
     "showTitle": false,
     "tableResultSettingsMap": {},
     "title": ""
    }
   },
   "outputs": [],
   "source": [
    "selected_columns = [\n",
    "    'patientid', 'doctorid', 'proceduredate', 'proceduretype', 'outcome', \n",
    "    'department', 'admission_date', 'discharge_date', 'billingid', 'totalamount', 'amountpaid', \n",
    "    'paymentstatus', 'paymentdate', 'patientcategory', 'paymentmode', 'paymentreference', \n",
    "    'billingdepartment', 'testtype', 'testdate', 'testresults', 'cost'\n",
    "]\n",
    "\n",
    "fact_df_selected = fact_df.select(*selected_columns)\n",
    "\n",
    "display(fact_df_selected)"
   ]
  },
  {
   "cell_type": "code",
   "execution_count": 0,
   "metadata": {
    "application/vnd.databricks.v1+cell": {
     "cellMetadata": {
      "byteLimit": 2048000,
      "rowLimit": 10000
     },
     "inputWidgets": {},
     "nuid": "115794f3-9bc5-4c69-9924-bbee0b404635",
     "showTitle": false,
     "tableResultSettingsMap": {},
     "title": ""
    }
   },
   "outputs": [],
   "source": [
    "from pyspark.sql.functions import monotonically_increasing_id, expr\n",
    "\n",
    "fact_df_with_id = fact_df_selected.withColumn(\"activityid\", expr(\"monotonically_increasing_id() + 1\"))\n",
    "\n",
    "display(fact_df_with_id)"
   ]
  },
  {
   "cell_type": "code",
   "execution_count": 0,
   "metadata": {
    "application/vnd.databricks.v1+cell": {
     "cellMetadata": {
      "byteLimit": 2048000,
      "rowLimit": 10000
     },
     "inputWidgets": {},
     "nuid": "a77e18b3-985c-4814-ad21-a9b476ee06b2",
     "showTitle": false,
     "tableResultSettingsMap": {},
     "title": ""
    }
   },
   "outputs": [],
   "source": [
    "fact_df_with_id.printSchema()"
   ]
  },
  {
   "cell_type": "code",
   "execution_count": 0,
   "metadata": {
    "application/vnd.databricks.v1+cell": {
     "cellMetadata": {
      "byteLimit": 2048000,
      "rowLimit": 10000
     },
     "inputWidgets": {},
     "nuid": "a6b2aa7c-be03-45f0-aa2b-7dd1fa547bce",
     "showTitle": false,
     "tableResultSettingsMap": {},
     "title": ""
    }
   },
   "outputs": [],
   "source": [
    "from pyspark.sql.types import StructType, StructField, StringType, DoubleType, DateType, LongType\n",
    "\n",
    "schema = StructType([\n",
    "    StructField(\"patientid\", StringType(), True),\n",
    "    StructField(\"doctorid\", StringType(), True),\n",
    "    StructField(\"proceduredate\", DateType(), True),\n",
    "    StructField(\"proceduretype\", StringType(), True),\n",
    "    StructField(\"outcome\", StringType(), True),\n",
    "    StructField(\"department\", StringType(), True),\n",
    "    StructField(\"admission_date\", DateType(), True),\n",
    "    StructField(\"discharge_date\", DateType(), True),\n",
    "    StructField(\"billingid\", StringType(), True),\n",
    "    StructField(\"totalamount\", DoubleType(), True),\n",
    "    StructField(\"amountpaid\", DoubleType(), True),\n",
    "    StructField(\"paymentstatus\", StringType(), True),\n",
    "    StructField(\"paymentdate\", DateType(), True),\n",
    "    StructField(\"patientcategory\", StringType(), True),\n",
    "    StructField(\"paymentmode\", StringType(), True),\n",
    "    StructField(\"paymentreference\", StringType(), True),\n",
    "    StructField(\"billingdepartment\", StringType(), True),\n",
    "    StructField(\"testtype\", StringType(), True),\n",
    "    StructField(\"testdate\", DateType(), True),\n",
    "    StructField(\"testresults\", StringType(), True),\n",
    "    StructField(\"cost\", DoubleType(), True),\n",
    "    StructField(\"activityid\", LongType(), False)\n",
    "])\n",
    "\n",
    "# Create the table if it does not exist\n",
    "spark.sql(\"\"\"\n",
    "    CREATE TABLE IF NOT EXISTS Prajwal_Mock.Fact_table (\n",
    "        patientid STRING,\n",
    "        doctorid STRING,\n",
    "        proceduredate DATE,\n",
    "        proceduretype STRING,\n",
    "        outcome STRING,\n",
    "        department STRING,\n",
    "        admission_date DATE,\n",
    "        discharge_date DATE,\n",
    "        billingid STRING,\n",
    "        totalamount DOUBLE,\n",
    "        amountpaid DOUBLE,\n",
    "        paymentstatus STRING,\n",
    "        paymentdate DATE,\n",
    "        patientcategory STRING,\n",
    "        paymentmode STRING,\n",
    "        paymentreference STRING,\n",
    "        billingdepartment STRING,\n",
    "        testtype STRING,\n",
    "        testdate DATE,\n",
    "        testresults STRING,\n",
    "        cost DOUBLE,\n",
    "        activityid LONG\n",
    "    )\n",
    "    USING DELTA \n",
    "    LOCATION \"/mnt/mock_prajwal/Healthcare_practice/gold/Dim_fact\"\n",
    "\"\"\")"
   ]
  },
  {
   "cell_type": "code",
   "execution_count": 0,
   "metadata": {
    "application/vnd.databricks.v1+cell": {
     "cellMetadata": {
      "byteLimit": 2048000,
      "rowLimit": 10000
     },
     "inputWidgets": {},
     "nuid": "43baee85-f128-4b41-aa0b-ba9d864af55c",
     "showTitle": false,
     "tableResultSettingsMap": {},
     "title": ""
    }
   },
   "outputs": [],
   "source": [
    "fact_df_with_id.write.format(\"delta\").mode(\"append\").option(\"mergeSchema\", \"true\").save(\"/mnt/mock_prajwal/Healthcare_practice/gold/Dim_fact\")"
   ]
  },
  {
   "cell_type": "code",
   "execution_count": 0,
   "metadata": {
    "application/vnd.databricks.v1+cell": {
     "cellMetadata": {
      "byteLimit": 2048000,
      "rowLimit": 10000
     },
     "inputWidgets": {},
     "nuid": "474e68b1-d6bd-4317-b35a-26902c303e80",
     "showTitle": false,
     "tableResultSettingsMap": {},
     "title": ""
    }
   },
   "outputs": [],
   "source": [
    "\n",
    "product_dim_df = spark.read.format(\"delta\").load(\"/mnt/mock_prajwal/Healthcare_practice/gold/Dim_fact\")\n",
    "\n",
    "# Read from product dim table\n",
    "product_dim_table_df = spark.table(\"Prajwal_Mock.Fact_table\")\n",
    "\n",
    "# Display the dataframes\n",
    "display(product_dim_df)\n",
    "display(product_dim_table_df)"
   ]
  },
  {
   "cell_type": "code",
   "execution_count": 0,
   "metadata": {
    "application/vnd.databricks.v1+cell": {
     "cellMetadata": {
      "byteLimit": 2048000,
      "rowLimit": 10000
     },
     "inputWidgets": {},
     "nuid": "93c6e1c4-2583-474e-8456-f825217a8045",
     "showTitle": false,
     "tableResultSettingsMap": {},
     "title": ""
    }
   },
   "outputs": [],
   "source": [
    "# spark.sql(\"DROP TABLE IF EXISTS Prajwal_Mock.Fact_table\")"
   ]
  }
 ],
 "metadata": {
  "application/vnd.databricks.v1+notebook": {
   "computePreferences": null,
   "dashboards": [],
   "environmentMetadata": {
    "base_environment": "",
    "environment_version": "2"
   },
   "inputWidgetPreferences": null,
   "language": "python",
   "notebookMetadata": {
    "pythonIndentUnit": 4
   },
   "notebookName": "Fact_PatientActivity",
   "widgets": {}
  },
  "language_info": {
   "name": "python"
  }
 },
 "nbformat": 4,
 "nbformat_minor": 0
}
