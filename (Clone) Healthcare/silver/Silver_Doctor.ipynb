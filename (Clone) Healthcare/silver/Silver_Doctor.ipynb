{
 "cells": [
  {
   "cell_type": "code",
   "execution_count": 0,
   "metadata": {
    "application/vnd.databricks.v1+cell": {
     "cellMetadata": {
      "byteLimit": 2048000,
      "rowLimit": 10000
     },
     "inputWidgets": {},
     "nuid": "31b7b6fa-8f43-4d66-bda7-4d5660acdc42",
     "showTitle": false,
     "tableResultSettingsMap": {},
     "title": ""
    }
   },
   "outputs": [],
   "source": [
    "from pyspark.sql.functions import *\n",
    "from pyspark.sql.types import *\n",
    "from pyspark.sql.window import Window\n",
    "from datetime import datetime\n",
    "import os\n",
    "import time"
   ]
  },
  {
   "cell_type": "code",
   "execution_count": 0,
   "metadata": {
    "application/vnd.databricks.v1+cell": {
     "cellMetadata": {
      "byteLimit": 2048000,
      "rowLimit": 10000
     },
     "inputWidgets": {},
     "nuid": "0014c44a-8449-4e0f-a893-50fb239ada9a",
     "showTitle": false,
     "tableResultSettingsMap": {},
     "title": ""
    }
   },
   "outputs": [],
   "source": [
    "%run ../logs/logs_notebook"
   ]
  },
  {
   "cell_type": "code",
   "execution_count": 0,
   "metadata": {
    "application/vnd.databricks.v1+cell": {
     "cellMetadata": {
      "byteLimit": 2048000,
      "rowLimit": 10000
     },
     "inputWidgets": {},
     "nuid": "c6606ec6-8383-406e-b65f-8c816d8292d5",
     "showTitle": false,
     "tableResultSettingsMap": {},
     "title": ""
    }
   },
   "outputs": [],
   "source": [
    "%run ../utilities/Futuredate"
   ]
  },
  {
   "cell_type": "code",
   "execution_count": 0,
   "metadata": {
    "application/vnd.databricks.v1+cell": {
     "cellMetadata": {
      "byteLimit": 2048000,
      "rowLimit": 10000
     },
     "inputWidgets": {},
     "nuid": "1a7f51c6-b9f6-409e-bffa-c599b80843ac",
     "showTitle": false,
     "tableResultSettingsMap": {},
     "title": ""
    }
   },
   "outputs": [],
   "source": [
    "%run ../utilities/Pastdate"
   ]
  },
  {
   "cell_type": "code",
   "execution_count": 0,
   "metadata": {
    "application/vnd.databricks.v1+cell": {
     "cellMetadata": {
      "byteLimit": 2048000,
      "rowLimit": 10000
     },
     "inputWidgets": {},
     "nuid": "8f74c601-d36a-43b5-b6a9-be3158310f27",
     "showTitle": false,
     "tableResultSettingsMap": {},
     "title": ""
    }
   },
   "outputs": [],
   "source": [
    "# Define Paths\n",
    "bronze_path = \"/mnt/mock_prajwal/Healthcare_practice/bronze/\"\n",
    "silver_path = \"/mnt/mock_prajwal/Healthcare_practice/silver/\""
   ]
  },
  {
   "cell_type": "code",
   "execution_count": 0,
   "metadata": {
    "application/vnd.databricks.v1+cell": {
     "cellMetadata": {
      "byteLimit": 2048000,
      "rowLimit": 10000
     },
     "inputWidgets": {},
     "nuid": "8a7425a0-ad9c-40e0-be7a-089b9819eaa7",
     "showTitle": false,
     "tableResultSettingsMap": {},
     "title": ""
    }
   },
   "outputs": [],
   "source": [
    "# try block to handle exceptions\n",
    "try:\n",
    "    # check if the bronze path exists\n",
    "    if dbutils.fs.ls(bronze_path):\n",
    "        # get the list of files in the bronze path\n",
    "        files = [file.name for file in dbutils.fs.ls(bronze_path)]\n",
    "        \n",
    "        # check if 'FF_Customer_Details_Day0/' exists in the files\n",
    "        if 'Doctor/' in files:\n",
    "            # set file path and other file details\n",
    "            file_path = bronze_path + \"Doctor\"\n",
    "            file_name = os.path.basename(file_path)\n",
    "            file_extension = file_name.split(\".\")[-1]\n",
    "            file_name = file_name.split(\".\")[0]\n",
    "            file_info = dbutils.fs.ls(file_path)[0]\n",
    "            file_size_kb = file_info.size / 1024\n",
    "            file_mod_time = datetime.fromtimestamp(file_info.modificationTime / 1000)\n",
    "            processed_by = dbutils.notebook.entry_point.getDbutils().notebook().getContext().tags().apply('user')\n",
    "            file_type = \"parquet\"  # Define file_type\n",
    "            Layer = \"silver\"\n",
    "            \n",
    "            # start time of the files\n",
    "            start_time = time.time()\n",
    "            log_message(file_path, file_type, file_size_kb, file_mod_time, None, \"PROCESSING\", 0, processed_by, f\"Reading Parquet File {file_name}\", Layer)\n",
    "            \n",
    "            # Load the parquet file into a DataFrame\n",
    "            df = spark.read.format(\"parquet\").load(bronze_path + \"Doctor\")\n",
    "\n",
    "            df_dr = df.toDF(*[c.strip() for c in df.columns])\n",
    "\n",
    "            df_dr = df_dr.toDF(*[c.lower().replace(\" \", \"_\") for c in df_dr.columns])\n",
    "\n",
    "            futuredate = udf(date_format_udf_Policy_future, DateType())\n",
    "            df_dr = df_dr.withColumn(\"joined_date\", futuredate(col(\"joined_date\")))\n",
    "\n",
    "            df_dr = df_dr.withColumn(\"degree\", regexp_replace(col(\"degree\"), \"M.B.B.S\", \"MBBS\"))\n",
    "\n",
    "            df_dr = df_dr.dropna()\n",
    "\n",
    "            # Record count and processing time\n",
    "            record_count = df_dr.count()\n",
    "            processing_time_sec = int(time.time() - start_time)\n",
    "            \n",
    "            # Final status\n",
    "            log_message(file_path, file_type, file_size_kb, file_mod_time, record_count, \"COMPLETED\", processing_time_sec, processed_by, f\"Successfully processed {file_path}\", Layer)\n",
    "\n",
    "            df_dr.write.mode(\"overwrite\").format(\"delta\").partitionBy(\"ingestion_time\").option(\"overwriteSchema\", \"true\").save(silver_path + \"Doctor\")\n",
    "# handle exceptions\n",
    "except Exception as e:\n",
    "    processing_time_sec = int(time.time() - start_time)\n",
    "    log_message(file_path, file_type, file_size_kb, file_mod_time, 0, \"FAILED\", processing_time_sec, processed_by, f\"Error processing file {file_path}: {str(e)}\", Layer)\n",
    "    raise e\n",
    "\n"
   ]
  },
  {
   "cell_type": "code",
   "execution_count": 0,
   "metadata": {
    "application/vnd.databricks.v1+cell": {
     "cellMetadata": {
      "byteLimit": 2048000,
      "rowLimit": 10000
     },
     "inputWidgets": {},
     "nuid": "1f2fa5a2-1d95-45a8-8c11-4fa4f25850ba",
     "showTitle": false,
     "tableResultSettingsMap": {},
     "title": ""
    }
   },
   "outputs": [],
   "source": [
    "# Read the data from the silver layer\n",
    "df_silver_admissions = spark.read.format(\"delta\").load(silver_path + \"Doctor\")\n",
    "display(df_silver_admissions)"
   ]
  },
  {
   "cell_type": "code",
   "execution_count": 0,
   "metadata": {
    "application/vnd.databricks.v1+cell": {
     "cellMetadata": {
      "byteLimit": 2048000,
      "rowLimit": 10000
     },
     "inputWidgets": {},
     "nuid": "938c19f4-6f7f-4fd8-ac60-78136f06c664",
     "showTitle": false,
     "tableResultSettingsMap": {},
     "title": ""
    }
   },
   "outputs": [],
   "source": [
    "log_path = \"/mnt/mock_prajwal/Healthcare_practice/logs\"\n",
    "df_logs = spark.read.format(\"delta\").load(log_path)\n",
    "df_logs_today = df_logs.filter(df_logs['processed_time'].cast(\"date\") == \"2025-05-19\")\n",
    "display(df_logs_today)"
   ]
  },
  {
   "cell_type": "code",
   "execution_count": 0,
   "metadata": {
    "application/vnd.databricks.v1+cell": {
     "cellMetadata": {
      "byteLimit": 2048000,
      "rowLimit": 10000
     },
     "inputWidgets": {},
     "nuid": "60c0aa46-f629-4f13-90c8-b97886e3d24a",
     "showTitle": false,
     "tableResultSettingsMap": {},
     "title": ""
    }
   },
   "outputs": [],
   "source": [
    "from pyspark.sql.functions import col, sum\n",
    "\n",
    "null_counts = df_dr.select([sum(col(c).isNull().cast(\"int\")).alias(c) for c in df_dr.columns])\n",
    "display(null_counts)"
   ]
  }
 ],
 "metadata": {
  "application/vnd.databricks.v1+notebook": {
   "computePreferences": null,
   "dashboards": [],
   "environmentMetadata": {
    "base_environment": "",
    "environment_version": "2"
   },
   "inputWidgetPreferences": null,
   "language": "python",
   "notebookMetadata": {
    "pythonIndentUnit": 4
   },
   "notebookName": "Silver_Doctor",
   "widgets": {}
  },
  "language_info": {
   "name": "python"
  }
 },
 "nbformat": 4,
 "nbformat_minor": 0
}
