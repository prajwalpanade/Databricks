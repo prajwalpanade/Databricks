{
 "cells": [
  {
   "cell_type": "code",
   "execution_count": 0,
   "metadata": {
    "application/vnd.databricks.v1+cell": {
     "cellMetadata": {
      "byteLimit": 2048000,
      "rowLimit": 10000
     },
     "inputWidgets": {},
     "nuid": "5b895c9e-e299-4865-a0bd-c2aa21a1a2f0",
     "showTitle": false,
     "tableResultSettingsMap": {},
     "title": ""
    }
   },
   "outputs": [],
   "source": [
    "# Importing the required libraries\n",
    "from pyspark.sql.functions import *\n",
    "from pyspark.sql.types import *\n",
    "from pyspark.sql.window import Window\n",
    "import os\n",
    "from datetime import datetime\n",
    "import time\n",
    "from pyspark.sql.types import StructType, StructField, StringType, DoubleType, TimestampType, IntegerType\n",
    "import pyspark.sql.functions as F"
   ]
  },
  {
   "cell_type": "code",
   "execution_count": 0,
   "metadata": {
    "application/vnd.databricks.v1+cell": {
     "cellMetadata": {
      "byteLimit": 2048000,
      "rowLimit": 10000
     },
     "inputWidgets": {},
     "nuid": "275a43cd-c2e6-49f2-8087-f81aa0f698fd",
     "showTitle": false,
     "tableResultSettingsMap": {},
     "title": ""
    }
   },
   "outputs": [],
   "source": [
    "%run ../logs/logs_notebook"
   ]
  },
  {
   "cell_type": "code",
   "execution_count": 0,
   "metadata": {
    "application/vnd.databricks.v1+cell": {
     "cellMetadata": {
      "byteLimit": 2048000,
      "rowLimit": 10000
     },
     "inputWidgets": {},
     "nuid": "eb5db54d-ceda-417e-b17f-d668f4a0822b",
     "showTitle": false,
     "tableResultSettingsMap": {},
     "title": ""
    }
   },
   "outputs": [],
   "source": [
    "# Define Paths\n",
    "source_path = \"/mnt/mock_prajwal/Healthcare_practice/source_file/Doctor.csv\"\n",
    "bronze_path = \"/mnt/mock_prajwal/Healthcare_practice/bronze/\""
   ]
  },
  {
   "cell_type": "code",
   "execution_count": 0,
   "metadata": {
    "application/vnd.databricks.v1+cell": {
     "cellMetadata": {
      "byteLimit": 2048000,
      "rowLimit": 10000
     },
     "inputWidgets": {},
     "nuid": "4e313747-49f7-4068-8cf7-65b823cfee25",
     "showTitle": false,
     "tableResultSettingsMap": {},
     "title": ""
    }
   },
   "outputs": [],
   "source": [
    "try:\n",
    "    # Initialize start time\n",
    "    start_time = time.time()\n",
    "    \n",
    "    # Log file details\n",
    "    file_path = source_path\n",
    "    file_name = os.path.basename(file_path)\n",
    "    file_extension = file_name.split(\".\")[-1]\n",
    "    file_name = file_name.split(\".\")[0]\n",
    "    file_info = dbutils.fs.ls(file_path)[0]\n",
    "    file_size_kb = file_info.size / 1024\n",
    "    file_mod_time = datetime.fromtimestamp(file_info.modificationTime / 1000)\n",
    "    processed_by = dbutils.notebook.entry_point.getDbutils().notebook().getContext().tags().apply('user')\n",
    "    file_type = \"csv\"  # Define file_type\n",
    "\n",
    "    Layer = \"Bronze\"\n",
    "\n",
    "    # Log start of processing\n",
    "    log_message(file_path, file_type, file_size_kb, file_mod_time, None, \"PROCESSING\", 0, processed_by, f\"Reading CSV File {file_name}\", Layer)\n",
    "    \n",
    "    # Read CSV file\n",
    "    df = spark.read.option(\"delimiter\", \",\").option(\"inferSchema\", \"true\").csv(source_path, header=True, quote='\"', escape='\"')\n",
    "    \n",
    "    # Add ingestion_time column\n",
    "    df = df.withColumn(\"ingestion_time\", current_timestamp())\n",
    "    \n",
    "    # Record count and processing time\n",
    "    record_count = df.count()\n",
    "    processing_time_sec = int(time.time() - start_time)\n",
    "\n",
    "    # Write to Parquet\n",
    "    df.write.format(\"parquet\").mode(\"overwrite\").save(bronze_path + file_name)\n",
    "\n",
    "    # Final status\n",
    "    log_message(file_path, file_type, file_size_kb, file_mod_time, record_count, \"COMPLETED\", processing_time_sec, processed_by, f\"Successfully processed {file_path}\", Layer)\n",
    "\n",
    "except Exception as e:\n",
    "    processing_time_sec = int(time.time() - start_time)\n",
    "    log_message(file_path, file_type, file_size_kb, file_mod_time, 0, \"FAILED\", processing_time_sec, processed_by, f\"Error processing file {file_path}: {str(e)}\", Layer)\n",
    "    raise e"
   ]
  },
  {
   "cell_type": "code",
   "execution_count": 0,
   "metadata": {
    "application/vnd.databricks.v1+cell": {
     "cellMetadata": {
      "byteLimit": 2048000,
      "rowLimit": 10000
     },
     "inputWidgets": {},
     "nuid": "3fbbd512-a55d-4dc5-9f10-2fd42d1f4df0",
     "showTitle": false,
     "tableResultSettingsMap": {},
     "title": ""
    }
   },
   "outputs": [],
   "source": [
    "df_bronze = spark.read.format(\"parquet\").load(bronze_path + file_name)\n",
    "display(df_bronze)"
   ]
  },
  {
   "cell_type": "code",
   "execution_count": 0,
   "metadata": {
    "application/vnd.databricks.v1+cell": {
     "cellMetadata": {
      "byteLimit": 2048000,
      "rowLimit": 10000
     },
     "inputWidgets": {},
     "nuid": "e95df4d4-d213-4c06-bf5a-945f19ee0b80",
     "showTitle": false,
     "tableResultSettingsMap": {},
     "title": ""
    }
   },
   "outputs": [],
   "source": [
    "log_path = \"/mnt/mock_prajwal/Healthcare_practice/logs\"\n",
    "df_logs = spark.read.format(\"delta\").load(log_path)\n",
    "df_logs_today = df_logs.filter(df_logs['processed_time'].cast(\"date\") == \"2025-05-19\")\n",
    "display(df_logs_today)"
   ]
  }
 ],
 "metadata": {
  "application/vnd.databricks.v1+notebook": {
   "computePreferences": null,
   "dashboards": [],
   "environmentMetadata": {
    "base_environment": "",
    "environment_version": "2"
   },
   "inputWidgetPreferences": null,
   "language": "python",
   "notebookMetadata": {
    "pythonIndentUnit": 4
   },
   "notebookName": "Bronze_Doctor",
   "widgets": {}
  },
  "language_info": {
   "name": "python"
  }
 },
 "nbformat": 4,
 "nbformat_minor": 0
}
