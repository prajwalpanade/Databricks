{
 "cells": [
  {
   "cell_type": "code",
   "execution_count": 0,
   "metadata": {
    "application/vnd.databricks.v1+cell": {
     "cellMetadata": {
      "byteLimit": 2048000,
      "rowLimit": 10000
     },
     "inputWidgets": {},
     "nuid": "2e48bff0-fa11-43ff-af95-305a229db3ca",
     "showTitle": false,
     "tableResultSettingsMap": {},
     "title": ""
    }
   },
   "outputs": [],
   "source": [
    "# Importing the required libraries\n",
    "from pyspark.sql.functions import *\n",
    "from pyspark.sql.types import *\n",
    "from pyspark.sql.window import Window\n",
    "import os\n",
    "from datetime import datetime\n",
    "import time\n",
    "from pyspark.sql.types import StructType, StructField, StringType, DoubleType, TimestampType, IntegerType\n",
    "import pyspark.sql.functions as F"
   ]
  },
  {
   "cell_type": "code",
   "execution_count": 0,
   "metadata": {
    "application/vnd.databricks.v1+cell": {
     "cellMetadata": {
      "byteLimit": 2048000,
      "rowLimit": 10000
     },
     "inputWidgets": {},
     "nuid": "3b75d1c9-c6cc-413d-8faa-f80dda2d0b25",
     "showTitle": false,
     "tableResultSettingsMap": {},
     "title": ""
    }
   },
   "outputs": [],
   "source": [
    "%run ../logs/logs_notebook"
   ]
  },
  {
   "cell_type": "code",
   "execution_count": 0,
   "metadata": {
    "application/vnd.databricks.v1+cell": {
     "cellMetadata": {
      "byteLimit": 2048000,
      "rowLimit": 10000
     },
     "inputWidgets": {},
     "nuid": "a12f31cb-2f24-47e5-97bd-e037fe77eec7",
     "showTitle": false,
     "tableResultSettingsMap": {},
     "title": ""
    }
   },
   "outputs": [],
   "source": [
    "# Define Paths\n",
    "source_path = \"/mnt/mock_prajwal/source_file/Policy_details_source1.txt\"\n",
    "bronze_path = \"/mnt/mock_prajwal/Clone_mock/bronze/\""
   ]
  },
  {
   "cell_type": "code",
   "execution_count": 0,
   "metadata": {
    "application/vnd.databricks.v1+cell": {
     "cellMetadata": {
      "byteLimit": 2048000,
      "rowLimit": 10000
     },
     "inputWidgets": {},
     "nuid": "462aae4e-f5eb-4c9b-a381-ecb689e5ee8a",
     "showTitle": false,
     "tableResultSettingsMap": {},
     "title": ""
    }
   },
   "outputs": [],
   "source": [
    "try:\n",
    "    # Log file details\n",
    "    file_path = source_path\n",
    "    file_name = os.path.basename(file_path)\n",
    "    file_extension = file_name.split(\".\")[-1]\n",
    "    file_name = file_name.split(\".\")[0]\n",
    "    file_info = dbutils.fs.ls(file_path)[0]\n",
    "    file_size_kb = file_info.size / 1024\n",
    "    file_mod_time = datetime.fromtimestamp(file_info.modificationTime / 1000)\n",
    "    processed_by = dbutils.notebook.entry_point.getDbutils().notebook().getContext().tags().apply('user')\n",
    "    file_type = \"txt\"  # Define file_type\n",
    "    Layer = \"bronze\"\n",
    "\n",
    "    # start time of the files\n",
    "    start_time = time.time()\n",
    "    log_message(file_path, file_type, file_size_kb, file_mod_time, None, \"PROCESSING\", 0, processed_by, f\"Reading txt File {file_name}\", Layer)\n",
    "    \n",
    "    # Read CSV file\n",
    "    df = spark.read.format(\"csv\").option(\"delimiter\", \"\\t\").load(source_path)\n",
    "    \n",
    "    # Add ingestion_time column\n",
    "    df = df.withColumn(\"ingestion_time\", current_timestamp())\n",
    "    \n",
    "    # Record count and processing time\n",
    "    record_count = df.count()\n",
    "    processing_time_sec = int(time.time() - start_time)\n",
    "\n",
    "    # Write to Parquet\n",
    "\n",
    "    df.write.format(\"parquet\").mode(\"overwrite\").save(bronze_path + file_name)\n",
    "\n",
    "    # Final status\n",
    "    log_message(file_path, file_type, file_size_kb, file_mod_time, record_count, \"COMPLETED\", processing_time_sec, processed_by, f\"Successfully processed {file_path}\", Layer)\n",
    "\n",
    "except Exception as e:\n",
    "    processing_time_sec = int(time.time() - start_time)\n",
    "    log_message(file_path, file_type, file_size_kb, file_mod_time, 0, \"FAILED\", processing_time_sec, processed_by, f\"Error processing file {file_path}: {str(e)}\", Layer)\n",
    "    raise e"
   ]
  },
  {
   "cell_type": "code",
   "execution_count": 0,
   "metadata": {
    "application/vnd.databricks.v1+cell": {
     "cellMetadata": {
      "byteLimit": 2048000,
      "rowLimit": 10000
     },
     "inputWidgets": {},
     "nuid": "5204aaf4-6dc3-4981-bc77-c9b7fdf72797",
     "showTitle": false,
     "tableResultSettingsMap": {},
     "title": ""
    }
   },
   "outputs": [],
   "source": [
    "df_bronze = spark.read.format(\"parquet\").load(bronze_path + file_name)\n",
    "display(df_bronze)"
   ]
  },
  {
   "cell_type": "code",
   "execution_count": 0,
   "metadata": {
    "application/vnd.databricks.v1+cell": {
     "cellMetadata": {
      "byteLimit": 2048000,
      "rowLimit": 10000
     },
     "inputWidgets": {},
     "nuid": "02b99dfe-889e-4135-9152-65aac2f35178",
     "showTitle": false,
     "tableResultSettingsMap": {},
     "title": ""
    }
   },
   "outputs": [],
   "source": [
    "log_path = \"/mnt/mock_prajwal/Clone_mock/bronze/logs\"\n",
    "df_logs = spark.read.format(\"delta\").load(log_path)\n",
    "display(df_logs)"
   ]
  }
 ],
 "metadata": {
  "application/vnd.databricks.v1+notebook": {
   "computePreferences": null,
   "dashboards": [],
   "environmentMetadata": {
    "base_environment": "",
    "environment_version": "2"
   },
   "inputWidgetPreferences": null,
   "language": "python",
   "notebookMetadata": {
    "pythonIndentUnit": 4
   },
   "notebookName": "Policy_details_source1.txt",
   "widgets": {}
  },
  "language_info": {
   "name": "python"
  }
 },
 "nbformat": 4,
 "nbformat_minor": 0
}
