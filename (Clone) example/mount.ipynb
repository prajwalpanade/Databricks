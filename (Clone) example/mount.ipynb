{
 "cells": [
  {
   "cell_type": "markdown",
   "metadata": {
    "application/vnd.databricks.v1+cell": {
     "cellMetadata": {},
     "inputWidgets": {},
     "nuid": "8dbb3dcc-ea5e-4147-b048-8079e89d76f1",
     "showTitle": false,
     "tableResultSettingsMap": {},
     "title": ""
    }
   },
   "source": [
    "## Mounting ADLS with SAS token"
   ]
  },
  {
   "cell_type": "code",
   "execution_count": 0,
   "metadata": {
    "application/vnd.databricks.v1+cell": {
     "cellMetadata": {
      "byteLimit": 2048000,
      "rowLimit": 10000
     },
     "inputWidgets": {},
     "nuid": "b4ee1262-2ab3-4bc9-8c1c-b73fad71b656",
     "showTitle": false,
     "tableResultSettingsMap": {},
     "title": ""
    }
   },
   "outputs": [],
   "source": [
    "#mounting adls with databricks using SAS token\n",
    "dbutils.fs.mount(\n",
    "  source = \"wasbs://mock1insurance@prajwalpanade.blob.core.windows.net/\",\n",
    "  mount_point = \"/mnt/mock_prajwal\",\n",
    "  extra_configs = {\"fs.azure.sas.mock1insurance.prajwalpanade.blob.core.windows.net\": \"sv=2024-11-04&ss=bfqt&srt=sco&sp=rwdlacupyx&se=2025-06-30T14:46:20Z&st=2025-05-12T06:46:20Z&spr=https&sig=dp2mV6bfW%2FaRVachznJm2ZeL%2FEnPmyBmy%2Bn6ROINH0A%3D\"}\n",
    ")"
   ]
  }
 ],
 "metadata": {
  "application/vnd.databricks.v1+notebook": {
   "computePreferences": null,
   "dashboards": [],
   "environmentMetadata": {
    "base_environment": "",
    "environment_version": "2"
   },
   "inputWidgetPreferences": null,
   "language": "python",
   "notebookMetadata": {
    "pythonIndentUnit": 4
   },
   "notebookName": "mount",
   "widgets": {}
  },
  "language_info": {
   "name": "python"
  }
 },
 "nbformat": 4,
 "nbformat_minor": 0
}
