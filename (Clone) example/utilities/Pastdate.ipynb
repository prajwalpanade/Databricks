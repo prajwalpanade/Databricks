{
 "cells": [
  {
   "cell_type": "markdown",
   "metadata": {
    "application/vnd.databricks.v1+cell": {
     "cellMetadata": {},
     "inputWidgets": {},
     "nuid": "e321fcf2-c856-434a-8b2e-da9d46425675",
     "showTitle": false,
     "tableResultSettingsMap": {},
     "title": ""
    }
   },
   "source": [
    "# UDF to filter past date"
   ]
  },
  {
   "cell_type": "code",
   "execution_count": 0,
   "metadata": {
    "application/vnd.databricks.v1+cell": {
     "cellMetadata": {
      "byteLimit": 2048000,
      "rowLimit": 10000
     },
     "inputWidgets": {},
     "nuid": "abb3810c-bf71-478b-a1a9-37d0d86f4fc5",
     "showTitle": false,
     "tableResultSettingsMap": {},
     "title": ""
    }
   },
   "outputs": [],
   "source": [
    "from datetime import datetime\n",
    "\n",
    "def date_format_udf(date_str):\n",
    "    formats = ['%d-%b-%y', '%b %d-%Y', '%m/%d/%Y', '%m/_%d/%Y', '%m/ %b/%Y', '%d-%b-%Y', '%m/%d/%y' ,'%d-%m-%Y']\n",
    "\n",
    "    # Loop through each format to try parsing the string.\n",
    "    for fmt in formats:\n",
    "        try:\n",
    "            if date_str is None:\n",
    "                return None \n",
    "            \n",
    "            # Try parsing the string using the current format\n",
    "            date_obj = datetime.strptime(date_str, fmt)\n",
    "            current_date = datetime.now()\n",
    "            # If the parsed year is in the future, it's likely due to 2-digit year parsing (like '24' becoming 2124)\n",
    "            if date_obj.year > current_date.year:\n",
    "                # Correct it by subtracting 100 years\n",
    "                date_obj = date_obj.replace(year=date_obj.year - 100)\n",
    "            return date_obj.date()\n",
    "        except ValueError:\n",
    "            continue"
   ]
  }
 ],
 "metadata": {
  "application/vnd.databricks.v1+notebook": {
   "computePreferences": null,
   "dashboards": [],
   "environmentMetadata": {
    "base_environment": "",
    "environment_version": "2"
   },
   "inputWidgetPreferences": null,
   "language": "python",
   "notebookMetadata": {
    "pythonIndentUnit": 4
   },
   "notebookName": "Pastdate",
   "widgets": {}
  },
  "language_info": {
   "name": "python"
  }
 },
 "nbformat": 4,
 "nbformat_minor": 0
}
