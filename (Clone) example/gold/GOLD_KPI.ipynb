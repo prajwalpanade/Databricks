{
 "cells": [
  {
   "cell_type": "markdown",
   "metadata": {
    "application/vnd.databricks.v1+cell": {
     "cellMetadata": {},
     "inputWidgets": {},
     "nuid": "cf044f6e-e7f4-4002-837c-3446e674650b",
     "showTitle": false,
     "tableResultSettingsMap": {},
     "title": ""
    }
   },
   "source": [
    "# KPI"
   ]
  },
  {
   "cell_type": "code",
   "execution_count": 0,
   "metadata": {
    "application/vnd.databricks.v1+cell": {
     "cellMetadata": {
      "byteLimit": 2048000,
      "rowLimit": 10000
     },
     "inputWidgets": {},
     "nuid": "e1250d61-8bdf-4d44-806c-a14ee6e21f41",
     "showTitle": false,
     "tableResultSettingsMap": {},
     "title": ""
    }
   },
   "outputs": [],
   "source": [
    "Dim_Doctor = spark.read.table(\"Prajwal_Telecom.Dim_Customer\")\n",
    "Dim_Device = spark.read.table(\"Prajwal_Telecom.Dim_Device\")\n",
    "Fact_Table = spark.read.table(\"Prajwal_Telecom.Fact\")\n",
    "Dim_Tower = spark.read.table(\"Prajwal_Telecom.Dim_Tower\")"
   ]
  },
  {
   "cell_type": "code",
   "execution_count": 0,
   "metadata": {
    "application/vnd.databricks.v1+cell": {
     "cellMetadata": {
      "byteLimit": 2048000,
      "rowLimit": 10000
     },
     "inputWidgets": {},
     "nuid": "7f46c363-e4ba-4002-b2e4-e2bab540e081",
     "showTitle": false,
     "tableResultSettingsMap": {},
     "title": ""
    }
   },
   "outputs": [],
   "source": [
    "Dim_Doctor.printSchema()\n",
    "Fact_Table.printSchema()\n",
    "Dim_Device.printSchema()\n",
    "Dim_Tower.printSchema()"
   ]
  },
  {
   "cell_type": "markdown",
   "metadata": {
    "application/vnd.databricks.v1+cell": {
     "cellMetadata": {},
     "inputWidgets": {},
     "nuid": "483848c8-ece8-461c-b634-4445dd8196ab",
     "showTitle": false,
     "tableResultSettingsMap": {},
     "title": ""
    }
   },
   "source": [
    "## •\tAverage call duration per customer"
   ]
  },
  {
   "cell_type": "code",
   "execution_count": 0,
   "metadata": {
    "application/vnd.databricks.v1+cell": {
     "cellMetadata": {
      "byteLimit": 2048000,
      "rowLimit": 10000
     },
     "inputWidgets": {},
     "nuid": "a51e7952-666f-469c-9dd5-68a1a6ea91e9",
     "showTitle": false,
     "tableResultSettingsMap": {},
     "title": ""
    }
   },
   "outputs": [],
   "source": [
    "from pyspark.sql.functions import col, avg\n",
    "\n",
    "average_call_duration = Fact_Table.groupBy(\"customer_id\") \\\n",
    "    .agg(avg(col(\"call_duration\")).alias(\"Average_Call_Duration\"))\n",
    "\n",
    "average_call_duration = average_call_duration.join(Dim_Doctor, average_call_duration.customer_id == Dim_Doctor.customer_id, \"inner\") \\\n",
    "    .select(Dim_Doctor.customer_name.alias(\"Customer_Name\"), \"Average_Call_Duration\")\n",
    "\n",
    "display(average_call_duration)"
   ]
  },
  {
   "cell_type": "markdown",
   "metadata": {
    "application/vnd.databricks.v1+cell": {
     "cellMetadata": {},
     "inputWidgets": {},
     "nuid": "0fbff918-b56d-4f48-8251-4e7fa1a11136",
     "showTitle": false,
     "tableResultSettingsMap": {},
     "title": ""
    }
   },
   "source": [
    "## •\tTotal number of roaming calls"
   ]
  },
  {
   "cell_type": "code",
   "execution_count": 0,
   "metadata": {
    "application/vnd.databricks.v1+cell": {
     "cellMetadata": {
      "byteLimit": 2048000,
      "rowLimit": 10000
     },
     "inputWidgets": {},
     "nuid": "bfbf0d16-a8a6-48a6-af57-cdf161ab0d4d",
     "showTitle": false,
     "tableResultSettingsMap": {},
     "title": ""
    }
   },
   "outputs": [],
   "source": [
    "from pyspark.sql.functions import col, count\n",
    "\n",
    "roaming_calls = Fact_Table.filter(col(\"roaming_flag\") == \"Y\") \\\n",
    "    .groupBy(\"customer_id\") \\\n",
    "    .agg(count(\"call_id\").alias(\"Total_Roaming_Calls\"))\n",
    "\n",
    "roaming_calls = roaming_calls.join(Dim_Doctor, roaming_calls.customer_id == Dim_Doctor.customer_id, \"inner\") \\\n",
    "    .select(Dim_Doctor.customer_name.alias(\"Customer_Name\"), \"Total_Roaming_Calls\")\n",
    "\n",
    "display(roaming_calls)"
   ]
  },
  {
   "cell_type": "markdown",
   "metadata": {
    "application/vnd.databricks.v1+cell": {
     "cellMetadata": {},
     "inputWidgets": {},
     "nuid": "1dbd63bf-7164-4ac3-87dd-d237a412df0c",
     "showTitle": false,
     "tableResultSettingsMap": {},
     "title": ""
    }
   },
   "source": [
    "## •\tTotal number of calls shorter than 10 seconds"
   ]
  },
  {
   "cell_type": "code",
   "execution_count": 0,
   "metadata": {
    "application/vnd.databricks.v1+cell": {
     "cellMetadata": {
      "byteLimit": 2048000,
      "rowLimit": 10000
     },
     "inputWidgets": {},
     "nuid": "64622ba0-7107-472a-8c45-e45cb8f031f0",
     "showTitle": false,
     "tableResultSettingsMap": {},
     "title": ""
    }
   },
   "outputs": [],
   "source": [
    "from pyspark.sql.functions import col, count\n",
    "\n",
    "short_calls = Fact_Table.filter(col(\"call_duration\") < 10) \\\n",
    "    .groupBy(\"customer_id\") \\\n",
    "    .agg(count(\"call_id\").alias(\"Total_Short_Calls\"))\n",
    "\n",
    "short_calls = short_calls.join(Dim_Doctor, short_calls.customer_id == Dim_Doctor.customer_id, \"inner\") \\\n",
    "    .select(Dim_Doctor.customer_name.alias(\"Customer_Name\"), \"Total_Short_Calls\")\n",
    "\n",
    "display(short_calls)"
   ]
  },
  {
   "cell_type": "markdown",
   "metadata": {
    "application/vnd.databricks.v1+cell": {
     "cellMetadata": {},
     "inputWidgets": {},
     "nuid": "0eb62306-23f4-4d1e-ab6c-047b2e8522e4",
     "showTitle": false,
     "tableResultSettingsMap": {},
     "title": ""
    }
   },
   "source": [
    "## •\tFlag high-value customers based on usage, more than 1000 mins"
   ]
  },
  {
   "cell_type": "code",
   "execution_count": 0,
   "metadata": {
    "application/vnd.databricks.v1+cell": {
     "cellMetadata": {
      "byteLimit": 2048000,
      "rowLimit": 10000
     },
     "inputWidgets": {},
     "nuid": "df8781a9-43e2-45d3-8207-4f9082d93d5b",
     "showTitle": false,
     "tableResultSettingsMap": {},
     "title": ""
    }
   },
   "outputs": [],
   "source": [
    "from pyspark.sql.functions import col, sum, expr\n",
    "\n",
    "high_value_customers = Fact_Table.withColumn(\"call_duration\", col(\"call_duration\") * 60) \\\n",
    "    .groupBy(\"customer_id\") \\\n",
    "    .agg(sum(\"call_duration\").alias(\"Total_Call_Duration\")) \\\n",
    "    .filter(col(\"Total_Call_Duration\") > 1000)\n",
    "\n",
    "high_value_customers = high_value_customers.join(Dim_Doctor, high_value_customers.customer_id == Dim_Doctor.customer_id, \"inner\") \\\n",
    "    .select(Dim_Doctor.customer_name.alias(\"Customer_Name\"), \"Total_Call_Duration\")\n",
    "\n",
    "display(high_value_customers)"
   ]
  },
  {
   "cell_type": "markdown",
   "metadata": {
    "application/vnd.databricks.v1+cell": {
     "cellMetadata": {},
     "inputWidgets": {},
     "nuid": "70a45b12-4e87-47a1-b2e4-7540ecfb381e",
     "showTitle": false,
     "tableResultSettingsMap": {},
     "title": ""
    }
   },
   "source": [
    "## •\tTotal number of missed or incomplete calls"
   ]
  },
  {
   "cell_type": "code",
   "execution_count": 0,
   "metadata": {
    "application/vnd.databricks.v1+cell": {
     "cellMetadata": {
      "byteLimit": 2048000,
      "rowLimit": 10000
     },
     "inputWidgets": {},
     "nuid": "0bc5f90f-39f0-441c-9b73-b7a5024f9b37",
     "showTitle": false,
     "tableResultSettingsMap": {},
     "title": ""
    }
   },
   "outputs": [],
   "source": [
    "from pyspark.sql.functions import col\n",
    "\n",
    "# Filter for missed or incomplete calls\n",
    "missed_incomplete_calls = Fact_Table.filter((col(\"call_duration\") <=1 ))\n",
    "\n",
    "# Count the total number of missed or incomplete calls\n",
    "total_missed_incomplete_calls = missed_incomplete_calls.count()\n",
    "\n",
    "print(str(total_missed_incomplete_calls) + \" calls were missed or incomplete\")"
   ]
  },
  {
   "cell_type": "markdown",
   "metadata": {
    "application/vnd.databricks.v1+cell": {
     "cellMetadata": {},
     "inputWidgets": {},
     "nuid": "028cc945-e949-4c0d-8dfb-6e0c4a96db0d",
     "showTitle": false,
     "tableResultSettingsMap": {},
     "title": ""
    }
   },
   "source": [
    "## •\tDevices older than 2020, mark as outdated device"
   ]
  },
  {
   "cell_type": "code",
   "execution_count": 0,
   "metadata": {
    "application/vnd.databricks.v1+cell": {
     "cellMetadata": {
      "byteLimit": 2048000,
      "rowLimit": 10000
     },
     "inputWidgets": {},
     "nuid": "a3112e20-b272-4f8e-9db4-1b0f632e4900",
     "showTitle": false,
     "tableResultSettingsMap": {},
     "title": ""
    }
   },
   "outputs": [],
   "source": [
    "from pyspark.sql.functions import col, lit\n",
    "\n",
    "# Mark devices older than 2020 as outdated\n",
    "outdated_devices = Dim_Device.withColumn(\"is_outdated\", \n",
    "                                           (col(\"Purchase_Date\") < lit(\"2020-01-01\")).cast(\"boolean\")).select(\"device_id\", \"device_model\", \"is_outdated\").filter(col(\"is_outdated\") == True)\n",
    "\n",
    "display(outdated_devices)"
   ]
  },
  {
   "cell_type": "markdown",
   "metadata": {
    "application/vnd.databricks.v1+cell": {
     "cellMetadata": {},
     "inputWidgets": {},
     "nuid": "83e9797f-b249-4e45-bb29-85bde80b9bae",
     "showTitle": false,
     "tableResultSettingsMap": {},
     "title": ""
    }
   },
   "source": [
    "## •\tCategorized by age brackets"
   ]
  },
  {
   "cell_type": "code",
   "execution_count": 0,
   "metadata": {
    "application/vnd.databricks.v1+cell": {
     "cellMetadata": {
      "byteLimit": 2048000,
      "rowLimit": 10000
     },
     "inputWidgets": {},
     "nuid": "97caabe9-9bb5-4864-ae05-7d602b772f64",
     "showTitle": false,
     "tableResultSettingsMap": {},
     "title": ""
    }
   },
   "outputs": [],
   "source": [
    "from pyspark.sql.functions import col, when\n",
    "\n",
    "# Define age brackets\n",
    "age_brackets = Dim_Device.withColumn(\n",
    "    \"age_bracket\",\n",
    "    when(col(\"Purchase_Date\") >= lit(\"2023-01-01\"), \"0-2 years\")\n",
    "    .when((col(\"Purchase_Date\") >= lit(\"2020-01-01\")) & (col(\"Purchase_Date\") < lit(\"2023-01-01\")), \"3-5 years\")\n",
    "    .otherwise(\"6+ years\")\n",
    ")\n",
    "\n",
    "display(age_brackets.select(\"device_model\", \"Purchase_Date\", \"age_bracket\"))"
   ]
  },
  {
   "cell_type": "markdown",
   "metadata": {
    "application/vnd.databricks.v1+cell": {
     "cellMetadata": {},
     "inputWidgets": {},
     "nuid": "54cf864f-b215-4383-9721-fe3632f25b5b",
     "showTitle": false,
     "tableResultSettingsMap": {},
     "title": ""
    }
   },
   "source": []
  }
 ],
 "metadata": {
  "application/vnd.databricks.v1+notebook": {
   "computePreferences": null,
   "dashboards": [],
   "environmentMetadata": {
    "base_environment": "",
    "environment_version": "2"
   },
   "inputWidgetPreferences": null,
   "language": "python",
   "notebookMetadata": {
    "pythonIndentUnit": 4
   },
   "notebookName": "GOLD_KPI",
   "widgets": {}
  },
  "language_info": {
   "name": "python"
  }
 },
 "nbformat": 4,
 "nbformat_minor": 0
}
