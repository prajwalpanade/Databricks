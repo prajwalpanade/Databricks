{
 "cells": [
  {
   "cell_type": "code",
   "execution_count": 0,
   "metadata": {
    "application/vnd.databricks.v1+cell": {
     "cellMetadata": {
      "byteLimit": 2048000,
      "rowLimit": 10000
     },
     "inputWidgets": {},
     "nuid": "5f47e110-624c-4abd-9c54-2315f7c60e3b",
     "showTitle": false,
     "tableResultSettingsMap": {},
     "title": ""
    }
   },
   "outputs": [],
   "source": [
    "from pyspark.sql.functions import *\n",
    "from pyspark.sql.types import *\n",
    "from pyspark.sql.window import Window\n",
    "from datetime import datetime\n",
    "import os\n",
    "import time"
   ]
  },
  {
   "cell_type": "code",
   "execution_count": 0,
   "metadata": {
    "application/vnd.databricks.v1+cell": {
     "cellMetadata": {
      "byteLimit": 2048000,
      "rowLimit": 10000
     },
     "inputWidgets": {},
     "nuid": "12c56707-1303-45b0-a131-f32765772e84",
     "showTitle": false,
     "tableResultSettingsMap": {},
     "title": ""
    }
   },
   "outputs": [],
   "source": [
    "%run ../logs/logs_notebook"
   ]
  },
  {
   "cell_type": "code",
   "execution_count": 0,
   "metadata": {
    "application/vnd.databricks.v1+cell": {
     "cellMetadata": {
      "byteLimit": 2048000,
      "rowLimit": 10000
     },
     "inputWidgets": {},
     "nuid": "fb643740-0597-4b87-8ea2-e859446841ee",
     "showTitle": false,
     "tableResultSettingsMap": {},
     "title": ""
    }
   },
   "outputs": [],
   "source": [
    "%run ../utilities/Futuredate"
   ]
  },
  {
   "cell_type": "code",
   "execution_count": 0,
   "metadata": {
    "application/vnd.databricks.v1+cell": {
     "cellMetadata": {
      "byteLimit": 2048000,
      "rowLimit": 10000
     },
     "inputWidgets": {},
     "nuid": "0ea5cead-4857-4511-9ac1-d32f33f287cd",
     "showTitle": false,
     "tableResultSettingsMap": {},
     "title": ""
    }
   },
   "outputs": [],
   "source": [
    "%run ../utilities/Pastdate"
   ]
  },
  {
   "cell_type": "code",
   "execution_count": 0,
   "metadata": {
    "application/vnd.databricks.v1+cell": {
     "cellMetadata": {
      "byteLimit": 2048000,
      "rowLimit": 10000
     },
     "inputWidgets": {},
     "nuid": "5348e314-bfca-487e-b920-485959e78e3a",
     "showTitle": false,
     "tableResultSettingsMap": {},
     "title": ""
    }
   },
   "outputs": [],
   "source": [
    "# Define Paths\n",
    "bronze_path = \"/mnt/mock_prajwal/example/bronze/\"\n",
    "silver_path = \"/mnt/mock_prajwal/example/silver/\""
   ]
  },
  {
   "cell_type": "code",
   "execution_count": 0,
   "metadata": {
    "application/vnd.databricks.v1+cell": {
     "cellMetadata": {
      "byteLimit": 2048000,
      "rowLimit": 10000
     },
     "inputWidgets": {},
     "nuid": "b489cbca-291e-4d2b-9e85-f63192e437c8",
     "showTitle": false,
     "tableResultSettingsMap": {},
     "title": ""
    }
   },
   "outputs": [],
   "source": [
    "# try block to handle exceptions\n",
    "try:\n",
    "    # check if the bronze path exists\n",
    "    if dbutils.fs.ls(bronze_path):\n",
    "        # get the list of files in the bronze path\n",
    "        files = [file.name for file in dbutils.fs.ls(bronze_path)]\n",
    "        \n",
    "        # check if 'CustMaster/' exists in the files\n",
    "        if 'CallRecords/' in files:\n",
    "            # set file path and other file details\n",
    "            file_path = bronze_path + \"CallRecords\"\n",
    "            file_name = os.path.basename(file_path)\n",
    "            file_extension = file_name.split(\".\")[-1]\n",
    "            file_name = file_name.split(\".\")[0]\n",
    "            file_info = dbutils.fs.ls(file_path)[0]\n",
    "            file_size_kb = file_info.size / 1024\n",
    "            file_mod_time = datetime.fromtimestamp(file_info.modificationTime / 1000)\n",
    "            processed_by = dbutils.notebook.entry_point.getDbutils().notebook().getContext().tags().apply('user')\n",
    "            file_type = \"parquet\"  # Define file_type\n",
    "            Layer = \"silver\"\n",
    "            \n",
    "            # start time of the files\n",
    "            start_time = time.time()\n",
    "            log_message(file_path, file_type, file_size_kb, file_mod_time, None, \"PROCESSING\", 0, processed_by, f\"Reading Parquet File {file_name}\", Layer)\n",
    "            \n",
    "            # Load the parquet file into a DataFrame\n",
    "            df = spark.read.format(\"parquet\").load(bronze_path + \"CallRecords\")\n",
    "\n",
    "            #lower all column\n",
    "            df = df.toDF(*[c.lower().replace(\" \", \"_\") for c in df.columns])\n",
    "\n",
    "            futuredate = udf(date_format_udf_Policy_future, DateType())\n",
    "\n",
    "            df = df.withColumn(\"date_id\", futuredate(col(\"date_id\")))\n",
    "\n",
    "\n",
    "            df = df.withColumn(\"call_start_time\", when(col(\"call_start_time\") == \"15\", lit(\"15:00:00\")).otherwise(col(\"call_start_time\")))\n",
    "\n",
    "            df_cleaned = df.withColumn(\"call_start_time\", expr(\"\"\"LPAD(call_start_time, 8, '0') \"\"\")) \\\n",
    "                        .withColumn(\"call_end_time\", expr(\"\"\"LPAD(call_end_time, 8, '0') \"\"\"))\n",
    "\n",
    "            df_df = df_cleaned.withColumn(\"call_start_time\", to_timestamp(col(\"call_start_time\"), \"HH:mm:ss\"))\n",
    "            df_df = df_df.withColumn(\"call_end_time\", to_timestamp(col(\"call_end_time\"), \"HH:mm:ss\"))\n",
    "\n",
    "\n",
    "            df_df = df_df.withColumn(\"call_duration\", (col(\"call_duration\").cast(\"int\") / 60))  # converted call_duration columns in min\n",
    "\n",
    "            # transformaing call_type columns\n",
    "            df_df = df_df.withColumn(\"call_type\", regexp_replace(\"call_type\", \"Vo ice\", \"Voice\"))\n",
    "            df_df = df_df.withColumn(\"call_type\", regexp_replace(\"call_type\", \"SM S| SMS| SMS_|S MS |SMS_\", \"SMS\"))\n",
    "\n",
    "            df_df = df_df.withColumn(\"roaming_flag\", when(col(\"roaming_flag\").isNull(), \"N\").otherwise(col(\"roaming_flag\"))) # replaced null values\n",
    "\n",
    "            df_df = df_df.withColumn(\"charge_amount\", col(\"charge_amount\").cast(\"int\")) # converted charge amount to integer\n",
    "\n",
    "            # Record count and processing time\n",
    "            record_count = df_df.count()\n",
    "            processing_time_sec = int(time.time() - start_time)\n",
    "            \n",
    "            # Final status\n",
    "            log_message(file_path, file_type, file_size_kb, file_mod_time, record_count, \"COMPLETED\", processing_time_sec, processed_by, f\"Successfully processed {file_path}\", Layer)\n",
    "\n",
    "            df_df.write.mode(\"overwrite\").format(\"delta\").partitionBy(\"ingestion_time\").option(\"overwriteSchema\", \"true\").save(silver_path + \"CallRecords\")\n",
    "# handle exceptions\n",
    "except Exception as e:\n",
    "    processing_time_sec = int(time.time() - start_time)\n",
    "    log_message(file_path, file_type, file_size_kb, file_mod_time, 0, \"FAILED\", processing_time_sec, processed_by, f\"Error processing file {file_path}: {str(e)}\", Layer)\n",
    "    raise e\n",
    "\n"
   ]
  },
  {
   "cell_type": "code",
   "execution_count": 0,
   "metadata": {
    "application/vnd.databricks.v1+cell": {
     "cellMetadata": {
      "byteLimit": 2048000,
      "rowLimit": 10000
     },
     "inputWidgets": {},
     "nuid": "a69a4b26-0643-4a8a-9331-2fc1c29ddbaa",
     "showTitle": false,
     "tableResultSettingsMap": {},
     "title": ""
    }
   },
   "outputs": [],
   "source": [
    "# Read the data from the silver layer\n",
    "df_silver = spark.read.format(\"delta\").load(silver_path + \"CallRecords\")\n",
    "display(df_silver)"
   ]
  },
  {
   "cell_type": "code",
   "execution_count": 0,
   "metadata": {
    "application/vnd.databricks.v1+cell": {
     "cellMetadata": {
      "byteLimit": 2048000,
      "rowLimit": 10000
     },
     "inputWidgets": {},
     "nuid": "962ca318-c988-441c-904e-3c1be594fe93",
     "showTitle": false,
     "tableResultSettingsMap": {},
     "title": ""
    }
   },
   "outputs": [],
   "source": [
    "log_path = \"/mnt/mock_prajwal/example/logs\"\n",
    "df_logs = spark.read.format(\"delta\").load(log_path)\n",
    "df_logs_today = df_logs.filter(df_logs['processed_time'].cast(\"date\") == \"2025-05-21\")\n",
    "display(df_logs)"
   ]
  },
  {
   "cell_type": "code",
   "execution_count": 0,
   "metadata": {
    "application/vnd.databricks.v1+cell": {
     "cellMetadata": {
      "byteLimit": 2048000,
      "rowLimit": 10000
     },
     "inputWidgets": {},
     "nuid": "af5a169c-96c8-4db8-8a81-690c4775f534",
     "showTitle": false,
     "tableResultSettingsMap": {},
     "title": ""
    }
   },
   "outputs": [],
   "source": [
    "# Read the data from the bronze layer\n",
    "df_bronze = spark.read.format(\"parquet\").load(bronze_path + \"CallRecords\")\n",
    "\n",
    "# Count the records in bronze and silver layers\n",
    "bronze_count = df_bronze.count()\n",
    "silver_count = df_silver.count()\n",
    "\n",
    "# Display the counts\n",
    "counts_df = spark.createDataFrame([(bronze_count, silver_count)], [\"bronze_count\", \"silver_count\"])\n",
    "display(counts_df)"
   ]
  },
  {
   "cell_type": "code",
   "execution_count": 0,
   "metadata": {
    "application/vnd.databricks.v1+cell": {
     "cellMetadata": {},
     "inputWidgets": {},
     "nuid": "9bf5b439-72ce-4f34-b279-3b2e09154a3f",
     "showTitle": false,
     "tableResultSettingsMap": {},
     "title": ""
    }
   },
   "outputs": [],
   "source": []
  },
  {
   "cell_type": "code",
   "execution_count": 0,
   "metadata": {
    "application/vnd.databricks.v1+cell": {
     "cellMetadata": {},
     "inputWidgets": {},
     "nuid": "49af741b-08e0-4a4c-bf71-08f1cf89a335",
     "showTitle": false,
     "tableResultSettingsMap": {},
     "title": ""
    }
   },
   "outputs": [],
   "source": []
  },
  {
   "cell_type": "code",
   "execution_count": 0,
   "metadata": {
    "application/vnd.databricks.v1+cell": {
     "cellMetadata": {},
     "inputWidgets": {},
     "nuid": "0cbb2680-ee9a-49bb-84a9-f8d35e0c16a7",
     "showTitle": false,
     "tableResultSettingsMap": {},
     "title": ""
    }
   },
   "outputs": [],
   "source": []
  },
  {
   "cell_type": "code",
   "execution_count": 0,
   "metadata": {
    "application/vnd.databricks.v1+cell": {
     "cellMetadata": {},
     "inputWidgets": {},
     "nuid": "e43342d2-dc3a-4d55-9ec9-1c925f5d9775",
     "showTitle": false,
     "tableResultSettingsMap": {},
     "title": ""
    }
   },
   "outputs": [],
   "source": []
  },
  {
   "cell_type": "code",
   "execution_count": 0,
   "metadata": {
    "application/vnd.databricks.v1+cell": {
     "cellMetadata": {
      "byteLimit": 2048000,
      "rowLimit": 10000
     },
     "inputWidgets": {},
     "nuid": "9a4f35c0-ad76-4b18-a35c-813d977e5e54",
     "showTitle": false,
     "tableResultSettingsMap": {},
     "title": ""
    }
   },
   "outputs": [],
   "source": []
  },
  {
   "cell_type": "code",
   "execution_count": 0,
   "metadata": {
    "application/vnd.databricks.v1+cell": {
     "cellMetadata": {
      "byteLimit": 2048000,
      "rowLimit": 10000
     },
     "inputWidgets": {},
     "nuid": "e8ebb2a2-dee2-4145-97f1-0c2c2d64a786",
     "showTitle": false,
     "tableResultSettingsMap": {},
     "title": ""
    }
   },
   "outputs": [],
   "source": [
    "# df = df.toDF(*[c.lower().replace(\" \", \"_\") for c in df.columns])\n",
    "\n",
    "# futuredate = udf(date_format_udf_Policy_future, DateType())\n",
    "\n",
    "# df = df.withColumn(\"date_id\", futuredate(col(\"date_id\")))\n",
    "\n",
    "\n",
    "# df = df.withColumn(\"call_start_time\", when(col(\"call_start_time\") == \"15\", lit(\"15:00:00\")).otherwise(col(\"call_start_time\")))\n",
    "\n",
    "# df_cleaned = df.withColumn(\"call_start_time\", expr(\"\"\"LPAD(call_start_time, 8, '0') \"\"\")) \\\n",
    "#               .withColumn(\"call_end_time\", expr(\"\"\"LPAD(call_end_time, 8, '0') \"\"\"))\n",
    "\n",
    "# df_df = df_cleaned.withColumn(\"call_start_time\", to_timestamp(col(\"call_start_time\"), \"HH:mm:ss\"))\n",
    "# df_df = df_df.withColumn(\"call_end_time\", to_timestamp(col(\"call_end_time\"), \"HH:mm:ss\"))\n",
    "\n",
    "\n",
    "# df_df = df_df.withColumn(\"call_duration\", (col(\"call_duration\").cast(\"int\") / 60))  # converted call_duration columns in min\n",
    "\n",
    "# # transformaing call_type columns\n",
    "# df_df = df_df.withColumn(\"call_type\", regexp_replace(\"call_type\", \"Vo ice\", \"Voice\"))\n",
    "# df_df = df_df.withColumn(\"call_type\", regexp_replace(\"call_type\", \"SM S| SMS| SMS_|S MS |SMS_\", \"SMS\"))\n",
    "\n",
    "# df_df = df_df.withColumn(\"roaming_flag\", when(col(\"roaming_flag\").isNull(), \"N\").otherwise(col(\"roaming_flag\"))) # replaced null values\n",
    "\n",
    "# df_df = df_df.withColumn(\"charge_amount\", col(\"charge_amount\").cast(\"int\")) # converted charge amount to integer\n",
    "\n"
   ]
  },
  {
   "cell_type": "code",
   "execution_count": 0,
   "metadata": {
    "application/vnd.databricks.v1+cell": {
     "cellMetadata": {
      "byteLimit": 2048000,
      "rowLimit": 10000
     },
     "inputWidgets": {},
     "nuid": "22353813-2b69-457d-9ee8-4a95f51ff82c",
     "showTitle": false,
     "tableResultSettingsMap": {},
     "title": ""
    }
   },
   "outputs": [],
   "source": [
    "# from pyspark.sql.functions import col, sum\n",
    "\n",
    "# null_counts = df_df.select([sum(col(c).isNull().cast(\"int\")).alias(c) for c in df_df.columns])\n",
    "# display(null_counts)"
   ]
  },
  {
   "cell_type": "code",
   "execution_count": 0,
   "metadata": {
    "application/vnd.databricks.v1+cell": {
     "cellMetadata": {
      "byteLimit": 2048000,
      "rowLimit": 10000
     },
     "inputWidgets": {},
     "nuid": "768adfdd-5201-46bc-a1e8-297f1cd5ea56",
     "showTitle": false,
     "tableResultSettingsMap": {},
     "title": ""
    }
   },
   "outputs": [],
   "source": []
  }
 ],
 "metadata": {
  "application/vnd.databricks.v1+notebook": {
   "computePreferences": null,
   "dashboards": [],
   "environmentMetadata": {
    "base_environment": "",
    "environment_version": "2"
   },
   "inputWidgetPreferences": null,
   "language": "python",
   "notebookMetadata": {
    "pythonIndentUnit": 4
   },
   "notebookName": "CallRecords",
   "widgets": {}
  },
  "language_info": {
   "name": "python"
  }
 },
 "nbformat": 4,
 "nbformat_minor": 0
}
