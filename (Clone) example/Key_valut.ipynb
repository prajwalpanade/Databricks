{
 "cells": [
  {
   "cell_type": "code",
   "execution_count": 0,
   "metadata": {
    "application/vnd.databricks.v1+cell": {
     "cellMetadata": {
      "byteLimit": 2048000,
      "rowLimit": 10000
     },
     "inputWidgets": {},
     "nuid": "38fcea5c-e6c2-45d6-aefb-8ab891d52ed8",
     "showTitle": false,
     "tableResultSettingsMap": {},
     "title": ""
    }
   },
   "outputs": [],
   "source": [
    "storageContainer = 'mock1insurance'\n",
    "storageAccount = 'prajwalpanade'\n",
    "landingMountPoint = '/mnt/Prajwal_Key_vault'\n",
    "databricksScopeName = 'keertrainbaykvscope'\n",
    "StorageSAStoken = 'retailhacksas'\n",
    "\n",
    "sas_token = dbutils.secrets.get(scope=databricksScopeName, key=StorageSAStoken)\n",
    "\n",
    "dbutils.fs.mount(\n",
    "    source='wasbs://{}@{}.blob.core.windows.net'.format(storageContainer, storageAccount),\n",
    "    mount_point=landingMountPoint,\n",
    "    extra_configs={'fs.azure.sas.{}.{}.blob.core.windows.net'.format(storageContainer, storageAccount): sas_token}\n",
    ")\n",
    "print('Mounted the storage account successfully')\n",
    "display(dbutils.fs.mounts())"
   ]
  },
  {
   "cell_type": "code",
   "execution_count": 0,
   "metadata": {
    "application/vnd.databricks.v1+cell": {
     "cellMetadata": {
      "byteLimit": 2048000,
      "rowLimit": 10000
     },
     "inputWidgets": {},
     "nuid": "14431f4c-710a-4686-a20d-71859d04ff4a",
     "showTitle": false,
     "tableResultSettingsMap": {},
     "title": ""
    }
   },
   "outputs": [],
   "source": [
    "dbutils.secrets.listScopes()"
   ]
  },
  {
   "cell_type": "code",
   "execution_count": 0,
   "metadata": {
    "application/vnd.databricks.v1+cell": {
     "cellMetadata": {
      "byteLimit": 2048000,
      "rowLimit": 10000
     },
     "inputWidgets": {},
     "nuid": "bf6f600c-e673-4f26-85a1-a9d6402f6a4b",
     "showTitle": false,
     "tableResultSettingsMap": {},
     "title": ""
    }
   },
   "outputs": [],
   "source": [
    "dbutils.fs.ls('/mnt/Prajwal_Key_vault/bronze')"
   ]
  },
  {
   "cell_type": "code",
   "execution_count": 0,
   "metadata": {
    "application/vnd.databricks.v1+cell": {
     "cellMetadata": {},
     "inputWidgets": {},
     "nuid": "8ba7193a-955d-42e7-bfb3-ba602f7c3459",
     "showTitle": false,
     "tableResultSettingsMap": {},
     "title": ""
    }
   },
   "outputs": [],
   "source": []
  }
 ],
 "metadata": {
  "application/vnd.databricks.v1+notebook": {
   "computePreferences": null,
   "dashboards": [],
   "environmentMetadata": {
    "base_environment": "",
    "environment_version": "2"
   },
   "inputWidgetPreferences": null,
   "language": "python",
   "notebookMetadata": {
    "pythonIndentUnit": 4
   },
   "notebookName": "Key_valut",
   "widgets": {}
  },
  "language_info": {
   "name": "python"
  }
 },
 "nbformat": 4,
 "nbformat_minor": 0
}
